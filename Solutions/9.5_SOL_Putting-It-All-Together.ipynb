{
 "cells": [
  {
   "cell_type": "markdown",
   "id": "935a62f9",
   "metadata": {},
   "source": [
    "# BUDS Report 09.5: Putting It All Together\n",
    "\n",
    "### Table of Contents\n",
    "\n",
    "1. <a href='#section 1'>An Actual Last Look at the CES Data</a>\n",
    "\n",
    "2. <a href='#section 2'>You've Done a Lot!</a>"
   ]
  },
  {
   "cell_type": "code",
   "execution_count": 1,
   "id": "b911a291",
   "metadata": {},
   "outputs": [],
   "source": [
    "# run this cell\n",
    "\n",
    "from datascience import *\n",
    "import numpy as np\n",
    "import math\n",
    "import matplotlib.pyplot as plt\n",
    "plt.style.use(\"fivethirtyeight\")\n",
    "%matplotlib inline"
   ]
  },
  {
   "cell_type": "markdown",
   "id": "2f123412",
   "metadata": {},
   "source": [
    "## 1. An Actual Last Look at the CES Data <a id='section 1'></a>\n",
    "\n",
    "Run the next cell so that we can load the CalEnviroScreen dataset one last time."
   ]
  },
  {
   "cell_type": "code",
   "execution_count": 2,
   "id": "aabbf88d",
   "metadata": {},
   "outputs": [
    {
     "data": {
      "text/html": [
       "<table border=\"1\" class=\"dataframe\">\n",
       "    <thead>\n",
       "        <tr>\n",
       "            <th>Census.Tract</th> <th>CES.3.0.Score</th> <th>Total.Population</th> <th>California.County</th> <th>Hispanic....</th> <th>White....</th> <th>African.American....</th> <th>Native.American....</th> <th>Asian.American....</th> <th>Other....</th> <th>ZIP</th> <th>Longitude</th> <th>Latitude</th> <th>Ozone</th> <th>PM2.5</th> <th>Diesel.PM</th> <th>Drinking.Water</th> <th>Pesticides</th> <th>Tox..Release</th> <th>Traffic</th> <th>Cleanup.Sites</th> <th>Groundwater.Threats</th> <th>Haz..Waste</th> <th>Imp..Water.Bodies</th> <th>Solid.Waste</th> <th>Pollution.Burden</th> <th>Asthma</th> <th>Low.Birth.Weight</th> <th>Poverty</th> <th>Unemployment</th>\n",
       "        </tr>\n",
       "    </thead>\n",
       "    <tbody>\n",
       "        <tr>\n",
       "            <td>6019001100  </td> <td>94.09        </td> <td>3174            </td> <td>Fresno           </td> <td>65.3        </td> <td>4.2      </td> <td>24.6                </td> <td>0.5                </td> <td>3.5               </td> <td>1.8      </td> <td>93706</td> <td>-119.782 </td> <td>36.7097 </td> <td>0.065</td> <td>15.4 </td> <td>48.524   </td> <td>681.2         </td> <td>2.75      </td> <td>18552       </td> <td>909.14 </td> <td>80.5         </td> <td>45.75              </td> <td>0.795     </td> <td>0                </td> <td>21.75      </td> <td>79.96           </td> <td>131.64</td> <td>7.44            </td> <td>76.3   </td> <td>17.6        </td>\n",
       "        </tr>\n",
       "        <tr>\n",
       "            <td>6071001600  </td> <td>90.68        </td> <td>6133            </td> <td>San Bernardino   </td> <td>91.1        </td> <td>5.8      </td> <td>0.7                 </td> <td>0.3                </td> <td>1.4               </td> <td>0.7      </td> <td>91761</td> <td>-117.618 </td> <td>34.0578 </td> <td>0.062</td> <td>13.31</td> <td>38.556   </td> <td>904.66        </td> <td>1.37      </td> <td>7494.24     </td> <td>782.26 </td> <td>66.2         </td> <td>36                 </td> <td>1.25      </td> <td>5                </td> <td>12         </td> <td>81.19           </td> <td>60.66 </td> <td>7.04            </td> <td>72.5   </td> <td>12.3        </td>\n",
       "        </tr>\n",
       "        <tr>\n",
       "            <td>6019000200  </td> <td>85.97        </td> <td>3167            </td> <td>Fresno           </td> <td>63.6        </td> <td>5.3      </td> <td>18.9                </td> <td>0.6                </td> <td>9.8               </td> <td>1.8      </td> <td>93706</td> <td>-119.806 </td> <td>36.7355 </td> <td>0.062</td> <td>15.4 </td> <td>47.445   </td> <td>681.2         </td> <td>3.03      </td> <td>12454.9     </td> <td>576.52 </td> <td>22           </td> <td>30.25              </td> <td>0.2       </td> <td>0                </td> <td>2.5        </td> <td>71.16           </td> <td>142.12</td> <td>10.16           </td> <td>86.8   </td> <td>16.1        </td>\n",
       "        </tr>\n",
       "        <tr>\n",
       "            <td>6077000801  </td> <td>82.49        </td> <td>6692            </td> <td>San Joaquin      </td> <td>57.4        </td> <td>6        </td> <td>12.5                </td> <td>0.3                </td> <td>20.9              </td> <td>2.8      </td> <td>95203</td> <td>-121.315 </td> <td>37.9405 </td> <td>0.046</td> <td>12.54</td> <td>24.117   </td> <td>278.76        </td> <td>12.93     </td> <td>2387.78     </td> <td>1305.01</td> <td>50.1         </td> <td>132.1              </td> <td>0.795     </td> <td>19               </td> <td>27         </td> <td>74.48           </td> <td>142.17</td> <td>6.23            </td> <td>61.3   </td> <td>19.6        </td>\n",
       "        </tr>\n",
       "        <tr>\n",
       "            <td>6019001500  </td> <td>82.03        </td> <td>2206            </td> <td>Fresno           </td> <td>71.8        </td> <td>21.4     </td> <td>1.2                 </td> <td>0.5                </td> <td>4.5               </td> <td>0.6      </td> <td>93725</td> <td>-119.718 </td> <td>36.6816 </td> <td>0.065</td> <td>15.4 </td> <td>18.846   </td> <td>1000.24       </td> <td>3518.41   </td> <td>21790.7     </td> <td>435.16 </td> <td>60           </td> <td>54.2               </td> <td>13.1      </td> <td>0                </td> <td>50.8       </td> <td>80.2            </td> <td>90.48 </td> <td>4.5             </td> <td>66.4   </td> <td>18.6        </td>\n",
       "        </tr>\n",
       "        <tr>\n",
       "            <td>6037204920  </td> <td>80.73        </td> <td>2598            </td> <td>Los Angeles      </td> <td>98.1        </td> <td>1.2      </td> <td>0.1                 </td> <td>0.1                </td> <td>0.2               </td> <td>0.3      </td> <td>90023</td> <td>-118.197 </td> <td>34.0175 </td> <td>0.046</td> <td>12.89</td> <td>56.52    </td> <td>714.48        </td> <td>0         </td> <td>39040.2     </td> <td>2943.44</td> <td>36.7         </td> <td>25                 </td> <td>4.93      </td> <td>7                </td> <td>3.85       </td> <td>76.73           </td> <td>68.74 </td> <td>7.35            </td> <td>66.4   </td> <td>11.6        </td>\n",
       "        </tr>\n",
       "        <tr>\n",
       "            <td>6077000300  </td> <td>80.18        </td> <td>2396            </td> <td>San Joaquin      </td> <td>51.8        </td> <td>16.4     </td> <td>16.4                </td> <td>1.3                </td> <td>9.9               </td> <td>4.1      </td> <td>95203</td> <td>-121.302 </td> <td>37.9524 </td> <td>0.046</td> <td>13.44</td> <td>21.76    </td> <td>278.76        </td> <td>172.49    </td> <td>707.536     </td> <td>885.52 </td> <td>89.7         </td> <td>149.05             </td> <td>0.135     </td> <td>14               </td> <td>2.3        </td> <td>68.27           </td> <td>169.56</td> <td>8.36            </td> <td>76.2   </td> <td>14.4        </td>\n",
       "        </tr>\n",
       "        <tr>\n",
       "            <td>6019001000  </td> <td>80.13        </td> <td>4106            </td> <td>Fresno           </td> <td>52.7        </td> <td>2.7      </td> <td>28.7                </td> <td>0.4                </td> <td>14.3              </td> <td>1.2      </td> <td>93706</td> <td>-119.804 </td> <td>36.6978 </td> <td>0.065</td> <td>15.4 </td> <td>20.848   </td> <td>788.02        </td> <td>1435.93   </td> <td>6996.96     </td> <td>243.54 </td> <td>15.45        </td> <td>20                 </td> <td>0         </td> <td>0                </td> <td>10         </td> <td>66.88           </td> <td>142.28</td> <td>7.83            </td> <td>74.5   </td> <td>20          </td>\n",
       "        </tr>\n",
       "        <tr>\n",
       "            <td>6037206050  </td> <td>79.03        </td> <td>2146            </td> <td>Los Angeles      </td> <td>79.3        </td> <td>8.9      </td> <td>4.1                 </td> <td>0.1                </td> <td>7.2               </td> <td>0.5      </td> <td>90023</td> <td>-118.224 </td> <td>34.0299 </td> <td>0.046</td> <td>12.89</td> <td>53.958   </td> <td>664.07        </td> <td>0         </td> <td>10378.2     </td> <td>2810.82</td> <td>36.05        </td> <td>16.25              </td> <td>10.025    </td> <td>7                </td> <td>22.1       </td> <td>77.09           </td> <td>58.03 </td> <td>6.71            </td> <td>75.7   </td> <td>28.5        </td>\n",
       "        </tr>\n",
       "        <tr>\n",
       "            <td>6019000400  </td> <td>78.53        </td> <td>6343            </td> <td>Fresno           </td> <td>78          </td> <td>9.1      </td> <td>5.8                 </td> <td>0.8                </td> <td>5.3               </td> <td>0.9      </td> <td>93721</td> <td>-119.776 </td> <td>36.7277 </td> <td>0.065</td> <td>15.4 </td> <td>54.356   </td> <td>681.2         </td> <td>114.96    </td> <td>125384      </td> <td>815.36 </td> <td>15.95        </td> <td>13.5               </td> <td>0.755     </td> <td>0                </td> <td>0.5        </td> <td>73.89           </td> <td>107.8 </td> <td>4.79            </td> <td>83.4   </td> <td>23.5        </td>\n",
       "        </tr>\n",
       "    </tbody>\n",
       "</table>\n",
       "<p>... (7701 rows omitted)</p>"
      ],
      "text/plain": [
       "Census.Tract | CES.3.0.Score | Total.Population | California.County | Hispanic.... | White.... | African.American.... | Native.American.... | Asian.American.... | Other.... | ZIP   | Longitude | Latitude | Ozone | PM2.5 | Diesel.PM | Drinking.Water | Pesticides | Tox..Release | Traffic | Cleanup.Sites | Groundwater.Threats | Haz..Waste | Imp..Water.Bodies | Solid.Waste | Pollution.Burden | Asthma | Low.Birth.Weight | Poverty | Unemployment\n",
       "6019001100   | 94.09         | 3174             | Fresno            | 65.3         | 4.2       | 24.6                 | 0.5                 | 3.5                | 1.8       | 93706 | -119.782  | 36.7097  | 0.065 | 15.4  | 48.524    | 681.2          | 2.75       | 18552        | 909.14  | 80.5          | 45.75               | 0.795      | 0                 | 21.75       | 79.96            | 131.64 | 7.44             | 76.3    | 17.6\n",
       "6071001600   | 90.68         | 6133             | San Bernardino    | 91.1         | 5.8       | 0.7                  | 0.3                 | 1.4                | 0.7       | 91761 | -117.618  | 34.0578  | 0.062 | 13.31 | 38.556    | 904.66         | 1.37       | 7494.24      | 782.26  | 66.2          | 36                  | 1.25       | 5                 | 12          | 81.19            | 60.66  | 7.04             | 72.5    | 12.3\n",
       "6019000200   | 85.97         | 3167             | Fresno            | 63.6         | 5.3       | 18.9                 | 0.6                 | 9.8                | 1.8       | 93706 | -119.806  | 36.7355  | 0.062 | 15.4  | 47.445    | 681.2          | 3.03       | 12454.9      | 576.52  | 22            | 30.25               | 0.2        | 0                 | 2.5         | 71.16            | 142.12 | 10.16            | 86.8    | 16.1\n",
       "6077000801   | 82.49         | 6692             | San Joaquin       | 57.4         | 6         | 12.5                 | 0.3                 | 20.9               | 2.8       | 95203 | -121.315  | 37.9405  | 0.046 | 12.54 | 24.117    | 278.76         | 12.93      | 2387.78      | 1305.01 | 50.1          | 132.1               | 0.795      | 19                | 27          | 74.48            | 142.17 | 6.23             | 61.3    | 19.6\n",
       "6019001500   | 82.03         | 2206             | Fresno            | 71.8         | 21.4      | 1.2                  | 0.5                 | 4.5                | 0.6       | 93725 | -119.718  | 36.6816  | 0.065 | 15.4  | 18.846    | 1000.24        | 3518.41    | 21790.7      | 435.16  | 60            | 54.2                | 13.1       | 0                 | 50.8        | 80.2             | 90.48  | 4.5              | 66.4    | 18.6\n",
       "6037204920   | 80.73         | 2598             | Los Angeles       | 98.1         | 1.2       | 0.1                  | 0.1                 | 0.2                | 0.3       | 90023 | -118.197  | 34.0175  | 0.046 | 12.89 | 56.52     | 714.48         | 0          | 39040.2      | 2943.44 | 36.7          | 25                  | 4.93       | 7                 | 3.85        | 76.73            | 68.74  | 7.35             | 66.4    | 11.6\n",
       "6077000300   | 80.18         | 2396             | San Joaquin       | 51.8         | 16.4      | 16.4                 | 1.3                 | 9.9                | 4.1       | 95203 | -121.302  | 37.9524  | 0.046 | 13.44 | 21.76     | 278.76         | 172.49     | 707.536      | 885.52  | 89.7          | 149.05              | 0.135      | 14                | 2.3         | 68.27            | 169.56 | 8.36             | 76.2    | 14.4\n",
       "6019001000   | 80.13         | 4106             | Fresno            | 52.7         | 2.7       | 28.7                 | 0.4                 | 14.3               | 1.2       | 93706 | -119.804  | 36.6978  | 0.065 | 15.4  | 20.848    | 788.02         | 1435.93    | 6996.96      | 243.54  | 15.45         | 20                  | 0          | 0                 | 10          | 66.88            | 142.28 | 7.83             | 74.5    | 20\n",
       "6037206050   | 79.03         | 2146             | Los Angeles       | 79.3         | 8.9       | 4.1                  | 0.1                 | 7.2                | 0.5       | 90023 | -118.224  | 34.0299  | 0.046 | 12.89 | 53.958    | 664.07         | 0          | 10378.2      | 2810.82 | 36.05         | 16.25               | 10.025     | 7                 | 22.1        | 77.09            | 58.03  | 6.71             | 75.7    | 28.5\n",
       "6019000400   | 78.53         | 6343             | Fresno            | 78           | 9.1       | 5.8                  | 0.8                 | 5.3                | 0.9       | 93721 | -119.776  | 36.7277  | 0.065 | 15.4  | 54.356    | 681.2          | 114.96     | 125384       | 815.36  | 15.95         | 13.5                | 0.755      | 0                 | 0.5         | 73.89            | 107.8  | 4.79             | 83.4    | 23.5\n",
       "... (7701 rows omitted)"
      ]
     },
     "execution_count": 2,
     "metadata": {},
     "output_type": "execute_result"
    }
   ],
   "source": [
    "ces_data = Table.read_table(\"ces_data_v2.csv\")\n",
    "\n",
    "# this does a bit of data cleaning\n",
    "# don't worry about understanding these next few lines of code\n",
    "for i in np.arange(ces_data.num_columns):\n",
    "    if i != 3 and i != 11:\n",
    "        ces_data = ces_data.where(i, are.above_or_equal_to(0))\n",
    "ces_data"
   ]
  },
  {
   "cell_type": "markdown",
   "id": "2042b61d",
   "metadata": {},
   "source": [
    "It might make sense that counties that are inland feel the effects of pollution more so than those that are on the coast. The Central Valley doesn't have as much air circulation as the coast and many pesticides are used there. Let's examine this possibility by comparing the most populated Central Valley counties with the Central Coast counties.\n",
    "\n",
    "<div class=\"alert alert-warning\">\n",
    "    <b>PRACTICE:</b> First, let's create a table called <code>central_coast</code> that contains some of the Central Coast counties. Similarly, we'll create another table called <code>central_valley</code> with a few Central Valley counties.\n",
    "    \n",
    "Use the following counties for these tables.\n",
    "<ul>\n",
    "    <li><b>Central Coast:</b> Ventura, Santa Barbara, San Luis Obispo, Monterey, San Benito, and Santa Cruz\n",
    "    <li><b>Central Valley:</b> Kern, Fresno, Sacramento, and Shasta\n",
    "    </ul>\n",
    "\n",
    "Make arrays containing these counties and assign them to the corresponding names. You can use these arrays in your <code>where</code> predicate.\n",
    "    \n",
    "Be sure to find a predicate that allows you to keep any row whose county is <i>contained</i> in the corresponding array.\n",
    "    </div>"
   ]
  },
  {
   "cell_type": "code",
   "execution_count": null,
   "id": "7afa24af",
   "metadata": {},
   "outputs": [],
   "source": [
    "central_coast_counties = make_array(...)\n",
    "central_coast = ces_data.where(...)\n",
    "central_coast"
   ]
  },
  {
   "cell_type": "code",
   "execution_count": null,
   "id": "18da2a58",
   "metadata": {},
   "outputs": [],
   "source": [
    "central_valley_counties = ...\n",
    "central_valley = ...\n",
    "central_valley"
   ]
  },
  {
   "cell_type": "code",
   "execution_count": 3,
   "id": "f92fe9d3",
   "metadata": {},
   "outputs": [
    {
     "data": {
      "text/html": [
       "<table border=\"1\" class=\"dataframe\">\n",
       "    <thead>\n",
       "        <tr>\n",
       "            <th>Census.Tract</th> <th>CES.3.0.Score</th> <th>Total.Population</th> <th>California.County</th> <th>Hispanic....</th> <th>White....</th> <th>African.American....</th> <th>Native.American....</th> <th>Asian.American....</th> <th>Other....</th> <th>ZIP</th> <th>Longitude</th> <th>Latitude</th> <th>Ozone</th> <th>PM2.5</th> <th>Diesel.PM</th> <th>Drinking.Water</th> <th>Pesticides</th> <th>Tox..Release</th> <th>Traffic</th> <th>Cleanup.Sites</th> <th>Groundwater.Threats</th> <th>Haz..Waste</th> <th>Imp..Water.Bodies</th> <th>Solid.Waste</th> <th>Pollution.Burden</th> <th>Asthma</th> <th>Low.Birth.Weight</th> <th>Poverty</th> <th>Unemployment</th>\n",
       "        </tr>\n",
       "    </thead>\n",
       "    <tbody>\n",
       "        <tr>\n",
       "            <td>6111004902  </td> <td>58.75        </td> <td>5091            </td> <td>Ventura          </td> <td>95.8        </td> <td>1.5      </td> <td>1.2                 </td> <td>0.1                </td> <td>0.9               </td> <td>0.5      </td> <td>93030</td> <td>-119.134 </td> <td>34.2084 </td> <td>0.044</td> <td>9.5363 </td> <td>13.663   </td> <td>598.95        </td> <td>33324.2   </td> <td>158.187     </td> <td>1017.34</td> <td>0            </td> <td>12.3               </td> <td>1.205     </td> <td>16               </td> <td>10.25      </td> <td>58.86           </td> <td>116.73</td> <td>4.69            </td> <td>73     </td> <td>7.8         </td>\n",
       "        </tr>\n",
       "        <tr>\n",
       "            <td>6111009100  </td> <td>57.83        </td> <td>5279            </td> <td>Ventura          </td> <td>93          </td> <td>3.6      </td> <td>2.1                 </td> <td>0.1                </td> <td>0.8               </td> <td>0.4      </td> <td>93030</td> <td>-119.167 </td> <td>34.1929 </td> <td>0.044</td> <td>9.5363 </td> <td>13.254   </td> <td>285.13        </td> <td>7457.26   </td> <td>289.164     </td> <td>540.26 </td> <td>11           </td> <td>60.5               </td> <td>0.45      </td> <td>0                </td> <td>10         </td> <td>52.52           </td> <td>113.9 </td> <td>5.59            </td> <td>66.7   </td> <td>17.5        </td>\n",
       "        </tr>\n",
       "        <tr>\n",
       "            <td>6111002905  </td> <td>50.56        </td> <td>5478            </td> <td>Ventura          </td> <td>55.5        </td> <td>25.1     </td> <td>5.4                 </td> <td>0.3                </td> <td>11.3              </td> <td>2.5      </td> <td>93030</td> <td>-119.232 </td> <td>34.2099 </td> <td>0.044</td> <td>9.5363 </td> <td>9.781    </td> <td>646.46        </td> <td>39872.8   </td> <td>140.573     </td> <td>570.89 </td> <td>33           </td> <td>53.2               </td> <td>0.525     </td> <td>12               </td> <td>6          </td> <td>62.11           </td> <td>97.99 </td> <td>6.8             </td> <td>23.6   </td> <td>5.4         </td>\n",
       "        </tr>\n",
       "        <tr>\n",
       "            <td>6111004715  </td> <td>45.27        </td> <td>5020            </td> <td>Ventura          </td> <td>73.6        </td> <td>12.4     </td> <td>3                   </td> <td>0.2                </td> <td>9                 </td> <td>1.9      </td> <td>93033</td> <td>-119.149 </td> <td>34.1409 </td> <td>0.044</td> <td>9.5363 </td> <td>18.358   </td> <td>738.29        </td> <td>35420.6   </td> <td>4139.37     </td> <td>359.96 </td> <td>51.4         </td> <td>43.75              </td> <td>0.27      </td> <td>9                </td> <td>13         </td> <td>68.14           </td> <td>32.43 </td> <td>4.98            </td> <td>48.1   </td> <td>10.6        </td>\n",
       "        </tr>\n",
       "        <tr>\n",
       "            <td>6087110400  </td> <td>44.98        </td> <td>7976            </td> <td>Santa Cruz       </td> <td>82.2        </td> <td>11.7     </td> <td>0.6                 </td> <td>0.2                </td> <td>4.5               </td> <td>0.9      </td> <td>95076</td> <td>-121.77  </td> <td>36.9044 </td> <td>0.038</td> <td>5.76369</td> <td>18.475   </td> <td>627.23        </td> <td>23305.5   </td> <td>0.956527    </td> <td>547.75 </td> <td>47.7         </td> <td>65.5               </td> <td>0.85      </td> <td>14               </td> <td>6.6        </td> <td>58.07           </td> <td>62.41 </td> <td>3.55            </td> <td>46.5   </td> <td>9.6         </td>\n",
       "        </tr>\n",
       "        <tr>\n",
       "            <td>6053010101  </td> <td>44.8         </td> <td>4518            </td> <td>Monterey         </td> <td>87.9        </td> <td>8.9      </td> <td>0.3                 </td> <td>0.3                </td> <td>1.8               </td> <td>0.8      </td> <td>95039</td> <td>-121.782 </td> <td>36.8633 </td> <td>0.038</td> <td>5.34451</td> <td>6.238    </td> <td>860.35        </td> <td>52641.1   </td> <td>0.893057    </td> <td>490.42 </td> <td>19.6         </td> <td>42.05              </td> <td>0.175     </td> <td>19               </td> <td>0.5        </td> <td>48.96           </td> <td>58.43 </td> <td>5.06            </td> <td>70.5   </td> <td>15.2        </td>\n",
       "        </tr>\n",
       "        <tr>\n",
       "            <td>6111003201  </td> <td>43.71        </td> <td>4577            </td> <td>Ventura          </td> <td>97.1        </td> <td>1.8      </td> <td>0.7                 </td> <td>0.1                </td> <td>0                 </td> <td>0.3      </td> <td>93030</td> <td>-119.173 </td> <td>34.2035 </td> <td>0.044</td> <td>9.5363 </td> <td>13.245   </td> <td>285.13        </td> <td>135.86    </td> <td>247.5       </td> <td>650.96 </td> <td>0.4          </td> <td>5                  </td> <td>0.1       </td> <td>0                </td> <td>1          </td> <td>37.68           </td> <td>116.82</td> <td>5.57            </td> <td>69.1   </td> <td>14.4        </td>\n",
       "        </tr>\n",
       "        <tr>\n",
       "            <td>6053000900  </td> <td>43.56        </td> <td>5746            </td> <td>Monterey         </td> <td>93.1        </td> <td>3.9      </td> <td>0.5                 </td> <td>0.1                </td> <td>1.6               </td> <td>0.8      </td> <td>93905</td> <td>-121.626 </td> <td>36.6691 </td> <td>0.033</td> <td>5.34451</td> <td>12.42    </td> <td>827.31        </td> <td>1179.52   </td> <td>0.779061    </td> <td>668.1  </td> <td>4.65         </td> <td>27.75              </td> <td>0.4       </td> <td>15               </td> <td>1.25       </td> <td>48.99           </td> <td>72.45 </td> <td>3.9             </td> <td>68.7   </td> <td>13.9        </td>\n",
       "        </tr>\n",
       "        <tr>\n",
       "            <td>6111004704  </td> <td>42.68        </td> <td>1469            </td> <td>Ventura          </td> <td>82.3        </td> <td>13.7     </td> <td>1.2                 </td> <td>0.1                </td> <td>1.3               </td> <td>1.4      </td> <td>93033</td> <td>-119.119 </td> <td>34.1713 </td> <td>0.044</td> <td>9.5363 </td> <td>12.357   </td> <td>758.07        </td> <td>78963.8   </td> <td>436.69      </td> <td>508.98 </td> <td>4            </td> <td>18                 </td> <td>0.36      </td> <td>16               </td> <td>4.05       </td> <td>59.6            </td> <td>33.31 </td> <td>4.73            </td> <td>46.5   </td> <td>10.1        </td>\n",
       "        </tr>\n",
       "        <tr>\n",
       "            <td>6111002300  </td> <td>41.78        </td> <td>7430            </td> <td>Ventura          </td> <td>70.7        </td> <td>24.2     </td> <td>1.4                 </td> <td>0.5                </td> <td>1.6               </td> <td>1.6      </td> <td>93001</td> <td>-119.3   </td> <td>34.2907 </td> <td>0.046</td> <td>9.5363 </td> <td>10.044   </td> <td>345.7         </td> <td>7273.27   </td> <td>31.6496     </td> <td>608.72 </td> <td>22.4         </td> <td>43.75              </td> <td>2.3       </td> <td>3                </td> <td>1          </td> <td>52.64           </td> <td>52.88 </td> <td>4.33            </td> <td>53.9   </td> <td>10.1        </td>\n",
       "        </tr>\n",
       "    </tbody>\n",
       "</table>\n",
       "<p>... (422 rows omitted)</p>"
      ],
      "text/plain": [
       "Census.Tract | CES.3.0.Score | Total.Population | California.County | Hispanic.... | White.... | African.American.... | Native.American.... | Asian.American.... | Other.... | ZIP   | Longitude | Latitude | Ozone | PM2.5   | Diesel.PM | Drinking.Water | Pesticides | Tox..Release | Traffic | Cleanup.Sites | Groundwater.Threats | Haz..Waste | Imp..Water.Bodies | Solid.Waste | Pollution.Burden | Asthma | Low.Birth.Weight | Poverty | Unemployment\n",
       "6111004902   | 58.75         | 5091             | Ventura           | 95.8         | 1.5       | 1.2                  | 0.1                 | 0.9                | 0.5       | 93030 | -119.134  | 34.2084  | 0.044 | 9.5363  | 13.663    | 598.95         | 33324.2    | 158.187      | 1017.34 | 0             | 12.3                | 1.205      | 16                | 10.25       | 58.86            | 116.73 | 4.69             | 73      | 7.8\n",
       "6111009100   | 57.83         | 5279             | Ventura           | 93           | 3.6       | 2.1                  | 0.1                 | 0.8                | 0.4       | 93030 | -119.167  | 34.1929  | 0.044 | 9.5363  | 13.254    | 285.13         | 7457.26    | 289.164      | 540.26  | 11            | 60.5                | 0.45       | 0                 | 10          | 52.52            | 113.9  | 5.59             | 66.7    | 17.5\n",
       "6111002905   | 50.56         | 5478             | Ventura           | 55.5         | 25.1      | 5.4                  | 0.3                 | 11.3               | 2.5       | 93030 | -119.232  | 34.2099  | 0.044 | 9.5363  | 9.781     | 646.46         | 39872.8    | 140.573      | 570.89  | 33            | 53.2                | 0.525      | 12                | 6           | 62.11            | 97.99  | 6.8              | 23.6    | 5.4\n",
       "6111004715   | 45.27         | 5020             | Ventura           | 73.6         | 12.4      | 3                    | 0.2                 | 9                  | 1.9       | 93033 | -119.149  | 34.1409  | 0.044 | 9.5363  | 18.358    | 738.29         | 35420.6    | 4139.37      | 359.96  | 51.4          | 43.75               | 0.27       | 9                 | 13          | 68.14            | 32.43  | 4.98             | 48.1    | 10.6\n",
       "6087110400   | 44.98         | 7976             | Santa Cruz        | 82.2         | 11.7      | 0.6                  | 0.2                 | 4.5                | 0.9       | 95076 | -121.77   | 36.9044  | 0.038 | 5.76369 | 18.475    | 627.23         | 23305.5    | 0.956527     | 547.75  | 47.7          | 65.5                | 0.85       | 14                | 6.6         | 58.07            | 62.41  | 3.55             | 46.5    | 9.6\n",
       "6053010101   | 44.8          | 4518             | Monterey          | 87.9         | 8.9       | 0.3                  | 0.3                 | 1.8                | 0.8       | 95039 | -121.782  | 36.8633  | 0.038 | 5.34451 | 6.238     | 860.35         | 52641.1    | 0.893057     | 490.42  | 19.6          | 42.05               | 0.175      | 19                | 0.5         | 48.96            | 58.43  | 5.06             | 70.5    | 15.2\n",
       "6111003201   | 43.71         | 4577             | Ventura           | 97.1         | 1.8       | 0.7                  | 0.1                 | 0                  | 0.3       | 93030 | -119.173  | 34.2035  | 0.044 | 9.5363  | 13.245    | 285.13         | 135.86     | 247.5        | 650.96  | 0.4           | 5                   | 0.1        | 0                 | 1           | 37.68            | 116.82 | 5.57             | 69.1    | 14.4\n",
       "6053000900   | 43.56         | 5746             | Monterey          | 93.1         | 3.9       | 0.5                  | 0.1                 | 1.6                | 0.8       | 93905 | -121.626  | 36.6691  | 0.033 | 5.34451 | 12.42     | 827.31         | 1179.52    | 0.779061     | 668.1   | 4.65          | 27.75               | 0.4        | 15                | 1.25        | 48.99            | 72.45  | 3.9              | 68.7    | 13.9\n",
       "6111004704   | 42.68         | 1469             | Ventura           | 82.3         | 13.7      | 1.2                  | 0.1                 | 1.3                | 1.4       | 93033 | -119.119  | 34.1713  | 0.044 | 9.5363  | 12.357    | 758.07         | 78963.8    | 436.69       | 508.98  | 4             | 18                  | 0.36       | 16                | 4.05        | 59.6             | 33.31  | 4.73             | 46.5    | 10.1\n",
       "6111002300   | 41.78         | 7430             | Ventura           | 70.7         | 24.2      | 1.4                  | 0.5                 | 1.6                | 1.6       | 93001 | -119.3    | 34.2907  | 0.046 | 9.5363  | 10.044    | 345.7          | 7273.27    | 31.6496      | 608.72  | 22.4          | 43.75               | 2.3        | 3                 | 1           | 52.64            | 52.88  | 4.33             | 53.9    | 10.1\n",
       "... (422 rows omitted)"
      ]
     },
     "execution_count": 3,
     "metadata": {},
     "output_type": "execute_result"
    }
   ],
   "source": [
    "# SOLUTION\n",
    "central_coast_counties = make_array(\"Ventura \", \"Santa Barbara\", \"San Luis Obispo\", \"Monterey \", \"San Benito\", \"Santa Cruz\")\n",
    "central_coast = ces_data.where(\"California.County\", are.contained_in(central_coast_counties))\n",
    "central_coast"
   ]
  },
  {
   "cell_type": "code",
   "execution_count": 4,
   "id": "44a9ba9e",
   "metadata": {},
   "outputs": [
    {
     "data": {
      "text/html": [
       "<table border=\"1\" class=\"dataframe\">\n",
       "    <thead>\n",
       "        <tr>\n",
       "            <th>Census.Tract</th> <th>CES.3.0.Score</th> <th>Total.Population</th> <th>California.County</th> <th>Hispanic....</th> <th>White....</th> <th>African.American....</th> <th>Native.American....</th> <th>Asian.American....</th> <th>Other....</th> <th>ZIP</th> <th>Longitude</th> <th>Latitude</th> <th>Ozone</th> <th>PM2.5</th> <th>Diesel.PM</th> <th>Drinking.Water</th> <th>Pesticides</th> <th>Tox..Release</th> <th>Traffic</th> <th>Cleanup.Sites</th> <th>Groundwater.Threats</th> <th>Haz..Waste</th> <th>Imp..Water.Bodies</th> <th>Solid.Waste</th> <th>Pollution.Burden</th> <th>Asthma</th> <th>Low.Birth.Weight</th> <th>Poverty</th> <th>Unemployment</th>\n",
       "        </tr>\n",
       "    </thead>\n",
       "    <tbody>\n",
       "        <tr>\n",
       "            <td>6019001100  </td> <td>94.09        </td> <td>3174            </td> <td>Fresno           </td> <td>65.3        </td> <td>4.2      </td> <td>24.6                </td> <td>0.5                </td> <td>3.5               </td> <td>1.8      </td> <td>93706</td> <td>-119.782 </td> <td>36.7097 </td> <td>0.065</td> <td>15.4 </td> <td>48.524   </td> <td>681.2         </td> <td>2.75      </td> <td>18552       </td> <td>909.14 </td> <td>80.5         </td> <td>45.75              </td> <td>0.795     </td> <td>0                </td> <td>21.75      </td> <td>79.96           </td> <td>131.64</td> <td>7.44            </td> <td>76.3   </td> <td>17.6        </td>\n",
       "        </tr>\n",
       "        <tr>\n",
       "            <td>6019000200  </td> <td>85.97        </td> <td>3167            </td> <td>Fresno           </td> <td>63.6        </td> <td>5.3      </td> <td>18.9                </td> <td>0.6                </td> <td>9.8               </td> <td>1.8      </td> <td>93706</td> <td>-119.806 </td> <td>36.7355 </td> <td>0.062</td> <td>15.4 </td> <td>47.445   </td> <td>681.2         </td> <td>3.03      </td> <td>12454.9     </td> <td>576.52 </td> <td>22           </td> <td>30.25              </td> <td>0.2       </td> <td>0                </td> <td>2.5        </td> <td>71.16           </td> <td>142.12</td> <td>10.16           </td> <td>86.8   </td> <td>16.1        </td>\n",
       "        </tr>\n",
       "        <tr>\n",
       "            <td>6019001500  </td> <td>82.03        </td> <td>2206            </td> <td>Fresno           </td> <td>71.8        </td> <td>21.4     </td> <td>1.2                 </td> <td>0.5                </td> <td>4.5               </td> <td>0.6      </td> <td>93725</td> <td>-119.718 </td> <td>36.6816 </td> <td>0.065</td> <td>15.4 </td> <td>18.846   </td> <td>1000.24       </td> <td>3518.41   </td> <td>21790.7     </td> <td>435.16 </td> <td>60           </td> <td>54.2               </td> <td>13.1      </td> <td>0                </td> <td>50.8       </td> <td>80.2            </td> <td>90.48 </td> <td>4.5             </td> <td>66.4   </td> <td>18.6        </td>\n",
       "        </tr>\n",
       "        <tr>\n",
       "            <td>6019001000  </td> <td>80.13        </td> <td>4106            </td> <td>Fresno           </td> <td>52.7        </td> <td>2.7      </td> <td>28.7                </td> <td>0.4                </td> <td>14.3              </td> <td>1.2      </td> <td>93706</td> <td>-119.804 </td> <td>36.6978 </td> <td>0.065</td> <td>15.4 </td> <td>20.848   </td> <td>788.02        </td> <td>1435.93   </td> <td>6996.96     </td> <td>243.54 </td> <td>15.45        </td> <td>20                 </td> <td>0         </td> <td>0                </td> <td>10         </td> <td>66.88           </td> <td>142.28</td> <td>7.83            </td> <td>74.5   </td> <td>20          </td>\n",
       "        </tr>\n",
       "        <tr>\n",
       "            <td>6019000400  </td> <td>78.53        </td> <td>6343            </td> <td>Fresno           </td> <td>78          </td> <td>9.1      </td> <td>5.8                 </td> <td>0.8                </td> <td>5.3               </td> <td>0.9      </td> <td>93721</td> <td>-119.776 </td> <td>36.7277 </td> <td>0.065</td> <td>15.4 </td> <td>54.356   </td> <td>681.2         </td> <td>114.96    </td> <td>125384      </td> <td>815.36 </td> <td>15.95        </td> <td>13.5               </td> <td>0.755     </td> <td>0                </td> <td>0.5        </td> <td>73.89           </td> <td>107.8 </td> <td>4.79            </td> <td>83.4   </td> <td>23.5        </td>\n",
       "        </tr>\n",
       "        <tr>\n",
       "            <td>6029002500  </td> <td>78.41        </td> <td>9122            </td> <td>Kern             </td> <td>76.7        </td> <td>5.1      </td> <td>15.9                </td> <td>0.7                </td> <td>0.4               </td> <td>1.2      </td> <td>93307</td> <td>-118.992 </td> <td>35.3373 </td> <td>0.065</td> <td>19.18</td> <td>20.42    </td> <td>1041.62       </td> <td>3.47      </td> <td>49.7082     </td> <td>675.16 </td> <td>42.4         </td> <td>46.25              </td> <td>10.26     </td> <td>0                </td> <td>13.6       </td> <td>70.64           </td> <td>89.83 </td> <td>6.28            </td> <td>73.8   </td> <td>28.5        </td>\n",
       "        </tr>\n",
       "        <tr>\n",
       "            <td>6019000600  </td> <td>78.41        </td> <td>6161            </td> <td>Fresno           </td> <td>70.8        </td> <td>15.2     </td> <td>6.8                 </td> <td>0.7                </td> <td>4.4               </td> <td>2.2      </td> <td>93721</td> <td>-119.793 </td> <td>36.7431 </td> <td>0.065</td> <td>15.4 </td> <td>54.243   </td> <td>681.2         </td> <td>88.58     </td> <td>7030.45     </td> <td>591.37 </td> <td>5.7          </td> <td>8                  </td> <td>0.46      </td> <td>0                </td> <td>1.25       </td> <td>68.31           </td> <td>118.86</td> <td>7.87            </td> <td>89.5   </td> <td>21.7        </td>\n",
       "        </tr>\n",
       "        <tr>\n",
       "            <td>6019001201  </td> <td>78.05        </td> <td>5936            </td> <td>Fresno           </td> <td>83.1        </td> <td>5.1      </td> <td>3.7                 </td> <td>0.7                </td> <td>6.6               </td> <td>0.8      </td> <td>93725</td> <td>-119.758 </td> <td>36.7108 </td> <td>0.065</td> <td>15.4 </td> <td>27.565   </td> <td>681.2         </td> <td>0         </td> <td>19782.6     </td> <td>347.88 </td> <td>98.65        </td> <td>71.8               </td> <td>4.275     </td> <td>0                </td> <td>20         </td> <td>70.73           </td> <td>89.51 </td> <td>5.28            </td> <td>70.7   </td> <td>20.1        </td>\n",
       "        </tr>\n",
       "        <tr>\n",
       "            <td>6019000902  </td> <td>77.65        </td> <td>5252            </td> <td>Fresno           </td> <td>57.9        </td> <td>1.5      </td> <td>21.3                </td> <td>0.3                </td> <td>17.7              </td> <td>1.3      </td> <td>93706</td> <td>-119.804 </td> <td>36.7178 </td> <td>0.065</td> <td>15.4 </td> <td>47.943   </td> <td>681.2         </td> <td>683.81    </td> <td>25476.6     </td> <td>170.75 </td> <td>12.1         </td> <td>3                  </td> <td>0.01      </td> <td>0                </td> <td>4.25       </td> <td>64.75           </td> <td>142.28</td> <td>9.24            </td> <td>77.5   </td> <td>21.8        </td>\n",
       "        </tr>\n",
       "        <tr>\n",
       "            <td>6019001202  </td> <td>77.41        </td> <td>4756            </td> <td>Fresno           </td> <td>72.5        </td> <td>2.5      </td> <td>11.7                </td> <td>0.4                </td> <td>12.3              </td> <td>0.6      </td> <td>93725</td> <td>-119.741 </td> <td>36.7027 </td> <td>0.065</td> <td>15.4 </td> <td>27.699   </td> <td>947.44        </td> <td>11.74     </td> <td>8837.27     </td> <td>291.45 </td> <td>30.5         </td> <td>38.25              </td> <td>4.28      </td> <td>0                </td> <td>23         </td> <td>75.94           </td> <td>78.61 </td> <td>4.94            </td> <td>77.8   </td> <td>21.6        </td>\n",
       "        </tr>\n",
       "    </tbody>\n",
       "</table>\n",
       "<p>... (681 rows omitted)</p>"
      ],
      "text/plain": [
       "Census.Tract | CES.3.0.Score | Total.Population | California.County | Hispanic.... | White.... | African.American.... | Native.American.... | Asian.American.... | Other.... | ZIP   | Longitude | Latitude | Ozone | PM2.5 | Diesel.PM | Drinking.Water | Pesticides | Tox..Release | Traffic | Cleanup.Sites | Groundwater.Threats | Haz..Waste | Imp..Water.Bodies | Solid.Waste | Pollution.Burden | Asthma | Low.Birth.Weight | Poverty | Unemployment\n",
       "6019001100   | 94.09         | 3174             | Fresno            | 65.3         | 4.2       | 24.6                 | 0.5                 | 3.5                | 1.8       | 93706 | -119.782  | 36.7097  | 0.065 | 15.4  | 48.524    | 681.2          | 2.75       | 18552        | 909.14  | 80.5          | 45.75               | 0.795      | 0                 | 21.75       | 79.96            | 131.64 | 7.44             | 76.3    | 17.6\n",
       "6019000200   | 85.97         | 3167             | Fresno            | 63.6         | 5.3       | 18.9                 | 0.6                 | 9.8                | 1.8       | 93706 | -119.806  | 36.7355  | 0.062 | 15.4  | 47.445    | 681.2          | 3.03       | 12454.9      | 576.52  | 22            | 30.25               | 0.2        | 0                 | 2.5         | 71.16            | 142.12 | 10.16            | 86.8    | 16.1\n",
       "6019001500   | 82.03         | 2206             | Fresno            | 71.8         | 21.4      | 1.2                  | 0.5                 | 4.5                | 0.6       | 93725 | -119.718  | 36.6816  | 0.065 | 15.4  | 18.846    | 1000.24        | 3518.41    | 21790.7      | 435.16  | 60            | 54.2                | 13.1       | 0                 | 50.8        | 80.2             | 90.48  | 4.5              | 66.4    | 18.6\n",
       "6019001000   | 80.13         | 4106             | Fresno            | 52.7         | 2.7       | 28.7                 | 0.4                 | 14.3               | 1.2       | 93706 | -119.804  | 36.6978  | 0.065 | 15.4  | 20.848    | 788.02         | 1435.93    | 6996.96      | 243.54  | 15.45         | 20                  | 0          | 0                 | 10          | 66.88            | 142.28 | 7.83             | 74.5    | 20\n",
       "6019000400   | 78.53         | 6343             | Fresno            | 78           | 9.1       | 5.8                  | 0.8                 | 5.3                | 0.9       | 93721 | -119.776  | 36.7277  | 0.065 | 15.4  | 54.356    | 681.2          | 114.96     | 125384       | 815.36  | 15.95         | 13.5                | 0.755      | 0                 | 0.5         | 73.89            | 107.8  | 4.79             | 83.4    | 23.5\n",
       "6029002500   | 78.41         | 9122             | Kern              | 76.7         | 5.1       | 15.9                 | 0.7                 | 0.4                | 1.2       | 93307 | -118.992  | 35.3373  | 0.065 | 19.18 | 20.42     | 1041.62        | 3.47       | 49.7082      | 675.16  | 42.4          | 46.25               | 10.26      | 0                 | 13.6        | 70.64            | 89.83  | 6.28             | 73.8    | 28.5\n",
       "6019000600   | 78.41         | 6161             | Fresno            | 70.8         | 15.2      | 6.8                  | 0.7                 | 4.4                | 2.2       | 93721 | -119.793  | 36.7431  | 0.065 | 15.4  | 54.243    | 681.2          | 88.58      | 7030.45      | 591.37  | 5.7           | 8                   | 0.46       | 0                 | 1.25        | 68.31            | 118.86 | 7.87             | 89.5    | 21.7\n",
       "6019001201   | 78.05         | 5936             | Fresno            | 83.1         | 5.1       | 3.7                  | 0.7                 | 6.6                | 0.8       | 93725 | -119.758  | 36.7108  | 0.065 | 15.4  | 27.565    | 681.2          | 0          | 19782.6      | 347.88  | 98.65         | 71.8                | 4.275      | 0                 | 20          | 70.73            | 89.51  | 5.28             | 70.7    | 20.1\n",
       "6019000902   | 77.65         | 5252             | Fresno            | 57.9         | 1.5       | 21.3                 | 0.3                 | 17.7               | 1.3       | 93706 | -119.804  | 36.7178  | 0.065 | 15.4  | 47.943    | 681.2          | 683.81     | 25476.6      | 170.75  | 12.1          | 3                   | 0.01       | 0                 | 4.25        | 64.75            | 142.28 | 9.24             | 77.5    | 21.8\n",
       "6019001202   | 77.41         | 4756             | Fresno            | 72.5         | 2.5       | 11.7                 | 0.4                 | 12.3               | 0.6       | 93725 | -119.741  | 36.7027  | 0.065 | 15.4  | 27.699    | 947.44         | 11.74      | 8837.27      | 291.45  | 30.5          | 38.25               | 4.28       | 0                 | 23          | 75.94            | 78.61  | 4.94             | 77.8    | 21.6\n",
       "... (681 rows omitted)"
      ]
     },
     "execution_count": 4,
     "metadata": {},
     "output_type": "execute_result"
    }
   ],
   "source": [
    "# SOLUTION\n",
    "central_valley_counties = make_array(\"Kern \", \"Fresno \", \"Sacramento \", \"Shasta \")\n",
    "central_valley = ces_data.where(\"California.County\", are.contained_in(central_valley_counties))\n",
    "central_valley"
   ]
  },
  {
   "cell_type": "markdown",
   "id": "dc038b80",
   "metadata": {},
   "source": [
    "As usual, we don't really want all of the columns in this table. We're primarily interested in the CES score (or maybe the pollution burden) of these tracts but not much else.\n",
    "\n",
    "<div class=\"alert alert-warning\">\n",
    "    <b>PRACTICE:</b> Select the column(s) that we might need in our analysis and assign this table back to <code>central_coast</code> or <code>central_valley</code>. We won't be using the county column, but retain that column as well. It might help us keep track of the Central Coast/Central Valley data a bit.\n",
    "    </div>"
   ]
  },
  {
   "cell_type": "code",
   "execution_count": null,
   "id": "64327ad5",
   "metadata": {},
   "outputs": [],
   "source": [
    "central_coast = ...\n",
    "central_coast"
   ]
  },
  {
   "cell_type": "code",
   "execution_count": null,
   "id": "75b2c32b",
   "metadata": {},
   "outputs": [],
   "source": [
    "central_valley = ...\n",
    "central_valley"
   ]
  },
  {
   "cell_type": "code",
   "execution_count": 5,
   "id": "85bd05d6",
   "metadata": {},
   "outputs": [
    {
     "data": {
      "text/html": [
       "<table border=\"1\" class=\"dataframe\">\n",
       "    <thead>\n",
       "        <tr>\n",
       "            <th>CES.3.0.Score</th> <th>California.County</th>\n",
       "        </tr>\n",
       "    </thead>\n",
       "    <tbody>\n",
       "        <tr>\n",
       "            <td>58.75        </td> <td>Ventura          </td>\n",
       "        </tr>\n",
       "        <tr>\n",
       "            <td>57.83        </td> <td>Ventura          </td>\n",
       "        </tr>\n",
       "        <tr>\n",
       "            <td>50.56        </td> <td>Ventura          </td>\n",
       "        </tr>\n",
       "        <tr>\n",
       "            <td>45.27        </td> <td>Ventura          </td>\n",
       "        </tr>\n",
       "        <tr>\n",
       "            <td>44.98        </td> <td>Santa Cruz       </td>\n",
       "        </tr>\n",
       "        <tr>\n",
       "            <td>44.8         </td> <td>Monterey         </td>\n",
       "        </tr>\n",
       "        <tr>\n",
       "            <td>43.71        </td> <td>Ventura          </td>\n",
       "        </tr>\n",
       "        <tr>\n",
       "            <td>43.56        </td> <td>Monterey         </td>\n",
       "        </tr>\n",
       "        <tr>\n",
       "            <td>42.68        </td> <td>Ventura          </td>\n",
       "        </tr>\n",
       "        <tr>\n",
       "            <td>41.78        </td> <td>Ventura          </td>\n",
       "        </tr>\n",
       "    </tbody>\n",
       "</table>\n",
       "<p>... (422 rows omitted)</p>"
      ],
      "text/plain": [
       "CES.3.0.Score | California.County\n",
       "58.75         | Ventura\n",
       "57.83         | Ventura\n",
       "50.56         | Ventura\n",
       "45.27         | Ventura\n",
       "44.98         | Santa Cruz\n",
       "44.8          | Monterey\n",
       "43.71         | Ventura\n",
       "43.56         | Monterey\n",
       "42.68         | Ventura\n",
       "41.78         | Ventura\n",
       "... (422 rows omitted)"
      ]
     },
     "execution_count": 5,
     "metadata": {},
     "output_type": "execute_result"
    }
   ],
   "source": [
    "# SOLUTION\n",
    "central_coast = central_coast.select(\"CES.3.0.Score\", \"California.County\")\n",
    "central_coast"
   ]
  },
  {
   "cell_type": "code",
   "execution_count": 6,
   "id": "868b9eae",
   "metadata": {},
   "outputs": [
    {
     "data": {
      "text/html": [
       "<table border=\"1\" class=\"dataframe\">\n",
       "    <thead>\n",
       "        <tr>\n",
       "            <th>CES.3.0.Score</th> <th>California.County</th>\n",
       "        </tr>\n",
       "    </thead>\n",
       "    <tbody>\n",
       "        <tr>\n",
       "            <td>94.09        </td> <td>Fresno           </td>\n",
       "        </tr>\n",
       "        <tr>\n",
       "            <td>85.97        </td> <td>Fresno           </td>\n",
       "        </tr>\n",
       "        <tr>\n",
       "            <td>82.03        </td> <td>Fresno           </td>\n",
       "        </tr>\n",
       "        <tr>\n",
       "            <td>80.13        </td> <td>Fresno           </td>\n",
       "        </tr>\n",
       "        <tr>\n",
       "            <td>78.53        </td> <td>Fresno           </td>\n",
       "        </tr>\n",
       "        <tr>\n",
       "            <td>78.41        </td> <td>Kern             </td>\n",
       "        </tr>\n",
       "        <tr>\n",
       "            <td>78.41        </td> <td>Fresno           </td>\n",
       "        </tr>\n",
       "        <tr>\n",
       "            <td>78.05        </td> <td>Fresno           </td>\n",
       "        </tr>\n",
       "        <tr>\n",
       "            <td>77.65        </td> <td>Fresno           </td>\n",
       "        </tr>\n",
       "        <tr>\n",
       "            <td>77.41        </td> <td>Fresno           </td>\n",
       "        </tr>\n",
       "    </tbody>\n",
       "</table>\n",
       "<p>... (681 rows omitted)</p>"
      ],
      "text/plain": [
       "CES.3.0.Score | California.County\n",
       "94.09         | Fresno\n",
       "85.97         | Fresno\n",
       "82.03         | Fresno\n",
       "80.13         | Fresno\n",
       "78.53         | Fresno\n",
       "78.41         | Kern\n",
       "78.41         | Fresno\n",
       "78.05         | Fresno\n",
       "77.65         | Fresno\n",
       "77.41         | Fresno\n",
       "... (681 rows omitted)"
      ]
     },
     "execution_count": 6,
     "metadata": {},
     "output_type": "execute_result"
    }
   ],
   "source": [
    "# SOLUTION\n",
    "central_valley = central_valley.select(\"CES.3.0.Score\", \"California.County\")\n",
    "central_valley"
   ]
  },
  {
   "cell_type": "markdown",
   "id": "ce50e5c2",
   "metadata": {},
   "source": [
    "In Report 09 section 4, we added a column with only the string \"female\" to the table of female data, `fem_str`. Similarly, we added a column with only the string \"male\" to the table of male data, `male_str`.\n",
    "\n",
    "<div class=\"alert alert-warning\">\n",
    "    <b>PRACTICE:</b> Look at the code in this section and try to add a column called \"Location\" with only the string \"Central Coast\" for the <code>central_coast</code> table and with only the string \"Central Valley\" for the <code>central_valley</code> table.\n",
    "    </div>"
   ]
  },
  {
   "cell_type": "code",
   "execution_count": null,
   "id": "e4acbd43",
   "metadata": {},
   "outputs": [],
   "source": [
    "central_coast = ...\n",
    "central_valley = ...\n",
    "central = central_coast.with_rows(central_valley.rows)\n",
    "central"
   ]
  },
  {
   "cell_type": "code",
   "execution_count": 7,
   "id": "d5352b5e",
   "metadata": {},
   "outputs": [
    {
     "data": {
      "text/html": [
       "<table border=\"1\" class=\"dataframe\">\n",
       "    <thead>\n",
       "        <tr>\n",
       "            <th>CES.3.0.Score</th> <th>California.County</th> <th>Location</th>\n",
       "        </tr>\n",
       "    </thead>\n",
       "    <tbody>\n",
       "        <tr>\n",
       "            <td>58.75        </td> <td>Ventura          </td> <td>Central Coast</td>\n",
       "        </tr>\n",
       "        <tr>\n",
       "            <td>57.83        </td> <td>Ventura          </td> <td>Central Coast</td>\n",
       "        </tr>\n",
       "        <tr>\n",
       "            <td>50.56        </td> <td>Ventura          </td> <td>Central Coast</td>\n",
       "        </tr>\n",
       "        <tr>\n",
       "            <td>45.27        </td> <td>Ventura          </td> <td>Central Coast</td>\n",
       "        </tr>\n",
       "        <tr>\n",
       "            <td>44.98        </td> <td>Santa Cruz       </td> <td>Central Coast</td>\n",
       "        </tr>\n",
       "        <tr>\n",
       "            <td>44.8         </td> <td>Monterey         </td> <td>Central Coast</td>\n",
       "        </tr>\n",
       "        <tr>\n",
       "            <td>43.71        </td> <td>Ventura          </td> <td>Central Coast</td>\n",
       "        </tr>\n",
       "        <tr>\n",
       "            <td>43.56        </td> <td>Monterey         </td> <td>Central Coast</td>\n",
       "        </tr>\n",
       "        <tr>\n",
       "            <td>42.68        </td> <td>Ventura          </td> <td>Central Coast</td>\n",
       "        </tr>\n",
       "        <tr>\n",
       "            <td>41.78        </td> <td>Ventura          </td> <td>Central Coast</td>\n",
       "        </tr>\n",
       "    </tbody>\n",
       "</table>\n",
       "<p>... (1113 rows omitted)</p>"
      ],
      "text/plain": [
       "CES.3.0.Score | California.County | Location\n",
       "58.75         | Ventura           | Central Coast\n",
       "57.83         | Ventura           | Central Coast\n",
       "50.56         | Ventura           | Central Coast\n",
       "45.27         | Ventura           | Central Coast\n",
       "44.98         | Santa Cruz        | Central Coast\n",
       "44.8          | Monterey          | Central Coast\n",
       "43.71         | Ventura           | Central Coast\n",
       "43.56         | Monterey          | Central Coast\n",
       "42.68         | Ventura           | Central Coast\n",
       "41.78         | Ventura           | Central Coast\n",
       "... (1113 rows omitted)"
      ]
     },
     "execution_count": 7,
     "metadata": {},
     "output_type": "execute_result"
    }
   ],
   "source": [
    "# SOLUTION\n",
    "central_coast = central_coast.with_column(\"Location\", \"Central Coast\")\n",
    "central_valley = central_valley.with_column(\"Location\", \"Central Valley\")\n",
    "central = central_coast.with_rows(central_valley.rows)\n",
    "central"
   ]
  },
  {
   "cell_type": "markdown",
   "id": "fd497982",
   "metadata": {},
   "source": [
    "Finally, let's take a look at the difference between the two categories by visualizing the distribution of CES scores (or pollution burden scores) for the Central Coast and Central Valley. Because we want to compare these two categories, we need to find a way to group the Central Coast data together and separate it from the Central Valley data.\n",
    "\n",
    "<div class=\"alert alert-warning\">\n",
    "    <b>PRACTICE:</b> Look back at the BUDS reference sheet and take a look at the documentation notes on <code>hist</code>. Do you see any arguments that might distinguish between these two groups for us? Think about how our table is set up.\n",
    "    \n",
    "Don't forget to use the argument <code>normed=False</code>!\n",
    "    </div>"
   ]
  },
  {
   "cell_type": "code",
   "execution_count": null,
   "id": "4af96ce0",
   "metadata": {},
   "outputs": [],
   "source": [
    "central.hist(...)"
   ]
  },
  {
   "cell_type": "code",
   "execution_count": 8,
   "id": "529cab28",
   "metadata": {},
   "outputs": [
    {
     "name": "stderr",
     "output_type": "stream",
     "text": [
      "/opt/conda/lib/python3.9/site-packages/datascience/tables.py:920: VisibleDeprecationWarning: Creating an ndarray from ragged nested sequences (which is a list-or-tuple of lists-or-tuples-or ndarrays with different lengths or shapes) is deprecated. If you meant to do this, you must specify 'dtype=object' when creating the ndarray.\n",
      "  values = np.array(tuple(values))\n"
     ]
    },
    {
     "data": {
      "image/png": "[encoded data removed]",
      "text/plain": [
       "<Figure size 432x288 with 1 Axes>"
      ]
     },
     "metadata": {
      "needs_background": "light"
     },
     "output_type": "display_data"
    }
   ],
   "source": [
    "# SOLUTION\n",
    "central.hist(\"CES.3.0.Score\", group=\"Location\", normed=False)"
   ]
  },
  {
   "cell_type": "markdown",
   "id": "79482e4d",
   "metadata": {},
   "source": [
    "What do you notice about this histogram? Do you think it agrees with what you expected?"
   ]
  },
  {
   "cell_type": "markdown",
   "id": "6034b035",
   "metadata": {},
   "source": [
    "_Written Answer:_"
   ]
  },
  {
   "cell_type": "markdown",
   "id": "d0c5ac54",
   "metadata": {},
   "source": [
    "## 2. You've Done a Lot ! <a id='section 2'></a>\n",
    "\n",
    "Congratulations on combining a multitude of function/method calls on the CalEnviroScreen dataset! You've conducted so much research on pollution and the CalEnviroScreen data, explored many of its different characteristics, and successfully answered a number of questions about the data.\n",
    "\n",
    "Given that it's only been *two weeks* since this program has started, you have accomplished so much. We're very proud of you!\n",
    "\n",
    "If you want to explore the data more, feel free to play around more with the dataset in the following cells. Otherwise -- great job!"
   ]
  },
  {
   "cell_type": "code",
   "execution_count": null,
   "id": "abd43f34",
   "metadata": {},
   "outputs": [],
   "source": []
  },
  {
   "cell_type": "code",
   "execution_count": null,
   "id": "1e937d89",
   "metadata": {},
   "outputs": [],
   "source": []
  },
  {
   "cell_type": "code",
   "execution_count": null,
   "id": "1228d5ae",
   "metadata": {},
   "outputs": [],
   "source": []
  },
  {
   "cell_type": "code",
   "execution_count": null,
   "id": "f4da2a2a",
   "metadata": {},
   "outputs": [],
   "source": []
  },
  {
   "cell_type": "code",
   "execution_count": null,
   "id": "3f81fc60",
   "metadata": {},
   "outputs": [],
   "source": []
  },
  {
   "cell_type": "markdown",
   "id": "8dc8b834",
   "metadata": {},
   "source": [
    "### Downloading as PDF\n",
    "\n",
    "Download this notebook as a pdf by clicking <b><code>File > Download as > PDF via LaTeX</code></b>. Turn in the PDF into bCourses under the corresponding assignment."
   ]
  }
 ],
 "metadata": {
  "kernelspec": {
   "display_name": "Python 3 (ipykernel)",
   "language": "python",
   "name": "python3"
  },
  "language_info": {
   "codemirror_mode": {
    "name": "ipython",
    "version": 3
   },
   "file_extension": ".py",
   "mimetype": "text/x-python",
   "name": "python",
   "nbconvert_exporter": "python",
   "pygments_lexer": "ipython3",
   "version": "3.9.13"
  }
 },
 "nbformat": 4,
 "nbformat_minor": 5
}
