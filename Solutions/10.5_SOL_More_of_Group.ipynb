{
 "cells": [
  {
   "cell_type": "markdown",
   "id": "05111641",
   "metadata": {},
   "source": [
    "# BUDS Report 10.5: More of Group\n",
    "\n",
    "\n",
    "### Table of Contents\n",
    "\n",
    "1. More Group Questions"
   ]
  },
  {
   "cell_type": "code",
   "execution_count": 1,
   "id": "a5d65b41",
   "metadata": {},
   "outputs": [],
   "source": [
    "# run this cell\n",
    "\n",
    "from datascience import *\n",
    "import numpy as np\n",
    "import math\n",
    "import matplotlib.pyplot as plt\n",
    "plt.style.use(\"fivethirtyeight\")\n",
    "%matplotlib inline"
   ]
  },
  {
   "cell_type": "markdown",
   "id": "3230863b",
   "metadata": {},
   "source": [
    "## 1. More Group Questions\n",
    "\n",
    "Once again, load the NBA table so that we can use it. We'll relabel it so that your analysis is easier."
   ]
  },
  {
   "cell_type": "code",
   "execution_count": 2,
   "id": "ba9e97c8",
   "metadata": {},
   "outputs": [
    {
     "data": {
      "text/html": [
       "<table border=\"1\" class=\"dataframe\">\n",
       "    <thead>\n",
       "        <tr>\n",
       "            <th>PLAYER</th> <th>POSITION</th> <th>TEAM</th> <th>SALARY</th>\n",
       "        </tr>\n",
       "    </thead>\n",
       "    <tbody>\n",
       "        <tr>\n",
       "            <td>Paul Millsap    </td> <td>PF      </td> <td>Atlanta Hawks</td> <td>18.6717</td>\n",
       "        </tr>\n",
       "        <tr>\n",
       "            <td>Al Horford      </td> <td>C       </td> <td>Atlanta Hawks</td> <td>12     </td>\n",
       "        </tr>\n",
       "        <tr>\n",
       "            <td>Tiago Splitter  </td> <td>C       </td> <td>Atlanta Hawks</td> <td>9.75625</td>\n",
       "        </tr>\n",
       "        <tr>\n",
       "            <td>Jeff Teague     </td> <td>PG      </td> <td>Atlanta Hawks</td> <td>8      </td>\n",
       "        </tr>\n",
       "        <tr>\n",
       "            <td>Kyle Korver     </td> <td>SG      </td> <td>Atlanta Hawks</td> <td>5.74648</td>\n",
       "        </tr>\n",
       "        <tr>\n",
       "            <td>Thabo Sefolosha </td> <td>SF      </td> <td>Atlanta Hawks</td> <td>4      </td>\n",
       "        </tr>\n",
       "        <tr>\n",
       "            <td>Mike Scott      </td> <td>PF      </td> <td>Atlanta Hawks</td> <td>3.33333</td>\n",
       "        </tr>\n",
       "        <tr>\n",
       "            <td>Kent Bazemore   </td> <td>SF      </td> <td>Atlanta Hawks</td> <td>2      </td>\n",
       "        </tr>\n",
       "        <tr>\n",
       "            <td>Dennis Schroder </td> <td>PG      </td> <td>Atlanta Hawks</td> <td>1.7634 </td>\n",
       "        </tr>\n",
       "        <tr>\n",
       "            <td>Tim Hardaway Jr.</td> <td>SG      </td> <td>Atlanta Hawks</td> <td>1.30452</td>\n",
       "        </tr>\n",
       "    </tbody>\n",
       "</table>\n",
       "<p>... (407 rows omitted)</p>"
      ],
      "text/plain": [
       "PLAYER           | POSITION | TEAM          | SALARY\n",
       "Paul Millsap     | PF       | Atlanta Hawks | 18.6717\n",
       "Al Horford       | C        | Atlanta Hawks | 12\n",
       "Tiago Splitter   | C        | Atlanta Hawks | 9.75625\n",
       "Jeff Teague      | PG       | Atlanta Hawks | 8\n",
       "Kyle Korver      | SG       | Atlanta Hawks | 5.74648\n",
       "Thabo Sefolosha  | SF       | Atlanta Hawks | 4\n",
       "Mike Scott       | PF       | Atlanta Hawks | 3.33333\n",
       "Kent Bazemore    | SF       | Atlanta Hawks | 2\n",
       "Dennis Schroder  | PG       | Atlanta Hawks | 1.7634\n",
       "Tim Hardaway Jr. | SG       | Atlanta Hawks | 1.30452\n",
       "... (407 rows omitted)"
      ]
     },
     "execution_count": 2,
     "metadata": {},
     "output_type": "execute_result"
    }
   ],
   "source": [
    "nba = Table.read_table('nba_salaries.csv')\n",
    "nba = nba.relabeled('2015-2016 SALARY', 'SALARY')\n",
    "nba"
   ]
  },
  {
   "cell_type": "markdown",
   "id": "479465b5",
   "metadata": {},
   "source": [
    "<div class=\"alert alert-warning\">\n",
    "    <b>PRACTICE:</b> Write code that evaluates to the lowest salary paid to an NBA player in the 2015-2016 season. Then, repeat the proces for the highest salary paid. \n",
    "\n",
    "Once you have found those, write code that prints the following statements. Instead of salaries of \\$10,000 and \\$100,000 be sure to use the true lowest and highest salaries of the NBA.\n",
    "\n",
    "<ul>\n",
    "    <li>The lowest salary paid is \\$10000\n",
    "    <li>The highest slary paid is \\$100000\n",
    "    </ul>\n",
    "    </div>"
   ]
  },
  {
   "cell_type": "code",
   "execution_count": null,
   "id": "b223a388",
   "metadata": {},
   "outputs": [],
   "source": [
    "..."
   ]
  },
  {
   "cell_type": "code",
   "execution_count": 3,
   "id": "5df81656",
   "metadata": {},
   "outputs": [
    {
     "name": "stdout",
     "output_type": "stream",
     "text": [
      "The lowest salary paid is $30888.0\n",
      "The highest salary paid is $25000000.0\n"
     ]
    }
   ],
   "source": [
    "# SOLUTION\n",
    "lowest = nba.sort('SALARY').column('SALARY').item(0)\n",
    "highest = nba.sort('SALARY', descending=True).column('SALARY').item(0)\n",
    "\n",
    "print(\"The lowest salary paid is $\" + str(lowest * 1000000))\n",
    "print(\"The highest salary paid is $\" + str(highest * 1000000))"
   ]
  },
  {
   "cell_type": "markdown",
   "id": "1d26e275",
   "metadata": {},
   "source": [
    "<div class=\"alert alert-warning\">\n",
    "    <b>PRACTICE:</b> Create a table that contains the percentage of total team compensation that each player receives. For example, a player who is paid \\$50,000 in a team that pays a total of \\$500,000 to its players will have a share of 10%.\n",
    "    \n",
    "In order to do this, you need to have a column in your <code>nba</code>table that denotes each player's team's total compensation.</div>\n",
    "\n",
    "TEAM|SALARY sum\n",
    "-|-\n",
    "Atlanta Hawks|69.5731\n",
    "...|...\n",
    "\n",
    "Start by creating a table like the one above; call it `total_pay`. It should have one row per NBA team and a column for the total compensation each team pays. In the code cell afterwards, we'll join this information to our table."
   ]
  },
  {
   "cell_type": "code",
   "execution_count": null,
   "id": "1e3df02f",
   "metadata": {},
   "outputs": [],
   "source": [
    "..."
   ]
  },
  {
   "cell_type": "code",
   "execution_count": 4,
   "id": "9b72c921",
   "metadata": {},
   "outputs": [
    {
     "data": {
      "text/html": [
       "<table border=\"1\" class=\"dataframe\">\n",
       "    <thead>\n",
       "        <tr>\n",
       "            <th>TEAM</th> <th>SALARY sum</th>\n",
       "        </tr>\n",
       "    </thead>\n",
       "    <tbody>\n",
       "        <tr>\n",
       "            <td>Atlanta Hawks        </td> <td>69.5731   </td>\n",
       "        </tr>\n",
       "        <tr>\n",
       "            <td>Boston Celtics       </td> <td>50.2855   </td>\n",
       "        </tr>\n",
       "        <tr>\n",
       "            <td>Brooklyn Nets        </td> <td>57.307    </td>\n",
       "        </tr>\n",
       "        <tr>\n",
       "            <td>Charlotte Hornets    </td> <td>84.1024   </td>\n",
       "        </tr>\n",
       "        <tr>\n",
       "            <td>Chicago Bulls        </td> <td>78.8209   </td>\n",
       "        </tr>\n",
       "        <tr>\n",
       "            <td>Cleveland Cavaliers  </td> <td>102.312   </td>\n",
       "        </tr>\n",
       "        <tr>\n",
       "            <td>Dallas Mavericks     </td> <td>65.7626   </td>\n",
       "        </tr>\n",
       "        <tr>\n",
       "            <td>Denver Nuggets       </td> <td>62.4294   </td>\n",
       "        </tr>\n",
       "        <tr>\n",
       "            <td>Detroit Pistons      </td> <td>42.2118   </td>\n",
       "        </tr>\n",
       "        <tr>\n",
       "            <td>Golden State Warriors</td> <td>94.0851   </td>\n",
       "        </tr>\n",
       "    </tbody>\n",
       "</table>\n",
       "<p>... (20 rows omitted)</p>"
      ],
      "text/plain": [
       "TEAM                  | SALARY sum\n",
       "Atlanta Hawks         | 69.5731\n",
       "Boston Celtics        | 50.2855\n",
       "Brooklyn Nets         | 57.307\n",
       "Charlotte Hornets     | 84.1024\n",
       "Chicago Bulls         | 78.8209\n",
       "Cleveland Cavaliers   | 102.312\n",
       "Dallas Mavericks      | 65.7626\n",
       "Denver Nuggets        | 62.4294\n",
       "Detroit Pistons       | 42.2118\n",
       "Golden State Warriors | 94.0851\n",
       "... (20 rows omitted)"
      ]
     },
     "execution_count": 4,
     "metadata": {},
     "output_type": "execute_result"
    }
   ],
   "source": [
    "# SOLUTION\n",
    "team_and_money = nba.select('TEAM', 'SALARY')\n",
    "total_pay = team_and_money.group('TEAM', sum)\n",
    "total_pay"
   ]
  },
  {
   "cell_type": "markdown",
   "id": "54f0f335",
   "metadata": {},
   "source": [
    "Here, we'll join the previous information to the original table. Don't worry too much about how it works, but take a look at the table to see what happened."
   ]
  },
  {
   "cell_type": "code",
   "execution_count": 5,
   "id": "44d769ef",
   "metadata": {},
   "outputs": [
    {
     "data": {
      "text/html": [
       "<table border=\"1\" class=\"dataframe\">\n",
       "    <thead>\n",
       "        <tr>\n",
       "            <th>TEAM</th> <th>PLAYER</th> <th>POSITION</th> <th>SALARY</th> <th>SALARY sum</th>\n",
       "        </tr>\n",
       "    </thead>\n",
       "    <tbody>\n",
       "        <tr>\n",
       "            <td>Atlanta Hawks</td> <td>Paul Millsap    </td> <td>PF      </td> <td>18.6717</td> <td>69.5731   </td>\n",
       "        </tr>\n",
       "        <tr>\n",
       "            <td>Atlanta Hawks</td> <td>Al Horford      </td> <td>C       </td> <td>12     </td> <td>69.5731   </td>\n",
       "        </tr>\n",
       "        <tr>\n",
       "            <td>Atlanta Hawks</td> <td>Tiago Splitter  </td> <td>C       </td> <td>9.75625</td> <td>69.5731   </td>\n",
       "        </tr>\n",
       "        <tr>\n",
       "            <td>Atlanta Hawks</td> <td>Jeff Teague     </td> <td>PG      </td> <td>8      </td> <td>69.5731   </td>\n",
       "        </tr>\n",
       "        <tr>\n",
       "            <td>Atlanta Hawks</td> <td>Kyle Korver     </td> <td>SG      </td> <td>5.74648</td> <td>69.5731   </td>\n",
       "        </tr>\n",
       "        <tr>\n",
       "            <td>Atlanta Hawks</td> <td>Thabo Sefolosha </td> <td>SF      </td> <td>4      </td> <td>69.5731   </td>\n",
       "        </tr>\n",
       "        <tr>\n",
       "            <td>Atlanta Hawks</td> <td>Mike Scott      </td> <td>PF      </td> <td>3.33333</td> <td>69.5731   </td>\n",
       "        </tr>\n",
       "        <tr>\n",
       "            <td>Atlanta Hawks</td> <td>Kent Bazemore   </td> <td>SF      </td> <td>2      </td> <td>69.5731   </td>\n",
       "        </tr>\n",
       "        <tr>\n",
       "            <td>Atlanta Hawks</td> <td>Dennis Schroder </td> <td>PG      </td> <td>1.7634 </td> <td>69.5731   </td>\n",
       "        </tr>\n",
       "        <tr>\n",
       "            <td>Atlanta Hawks</td> <td>Tim Hardaway Jr.</td> <td>SG      </td> <td>1.30452</td> <td>69.5731   </td>\n",
       "        </tr>\n",
       "    </tbody>\n",
       "</table>\n",
       "<p>... (407 rows omitted)</p>"
      ],
      "text/plain": [
       "TEAM          | PLAYER           | POSITION | SALARY  | SALARY sum\n",
       "Atlanta Hawks | Paul Millsap     | PF       | 18.6717 | 69.5731\n",
       "Atlanta Hawks | Al Horford       | C        | 12      | 69.5731\n",
       "Atlanta Hawks | Tiago Splitter   | C        | 9.75625 | 69.5731\n",
       "Atlanta Hawks | Jeff Teague      | PG       | 8       | 69.5731\n",
       "Atlanta Hawks | Kyle Korver      | SG       | 5.74648 | 69.5731\n",
       "Atlanta Hawks | Thabo Sefolosha  | SF       | 4       | 69.5731\n",
       "Atlanta Hawks | Mike Scott       | PF       | 3.33333 | 69.5731\n",
       "Atlanta Hawks | Kent Bazemore    | SF       | 2       | 69.5731\n",
       "Atlanta Hawks | Dennis Schroder  | PG       | 1.7634  | 69.5731\n",
       "Atlanta Hawks | Tim Hardaway Jr. | SG       | 1.30452 | 69.5731\n",
       "... (407 rows omitted)"
      ]
     },
     "execution_count": 5,
     "metadata": {},
     "output_type": "execute_result"
    }
   ],
   "source": [
    "nba_and_total = nba.join('TEAM', total_pay)\n",
    "nba_and_total"
   ]
  },
  {
   "cell_type": "markdown",
   "id": "1482a221",
   "metadata": {},
   "source": [
    "From here, you should be able to create a table that has the shares of each player. Do so in however many code cells you would like."
   ]
  },
  {
   "cell_type": "code",
   "execution_count": null,
   "id": "9da4403d",
   "metadata": {},
   "outputs": [],
   "source": [
    "..."
   ]
  },
  {
   "cell_type": "code",
   "execution_count": 6,
   "id": "c1e92db9",
   "metadata": {},
   "outputs": [
    {
     "data": {
      "text/html": [
       "<table border=\"1\" class=\"dataframe\">\n",
       "    <thead>\n",
       "        <tr>\n",
       "            <th>TEAM</th> <th>PLAYER</th> <th>POSITION</th> <th>SALARY</th> <th>SALARY sum</th> <th>SHARE</th>\n",
       "        </tr>\n",
       "    </thead>\n",
       "    <tbody>\n",
       "        <tr>\n",
       "            <td>Atlanta Hawks</td> <td>Paul Millsap    </td> <td>PF      </td> <td>18.6717</td> <td>69.5731   </td> <td>0.268375 </td>\n",
       "        </tr>\n",
       "        <tr>\n",
       "            <td>Atlanta Hawks</td> <td>Al Horford      </td> <td>C       </td> <td>12     </td> <td>69.5731   </td> <td>0.17248  </td>\n",
       "        </tr>\n",
       "        <tr>\n",
       "            <td>Atlanta Hawks</td> <td>Tiago Splitter  </td> <td>C       </td> <td>9.75625</td> <td>69.5731   </td> <td>0.14023  </td>\n",
       "        </tr>\n",
       "        <tr>\n",
       "            <td>Atlanta Hawks</td> <td>Jeff Teague     </td> <td>PG      </td> <td>8      </td> <td>69.5731   </td> <td>0.114987 </td>\n",
       "        </tr>\n",
       "        <tr>\n",
       "            <td>Atlanta Hawks</td> <td>Kyle Korver     </td> <td>SG      </td> <td>5.74648</td> <td>69.5731   </td> <td>0.0825963</td>\n",
       "        </tr>\n",
       "        <tr>\n",
       "            <td>Atlanta Hawks</td> <td>Thabo Sefolosha </td> <td>SF      </td> <td>4      </td> <td>69.5731   </td> <td>0.0574935</td>\n",
       "        </tr>\n",
       "        <tr>\n",
       "            <td>Atlanta Hawks</td> <td>Mike Scott      </td> <td>PF      </td> <td>3.33333</td> <td>69.5731   </td> <td>0.0479112</td>\n",
       "        </tr>\n",
       "        <tr>\n",
       "            <td>Atlanta Hawks</td> <td>Kent Bazemore   </td> <td>SF      </td> <td>2      </td> <td>69.5731   </td> <td>0.0287467</td>\n",
       "        </tr>\n",
       "        <tr>\n",
       "            <td>Atlanta Hawks</td> <td>Dennis Schroder </td> <td>PG      </td> <td>1.7634 </td> <td>69.5731   </td> <td>0.025346 </td>\n",
       "        </tr>\n",
       "        <tr>\n",
       "            <td>Atlanta Hawks</td> <td>Tim Hardaway Jr.</td> <td>SG      </td> <td>1.30452</td> <td>69.5731   </td> <td>0.0187503</td>\n",
       "        </tr>\n",
       "    </tbody>\n",
       "</table>\n",
       "<p>... (407 rows omitted)</p>"
      ],
      "text/plain": [
       "TEAM          | PLAYER           | POSITION | SALARY  | SALARY sum | SHARE\n",
       "Atlanta Hawks | Paul Millsap     | PF       | 18.6717 | 69.5731    | 0.268375\n",
       "Atlanta Hawks | Al Horford       | C        | 12      | 69.5731    | 0.17248\n",
       "Atlanta Hawks | Tiago Splitter   | C        | 9.75625 | 69.5731    | 0.14023\n",
       "Atlanta Hawks | Jeff Teague      | PG       | 8       | 69.5731    | 0.114987\n",
       "Atlanta Hawks | Kyle Korver      | SG       | 5.74648 | 69.5731    | 0.0825963\n",
       "Atlanta Hawks | Thabo Sefolosha  | SF       | 4       | 69.5731    | 0.0574935\n",
       "Atlanta Hawks | Mike Scott       | PF       | 3.33333 | 69.5731    | 0.0479112\n",
       "Atlanta Hawks | Kent Bazemore    | SF       | 2       | 69.5731    | 0.0287467\n",
       "Atlanta Hawks | Dennis Schroder  | PG       | 1.7634  | 69.5731    | 0.025346\n",
       "Atlanta Hawks | Tim Hardaway Jr. | SG       | 1.30452 | 69.5731    | 0.0187503\n",
       "... (407 rows omitted)"
      ]
     },
     "execution_count": 6,
     "metadata": {},
     "output_type": "execute_result"
    }
   ],
   "source": [
    "# SOLUTION\n",
    "player_shares_arr = nba_and_total.column('SALARY') / nba_and_total.column('SALARY sum')\n",
    "player_shares = nba_and_total.with_column('SHARE', player_shares_arr)\n",
    "player_shares"
   ]
  },
  {
   "cell_type": "markdown",
   "id": "189fdbfb",
   "metadata": {},
   "source": [
    "<div class=\"alert alert-warning\">\n",
    "    <b>PRACTICE:</b> Use as many code cells as you would like to answer the following questions/prompts. \n",
    "    \n",
    "<ul>\n",
    "    <li>Find out which player takes up the largest share of his team's compensation. \n",
    "    <li>How many players take up more than 20% of their team's compensation?\n",
    "    <li>Are there any teams in which multiple players take up 20% of the team compensation? \n",
    "    </ul>\n",
    "\n",
    "Try to write your code such that it evaluates to the answer to the question exactly (eg. an integer, True/False).</div>"
   ]
  },
  {
   "cell_type": "code",
   "execution_count": null,
   "id": "76261f22",
   "metadata": {},
   "outputs": [],
   "source": [
    "..."
   ]
  },
  {
   "cell_type": "code",
   "execution_count": null,
   "id": "143660b0",
   "metadata": {},
   "outputs": [],
   "source": [
    "..."
   ]
  },
  {
   "cell_type": "code",
   "execution_count": null,
   "id": "163c626d",
   "metadata": {},
   "outputs": [],
   "source": [
    "..."
   ]
  },
  {
   "cell_type": "code",
   "execution_count": 7,
   "id": "f886078c",
   "metadata": {},
   "outputs": [
    {
     "data": {
      "text/plain": [
       "'Joe Johnson'"
      ]
     },
     "execution_count": 7,
     "metadata": {},
     "output_type": "execute_result"
    }
   ],
   "source": [
    "# SOLUTION\n",
    "player_shares.sort('SHARE', descending=True).column('PLAYER').item(0)"
   ]
  },
  {
   "cell_type": "code",
   "execution_count": 8,
   "id": "4f6cfcad",
   "metadata": {},
   "outputs": [
    {
     "data": {
      "text/plain": [
       "28"
      ]
     },
     "execution_count": 8,
     "metadata": {},
     "output_type": "execute_result"
    }
   ],
   "source": [
    "# SOLUTION\n",
    "player_shares.where('SHARE', are.above(0.2)).num_rows"
   ]
  },
  {
   "cell_type": "code",
   "execution_count": 9,
   "id": "e0f92064",
   "metadata": {},
   "outputs": [
    {
     "data": {
      "text/plain": [
       "True"
      ]
     },
     "execution_count": 9,
     "metadata": {},
     "output_type": "execute_result"
    }
   ],
   "source": [
    "# SOLUTION\n",
    "team_high_share = player_shares.where('SHARE', are.above(0.2)).group('TEAM')\n",
    "multiple_high_share = team_high_share.column('count') > 1\n",
    "np.count_nonzero(multiple_high_share) >= 1"
   ]
  },
  {
   "cell_type": "markdown",
   "id": "5bf1a1ca",
   "metadata": {},
   "source": [
    "## More Exploration"
   ]
  },
  {
   "cell_type": "code",
   "execution_count": 10,
   "id": "393d66fa",
   "metadata": {
    "scrolled": true
   },
   "outputs": [
    {
     "data": {
      "text/html": [
       "<table border=\"1\" class=\"dataframe\">\n",
       "    <thead>\n",
       "        <tr>\n",
       "            <th>TEAM</th> <th>PLAYER</th> <th>POSITION</th> <th>SALARY</th> <th>SALARY sum</th> <th>SHARE</th>\n",
       "        </tr>\n",
       "    </thead>\n",
       "    <tbody>\n",
       "        <tr>\n",
       "            <td>Philadelphia 76ers</td> <td>Gerald Wallace  </td> <td>SF      </td> <td>10.1059</td> <td>42.4813   </td> <td>0.237889</td>\n",
       "        </tr>\n",
       "        <tr>\n",
       "            <td>Phoenix Suns      </td> <td>Tyson Chandler  </td> <td>C       </td> <td>13     </td> <td>50.5208   </td> <td>0.25732 </td>\n",
       "        </tr>\n",
       "        <tr>\n",
       "            <td>Phoenix Suns      </td> <td>Eric Bledsoe    </td> <td>PG      </td> <td>13.5   </td> <td>50.5208   </td> <td>0.267217</td>\n",
       "        </tr>\n",
       "        <tr>\n",
       "            <td>Detroit Pistons   </td> <td>Reggie Jackson  </td> <td>PG      </td> <td>13.913 </td> <td>42.2118   </td> <td>0.329601</td>\n",
       "        </tr>\n",
       "        <tr>\n",
       "            <td>Denver Nuggets    </td> <td>Danilo Gallinari</td> <td>SF      </td> <td>14     </td> <td>62.4294   </td> <td>0.224253</td>\n",
       "        </tr>\n",
       "        <tr>\n",
       "            <td>Milwaukee Bucks   </td> <td>Khris Middleton </td> <td>SG      </td> <td>14.7   </td> <td>52.2584   </td> <td>0.281295</td>\n",
       "        </tr>\n",
       "        <tr>\n",
       "            <td>Dallas Mavericks  </td> <td>Chandler Parsons</td> <td>SF      </td> <td>15.3615</td> <td>65.7626   </td> <td>0.23359 </td>\n",
       "        </tr>\n",
       "        <tr>\n",
       "            <td>Utah Jazz         </td> <td>Gordon Hayward  </td> <td>SF      </td> <td>15.4096</td> <td>52.6319   </td> <td>0.29278 </td>\n",
       "        </tr>\n",
       "        <tr>\n",
       "            <td>Dallas Mavericks  </td> <td>David Lee       </td> <td>PF      </td> <td>15.4937</td> <td>65.7626   </td> <td>0.2356  </td>\n",
       "        </tr>\n",
       "        <tr>\n",
       "            <td>Los Angeles Lakers</td> <td>Roy Hibbert     </td> <td>C       </td> <td>15.5922</td> <td>68.6079   </td> <td>0.227265</td>\n",
       "        </tr>\n",
       "    </tbody>\n",
       "</table>\n",
       "<p>... (18 rows omitted)</p>"
      ],
      "text/plain": [
       "TEAM               | PLAYER           | POSITION | SALARY  | SALARY sum | SHARE\n",
       "Philadelphia 76ers | Gerald Wallace   | SF       | 10.1059 | 42.4813    | 0.237889\n",
       "Phoenix Suns       | Tyson Chandler   | C        | 13      | 50.5208    | 0.25732\n",
       "Phoenix Suns       | Eric Bledsoe     | PG       | 13.5    | 50.5208    | 0.267217\n",
       "Detroit Pistons    | Reggie Jackson   | PG       | 13.913  | 42.2118    | 0.329601\n",
       "Denver Nuggets     | Danilo Gallinari | SF       | 14      | 62.4294    | 0.224253\n",
       "Milwaukee Bucks    | Khris Middleton  | SG       | 14.7    | 52.2584    | 0.281295\n",
       "Dallas Mavericks   | Chandler Parsons | SF       | 15.3615 | 65.7626    | 0.23359\n",
       "Utah Jazz          | Gordon Hayward   | SF       | 15.4096 | 52.6319    | 0.29278\n",
       "Dallas Mavericks   | David Lee        | PF       | 15.4937 | 65.7626    | 0.2356\n",
       "Los Angeles Lakers | Roy Hibbert      | C        | 15.5922 | 68.6079    | 0.227265\n",
       "... (18 rows omitted)"
      ]
     },
     "execution_count": 10,
     "metadata": {},
     "output_type": "execute_result"
    }
   ],
   "source": [
    "player_shares.where('SHARE', are.above(0.2)).sort('SALARY')"
   ]
  },
  {
   "cell_type": "code",
   "execution_count": 11,
   "id": "ba8ebfb0",
   "metadata": {},
   "outputs": [
    {
     "data": {
      "image/png": "[encoded data removed]",
      "text/plain": [
       "<Figure size 432x288 with 1 Axes>"
      ]
     },
     "metadata": {
      "needs_background": "light"
     },
     "output_type": "display_data"
    }
   ],
   "source": [
    "nba.hist('SALARY', normed=False)"
   ]
  },
  {
   "cell_type": "code",
   "execution_count": 12,
   "id": "2a8c6db3",
   "metadata": {},
   "outputs": [
    {
     "data": {
      "text/html": [
       "<table border=\"1\" class=\"dataframe\">\n",
       "    <thead>\n",
       "        <tr>\n",
       "            <th>TEAM</th> <th>PLAYER</th> <th>POSITION</th> <th>SALARY</th> <th>SALARY sum</th> <th>SHARE</th> <th>HIGH SHARE (>0.10)</th>\n",
       "        </tr>\n",
       "    </thead>\n",
       "    <tbody>\n",
       "        <tr>\n",
       "            <td>Atlanta Hawks</td> <td>Paul Millsap    </td> <td>PF      </td> <td>18.6717</td> <td>69.5731   </td> <td>0.268375 </td> <td>True              </td>\n",
       "        </tr>\n",
       "        <tr>\n",
       "            <td>Atlanta Hawks</td> <td>Al Horford      </td> <td>C       </td> <td>12     </td> <td>69.5731   </td> <td>0.17248  </td> <td>True              </td>\n",
       "        </tr>\n",
       "        <tr>\n",
       "            <td>Atlanta Hawks</td> <td>Tiago Splitter  </td> <td>C       </td> <td>9.75625</td> <td>69.5731   </td> <td>0.14023  </td> <td>True              </td>\n",
       "        </tr>\n",
       "        <tr>\n",
       "            <td>Atlanta Hawks</td> <td>Jeff Teague     </td> <td>PG      </td> <td>8      </td> <td>69.5731   </td> <td>0.114987 </td> <td>True              </td>\n",
       "        </tr>\n",
       "        <tr>\n",
       "            <td>Atlanta Hawks</td> <td>Kyle Korver     </td> <td>SG      </td> <td>5.74648</td> <td>69.5731   </td> <td>0.0825963</td> <td>False             </td>\n",
       "        </tr>\n",
       "        <tr>\n",
       "            <td>Atlanta Hawks</td> <td>Thabo Sefolosha </td> <td>SF      </td> <td>4      </td> <td>69.5731   </td> <td>0.0574935</td> <td>False             </td>\n",
       "        </tr>\n",
       "        <tr>\n",
       "            <td>Atlanta Hawks</td> <td>Mike Scott      </td> <td>PF      </td> <td>3.33333</td> <td>69.5731   </td> <td>0.0479112</td> <td>False             </td>\n",
       "        </tr>\n",
       "        <tr>\n",
       "            <td>Atlanta Hawks</td> <td>Kent Bazemore   </td> <td>SF      </td> <td>2      </td> <td>69.5731   </td> <td>0.0287467</td> <td>False             </td>\n",
       "        </tr>\n",
       "        <tr>\n",
       "            <td>Atlanta Hawks</td> <td>Dennis Schroder </td> <td>PG      </td> <td>1.7634 </td> <td>69.5731   </td> <td>0.025346 </td> <td>False             </td>\n",
       "        </tr>\n",
       "        <tr>\n",
       "            <td>Atlanta Hawks</td> <td>Tim Hardaway Jr.</td> <td>SG      </td> <td>1.30452</td> <td>69.5731   </td> <td>0.0187503</td> <td>False             </td>\n",
       "        </tr>\n",
       "    </tbody>\n",
       "</table>\n",
       "<p>... (407 rows omitted)</p>"
      ],
      "text/plain": [
       "TEAM          | PLAYER           | POSITION | SALARY  | SALARY sum | SHARE     | HIGH SHARE (>0.10)\n",
       "Atlanta Hawks | Paul Millsap     | PF       | 18.6717 | 69.5731    | 0.268375  | True\n",
       "Atlanta Hawks | Al Horford       | C        | 12      | 69.5731    | 0.17248   | True\n",
       "Atlanta Hawks | Tiago Splitter   | C        | 9.75625 | 69.5731    | 0.14023   | True\n",
       "Atlanta Hawks | Jeff Teague      | PG       | 8       | 69.5731    | 0.114987  | True\n",
       "Atlanta Hawks | Kyle Korver      | SG       | 5.74648 | 69.5731    | 0.0825963 | False\n",
       "Atlanta Hawks | Thabo Sefolosha  | SF       | 4       | 69.5731    | 0.0574935 | False\n",
       "Atlanta Hawks | Mike Scott       | PF       | 3.33333 | 69.5731    | 0.0479112 | False\n",
       "Atlanta Hawks | Kent Bazemore    | SF       | 2       | 69.5731    | 0.0287467 | False\n",
       "Atlanta Hawks | Dennis Schroder  | PG       | 1.7634  | 69.5731    | 0.025346  | False\n",
       "Atlanta Hawks | Tim Hardaway Jr. | SG       | 1.30452 | 69.5731    | 0.0187503 | False\n",
       "... (407 rows omitted)"
      ]
     },
     "execution_count": 12,
     "metadata": {},
     "output_type": "execute_result"
    }
   ],
   "source": [
    "high_share = player_shares.column('SHARE') > 0.10\n",
    "player_high_shares = player_shares.with_column('HIGH SHARE (>0.10)', high_share)\n",
    "player_high_shares"
   ]
  },
  {
   "cell_type": "code",
   "execution_count": 13,
   "id": "79a781a1",
   "metadata": {},
   "outputs": [
    {
     "name": "stderr",
     "output_type": "stream",
     "text": [
      "/opt/conda/lib/python3.9/site-packages/datascience/tables.py:920: VisibleDeprecationWarning: Creating an ndarray from ragged nested sequences (which is a list-or-tuple of lists-or-tuples-or ndarrays with different lengths or shapes) is deprecated. If you meant to do this, you must specify 'dtype=object' when creating the ndarray.\n",
      "  values = np.array(tuple(values))\n"
     ]
    },
    {
     "data": {
      "image/png": "[encoded data removed]",
      "text/plain": [
       "<Figure size 432x288 with 1 Axes>"
      ]
     },
     "metadata": {
      "needs_background": "light"
     },
     "output_type": "display_data"
    }
   ],
   "source": [
    "player_high_shares.hist('SALARY', group='HIGH SHARE (>0.10)', normed=False)"
   ]
  },
  {
   "cell_type": "code",
   "execution_count": 14,
   "id": "3e270a71",
   "metadata": {},
   "outputs": [
    {
     "name": "stderr",
     "output_type": "stream",
     "text": [
      "/opt/conda/lib/python3.9/site-packages/datascience/tables.py:920: VisibleDeprecationWarning: Creating an ndarray from ragged nested sequences (which is a list-or-tuple of lists-or-tuples-or ndarrays with different lengths or shapes) is deprecated. If you meant to do this, you must specify 'dtype=object' when creating the ndarray.\n",
      "  values = np.array(tuple(values))\n"
     ]
    },
    {
     "data": {
      "image/png": "[encoded data removed]",
      "text/plain": [
       "<Figure size 432x288 with 1 Axes>"
      ]
     },
     "metadata": {
      "needs_background": "light"
     },
     "output_type": "display_data"
    }
   ],
   "source": [
    "high_share = player_shares.column('SHARE') > 0.20\n",
    "player_high_shares = player_shares.with_column('HIGH SHARE (>0.20)', high_share)\n",
    "player_high_shares.hist('SALARY', group='HIGH SHARE (>0.20)', normed=False)"
   ]
  },
  {
   "cell_type": "code",
   "execution_count": 15,
   "id": "73a6ecb7",
   "metadata": {},
   "outputs": [
    {
     "name": "stderr",
     "output_type": "stream",
     "text": [
      "/opt/conda/lib/python3.9/site-packages/datascience/tables.py:920: VisibleDeprecationWarning: Creating an ndarray from ragged nested sequences (which is a list-or-tuple of lists-or-tuples-or ndarrays with different lengths or shapes) is deprecated. If you meant to do this, you must specify 'dtype=object' when creating the ndarray.\n",
      "  values = np.array(tuple(values))\n"
     ]
    },
    {
     "data": {
      "image/png": "[encoded data removed]",
      "text/plain": [
       "<Figure size 432x288 with 1 Axes>"
      ]
     },
     "metadata": {
      "needs_background": "light"
     },
     "output_type": "display_data"
    }
   ],
   "source": [
    "high_share = player_shares.column('SHARE') > 0.05\n",
    "player_high_shares = player_shares.with_column('HIGH SHARE (>0.05)', high_share)\n",
    "player_high_shares.hist('SALARY', group='HIGH SHARE (>0.05)', normed=False)"
   ]
  },
  {
   "cell_type": "code",
   "execution_count": 16,
   "id": "749296e5",
   "metadata": {},
   "outputs": [
    {
     "data": {
      "text/plain": [
       "(197, 220)"
      ]
     },
     "execution_count": 16,
     "metadata": {},
     "output_type": "execute_result"
    }
   ],
   "source": [
    "np.count_nonzero(high_share), len(high_share) - np.count_nonzero(high_share)"
   ]
  },
  {
   "cell_type": "code",
   "execution_count": 17,
   "id": "b743c776",
   "metadata": {},
   "outputs": [
    {
     "data": {
      "text/html": [
       "<table border=\"1\" class=\"dataframe\">\n",
       "    <thead>\n",
       "        <tr>\n",
       "            <th>POSITION</th> <th>SHARE average</th>\n",
       "        </tr>\n",
       "    </thead>\n",
       "    <tbody>\n",
       "        <tr>\n",
       "            <td>C       </td> <td>0.0852101    </td>\n",
       "        </tr>\n",
       "        <tr>\n",
       "            <td>SF      </td> <td>0.0801563    </td>\n",
       "        </tr>\n",
       "        <tr>\n",
       "            <td>PG      </td> <td>0.0734057    </td>\n",
       "        </tr>\n",
       "        <tr>\n",
       "            <td>PF      </td> <td>0.0687111    </td>\n",
       "        </tr>\n",
       "        <tr>\n",
       "            <td>SG      </td> <td>0.0569559    </td>\n",
       "        </tr>\n",
       "    </tbody>\n",
       "</table>"
      ],
      "text/plain": [
       "POSITION | SHARE average\n",
       "C        | 0.0852101\n",
       "SF       | 0.0801563\n",
       "PG       | 0.0734057\n",
       "PF       | 0.0687111\n",
       "SG       | 0.0569559"
      ]
     },
     "execution_count": 17,
     "metadata": {},
     "output_type": "execute_result"
    }
   ],
   "source": [
    "pos_avg_share = player_high_shares.select('POSITION', 'SHARE').group('POSITION', np.average)\n",
    "pos_avg_share.sort('SHARE average', descending=True) # compare this to report 10"
   ]
  },
  {
   "cell_type": "code",
   "execution_count": 18,
   "id": "096dce30",
   "metadata": {},
   "outputs": [
    {
     "name": "stderr",
     "output_type": "stream",
     "text": [
      "/opt/conda/lib/python3.9/site-packages/datascience/tables.py:920: VisibleDeprecationWarning: Creating an ndarray from ragged nested sequences (which is a list-or-tuple of lists-or-tuples-or ndarrays with different lengths or shapes) is deprecated. If you meant to do this, you must specify 'dtype=object' when creating the ndarray.\n",
      "  values = np.array(tuple(values))\n"
     ]
    },
    {
     "data": {
      "image/png": "[encoded data removed]",
      "text/plain": [
       "<Figure size 432x288 with 1 Axes>"
      ]
     },
     "metadata": {
      "needs_background": "light"
     },
     "output_type": "display_data"
    }
   ],
   "source": [
    "nba.hist('SALARY', group='POSITION', normed=False) # not a great vis"
   ]
  },
  {
   "cell_type": "markdown",
   "id": "e9f25780",
   "metadata": {},
   "source": [
    "### Downloading as PDF\n",
    "\n",
    "Download this notebook as a pdf by clicking <b><code>File > Download as > PDF via LaTeX</code></b>. Turn in the PDF into bCourses under the corresponding assignment."
   ]
  }
 ],
 "metadata": {
  "kernelspec": {
   "display_name": "Python 3 (ipykernel)",
   "language": "python",
   "name": "python3"
  },
  "language_info": {
   "codemirror_mode": {
    "name": "ipython",
    "version": 3
   },
   "file_extension": ".py",
   "mimetype": "text/x-python",
   "name": "python",
   "nbconvert_exporter": "python",
   "pygments_lexer": "ipython3",
   "version": "3.9.13"
  }
 },
 "nbformat": 4,
 "nbformat_minor": 5
}
