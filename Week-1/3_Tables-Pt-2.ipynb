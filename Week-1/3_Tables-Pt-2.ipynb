{
 "cells": [
  {
   "cell_type": "markdown",
   "id": "201fbe3d",
   "metadata": {},
   "source": [
    "# Tables: Part 2 \n",
    "\n",
    "### Table of Contents\n",
    "\n",
    "1. Background Information\n",
    "2. Comparing Counties\n",
    "3. Looking at the Spread"
   ]
  },
  {
   "cell_type": "code",
   "execution_count": 1,
   "id": "a7a7fb3d",
   "metadata": {},
   "outputs": [],
   "source": [
    "# run this cell\n",
    "\n",
    "from datascience import *\n",
    "import numpy as np\n",
    "import math\n",
    "import matplotlib.pyplot as plt\n",
    "plt.style.use('fivethirtyeight')\n",
    "%matplotlib inline"
   ]
  },
  {
   "cell_type": "markdown",
   "id": "d0c0c908",
   "metadata": {},
   "source": [
    "Write introduction here!! Provide CES handout."
   ]
  },
  {
   "cell_type": "markdown",
   "id": "7a6562f0",
   "metadata": {},
   "source": [
    "Ask what a census tract is!!"
   ]
  },
  {
   "cell_type": "code",
   "execution_count": 2,
   "id": "5117afb0",
   "metadata": {
    "scrolled": true
   },
   "outputs": [
    {
     "data": {
      "text/html": [
       "<table border=\"1\" class=\"dataframe\">\n",
       "    <thead>\n",
       "        <tr>\n",
       "            <th>Census.Tract</th> <th>CES.3.0.Score</th> <th>Total.Population</th> <th>California.County</th> <th>Hispanic....</th> <th>White....</th> <th>African.American....</th> <th>Native.American....</th> <th>Asian.American....</th> <th>Other....</th> <th>ZIP</th> <th>Longitude</th> <th>Latitude</th> <th>Ozone</th> <th>PM2.5</th> <th>Diesel.PM</th> <th>Drinking.Water</th> <th>Pesticides</th> <th>Tox..Release</th> <th>Traffic</th> <th>Cleanup.Sites</th> <th>Groundwater.Threats</th> <th>Haz..Waste</th> <th>Imp..Water.Bodies</th> <th>Solid.Waste</th> <th>Pollution.Burden</th> <th>Asthma</th> <th>Low.Birth.Weight</th> <th>Poverty</th> <th>Unemployment</th>\n",
       "        </tr>\n",
       "    </thead>\n",
       "    <tbody>\n",
       "        <tr>\n",
       "            <td>6019001100  </td> <td>94.09        </td> <td>3174            </td> <td>Fresno           </td> <td>65.3        </td> <td>4.2      </td> <td>24.6                </td> <td>0.5                </td> <td>3.5               </td> <td>1.8      </td> <td>93706</td> <td>-119.782 </td> <td>36.7097 </td> <td>0.065</td> <td>15.4 </td> <td>48.524   </td> <td>681.2         </td> <td>2.75      </td> <td>18552       </td> <td>909.14 </td> <td>80.5         </td> <td>45.75              </td> <td>0.795     </td> <td>0                </td> <td>21.75      </td> <td>79.96           </td> <td>131.64</td> <td>7.44            </td> <td>76.3   </td> <td>17.6        </td>\n",
       "        </tr>\n",
       "        <tr>\n",
       "            <td>6071001600  </td> <td>90.68        </td> <td>6133            </td> <td>San Bernardino   </td> <td>91.1        </td> <td>5.8      </td> <td>0.7                 </td> <td>0.3                </td> <td>1.4               </td> <td>0.7      </td> <td>91761</td> <td>-117.618 </td> <td>34.0578 </td> <td>0.062</td> <td>13.31</td> <td>38.556   </td> <td>904.66        </td> <td>1.37      </td> <td>7494.24     </td> <td>782.26 </td> <td>66.2         </td> <td>36                 </td> <td>1.25      </td> <td>5                </td> <td>12         </td> <td>81.19           </td> <td>60.66 </td> <td>7.04            </td> <td>72.5   </td> <td>12.3        </td>\n",
       "        </tr>\n",
       "        <tr>\n",
       "            <td>6019000200  </td> <td>85.97        </td> <td>3167            </td> <td>Fresno           </td> <td>63.6        </td> <td>5.3      </td> <td>18.9                </td> <td>0.6                </td> <td>9.8               </td> <td>1.8      </td> <td>93706</td> <td>-119.806 </td> <td>36.7355 </td> <td>0.062</td> <td>15.4 </td> <td>47.445   </td> <td>681.2         </td> <td>3.03      </td> <td>12454.9     </td> <td>576.52 </td> <td>22           </td> <td>30.25              </td> <td>0.2       </td> <td>0                </td> <td>2.5        </td> <td>71.16           </td> <td>142.12</td> <td>10.16           </td> <td>86.8   </td> <td>16.1        </td>\n",
       "        </tr>\n",
       "        <tr>\n",
       "            <td>6077000801  </td> <td>82.49        </td> <td>6692            </td> <td>San Joaquin      </td> <td>57.4        </td> <td>6        </td> <td>12.5                </td> <td>0.3                </td> <td>20.9              </td> <td>2.8      </td> <td>95203</td> <td>-121.315 </td> <td>37.9405 </td> <td>0.046</td> <td>12.54</td> <td>24.117   </td> <td>278.76        </td> <td>12.93     </td> <td>2387.78     </td> <td>1305.01</td> <td>50.1         </td> <td>132.1              </td> <td>0.795     </td> <td>19               </td> <td>27         </td> <td>74.48           </td> <td>142.17</td> <td>6.23            </td> <td>61.3   </td> <td>19.6        </td>\n",
       "        </tr>\n",
       "        <tr>\n",
       "            <td>6019001500  </td> <td>82.03        </td> <td>2206            </td> <td>Fresno           </td> <td>71.8        </td> <td>21.4     </td> <td>1.2                 </td> <td>0.5                </td> <td>4.5               </td> <td>0.6      </td> <td>93725</td> <td>-119.718 </td> <td>36.6816 </td> <td>0.065</td> <td>15.4 </td> <td>18.846   </td> <td>1000.24       </td> <td>3518.41   </td> <td>21790.7     </td> <td>435.16 </td> <td>60           </td> <td>54.2               </td> <td>13.1      </td> <td>0                </td> <td>50.8       </td> <td>80.2            </td> <td>90.48 </td> <td>4.5             </td> <td>66.4   </td> <td>18.6        </td>\n",
       "        </tr>\n",
       "        <tr>\n",
       "            <td>6037204920  </td> <td>80.73        </td> <td>2598            </td> <td>Los Angeles      </td> <td>98.1        </td> <td>1.2      </td> <td>0.1                 </td> <td>0.1                </td> <td>0.2               </td> <td>0.3      </td> <td>90023</td> <td>-118.197 </td> <td>34.0175 </td> <td>0.046</td> <td>12.89</td> <td>56.52    </td> <td>714.48        </td> <td>0         </td> <td>39040.2     </td> <td>2943.44</td> <td>36.7         </td> <td>25                 </td> <td>4.93      </td> <td>7                </td> <td>3.85       </td> <td>76.73           </td> <td>68.74 </td> <td>7.35            </td> <td>66.4   </td> <td>11.6        </td>\n",
       "        </tr>\n",
       "        <tr>\n",
       "            <td>6077000300  </td> <td>80.18        </td> <td>2396            </td> <td>San Joaquin      </td> <td>51.8        </td> <td>16.4     </td> <td>16.4                </td> <td>1.3                </td> <td>9.9               </td> <td>4.1      </td> <td>95203</td> <td>-121.302 </td> <td>37.9524 </td> <td>0.046</td> <td>13.44</td> <td>21.76    </td> <td>278.76        </td> <td>172.49    </td> <td>707.536     </td> <td>885.52 </td> <td>89.7         </td> <td>149.05             </td> <td>0.135     </td> <td>14               </td> <td>2.3        </td> <td>68.27           </td> <td>169.56</td> <td>8.36            </td> <td>76.2   </td> <td>14.4        </td>\n",
       "        </tr>\n",
       "        <tr>\n",
       "            <td>6019001000  </td> <td>80.13        </td> <td>4106            </td> <td>Fresno           </td> <td>52.7        </td> <td>2.7      </td> <td>28.7                </td> <td>0.4                </td> <td>14.3              </td> <td>1.2      </td> <td>93706</td> <td>-119.804 </td> <td>36.6978 </td> <td>0.065</td> <td>15.4 </td> <td>20.848   </td> <td>788.02        </td> <td>1435.93   </td> <td>6996.96     </td> <td>243.54 </td> <td>15.45        </td> <td>20                 </td> <td>0         </td> <td>0                </td> <td>10         </td> <td>66.88           </td> <td>142.28</td> <td>7.83            </td> <td>74.5   </td> <td>20          </td>\n",
       "        </tr>\n",
       "        <tr>\n",
       "            <td>6037206050  </td> <td>79.03        </td> <td>2146            </td> <td>Los Angeles      </td> <td>79.3        </td> <td>8.9      </td> <td>4.1                 </td> <td>0.1                </td> <td>7.2               </td> <td>0.5      </td> <td>90023</td> <td>-118.224 </td> <td>34.0299 </td> <td>0.046</td> <td>12.89</td> <td>53.958   </td> <td>664.07        </td> <td>0         </td> <td>10378.2     </td> <td>2810.82</td> <td>36.05        </td> <td>16.25              </td> <td>10.025    </td> <td>7                </td> <td>22.1       </td> <td>77.09           </td> <td>58.03 </td> <td>6.71            </td> <td>75.7   </td> <td>28.5        </td>\n",
       "        </tr>\n",
       "        <tr>\n",
       "            <td>6019000400  </td> <td>78.53        </td> <td>6343            </td> <td>Fresno           </td> <td>78          </td> <td>9.1      </td> <td>5.8                 </td> <td>0.8                </td> <td>5.3               </td> <td>0.9      </td> <td>93721</td> <td>-119.776 </td> <td>36.7277 </td> <td>0.065</td> <td>15.4 </td> <td>54.356   </td> <td>681.2         </td> <td>114.96    </td> <td>125384      </td> <td>815.36 </td> <td>15.95        </td> <td>13.5               </td> <td>0.755     </td> <td>0                </td> <td>0.5        </td> <td>73.89           </td> <td>107.8 </td> <td>4.79            </td> <td>83.4   </td> <td>23.5        </td>\n",
       "        </tr>\n",
       "    </tbody>\n",
       "</table>\n",
       "<p>... (7901 rows omitted)</p>"
      ],
      "text/plain": [
       "Census.Tract | CES.3.0.Score | Total.Population | California.County | Hispanic.... | White.... | African.American.... | Native.American.... | Asian.American.... | Other.... | ZIP   | Longitude | Latitude | Ozone | PM2.5 | Diesel.PM | Drinking.Water | Pesticides | Tox..Release | Traffic | Cleanup.Sites | Groundwater.Threats | Haz..Waste | Imp..Water.Bodies | Solid.Waste | Pollution.Burden | Asthma | Low.Birth.Weight | Poverty | Unemployment\n",
       "6019001100   | 94.09         | 3174             | Fresno            | 65.3         | 4.2       | 24.6                 | 0.5                 | 3.5                | 1.8       | 93706 | -119.782  | 36.7097  | 0.065 | 15.4  | 48.524    | 681.2          | 2.75       | 18552        | 909.14  | 80.5          | 45.75               | 0.795      | 0                 | 21.75       | 79.96            | 131.64 | 7.44             | 76.3    | 17.6\n",
       "6071001600   | 90.68         | 6133             | San Bernardino    | 91.1         | 5.8       | 0.7                  | 0.3                 | 1.4                | 0.7       | 91761 | -117.618  | 34.0578  | 0.062 | 13.31 | 38.556    | 904.66         | 1.37       | 7494.24      | 782.26  | 66.2          | 36                  | 1.25       | 5                 | 12          | 81.19            | 60.66  | 7.04             | 72.5    | 12.3\n",
       "6019000200   | 85.97         | 3167             | Fresno            | 63.6         | 5.3       | 18.9                 | 0.6                 | 9.8                | 1.8       | 93706 | -119.806  | 36.7355  | 0.062 | 15.4  | 47.445    | 681.2          | 3.03       | 12454.9      | 576.52  | 22            | 30.25               | 0.2        | 0                 | 2.5         | 71.16            | 142.12 | 10.16            | 86.8    | 16.1\n",
       "6077000801   | 82.49         | 6692             | San Joaquin       | 57.4         | 6         | 12.5                 | 0.3                 | 20.9               | 2.8       | 95203 | -121.315  | 37.9405  | 0.046 | 12.54 | 24.117    | 278.76         | 12.93      | 2387.78      | 1305.01 | 50.1          | 132.1               | 0.795      | 19                | 27          | 74.48            | 142.17 | 6.23             | 61.3    | 19.6\n",
       "6019001500   | 82.03         | 2206             | Fresno            | 71.8         | 21.4      | 1.2                  | 0.5                 | 4.5                | 0.6       | 93725 | -119.718  | 36.6816  | 0.065 | 15.4  | 18.846    | 1000.24        | 3518.41    | 21790.7      | 435.16  | 60            | 54.2                | 13.1       | 0                 | 50.8        | 80.2             | 90.48  | 4.5              | 66.4    | 18.6\n",
       "6037204920   | 80.73         | 2598             | Los Angeles       | 98.1         | 1.2       | 0.1                  | 0.1                 | 0.2                | 0.3       | 90023 | -118.197  | 34.0175  | 0.046 | 12.89 | 56.52     | 714.48         | 0          | 39040.2      | 2943.44 | 36.7          | 25                  | 4.93       | 7                 | 3.85        | 76.73            | 68.74  | 7.35             | 66.4    | 11.6\n",
       "6077000300   | 80.18         | 2396             | San Joaquin       | 51.8         | 16.4      | 16.4                 | 1.3                 | 9.9                | 4.1       | 95203 | -121.302  | 37.9524  | 0.046 | 13.44 | 21.76     | 278.76         | 172.49     | 707.536      | 885.52  | 89.7          | 149.05              | 0.135      | 14                | 2.3         | 68.27            | 169.56 | 8.36             | 76.2    | 14.4\n",
       "6019001000   | 80.13         | 4106             | Fresno            | 52.7         | 2.7       | 28.7                 | 0.4                 | 14.3               | 1.2       | 93706 | -119.804  | 36.6978  | 0.065 | 15.4  | 20.848    | 788.02         | 1435.93    | 6996.96      | 243.54  | 15.45         | 20                  | 0          | 0                 | 10          | 66.88            | 142.28 | 7.83             | 74.5    | 20\n",
       "6037206050   | 79.03         | 2146             | Los Angeles       | 79.3         | 8.9       | 4.1                  | 0.1                 | 7.2                | 0.5       | 90023 | -118.224  | 34.0299  | 0.046 | 12.89 | 53.958    | 664.07         | 0          | 10378.2      | 2810.82 | 36.05         | 16.25               | 10.025     | 7                 | 22.1        | 77.09            | 58.03  | 6.71             | 75.7    | 28.5\n",
       "6019000400   | 78.53         | 6343             | Fresno            | 78           | 9.1       | 5.8                  | 0.8                 | 5.3                | 0.9       | 93721 | -119.776  | 36.7277  | 0.065 | 15.4  | 54.356    | 681.2          | 114.96     | 125384       | 815.36  | 15.95         | 13.5                | 0.755      | 0                 | 0.5         | 73.89            | 107.8  | 4.79             | 83.4    | 23.5\n",
       "... (7901 rows omitted)"
      ]
     },
     "execution_count": 2,
     "metadata": {},
     "output_type": "execute_result"
    }
   ],
   "source": [
    "ces_data = Table.read_table(\"ces_data.csv\")\n",
    "\n",
    "ces_data = ces_data.where(\"CES.3.0.Score\", are.above(0))\n",
    "ces_data = ces_data.where(\"Ozone\", are.above(0))\n",
    "ces_data = ces_data.where(\"PM2.5\", are.above(0))\n",
    "ces_data"
   ]
  },
  {
   "cell_type": "markdown",
   "id": "af29e7cb",
   "metadata": {},
   "source": [
    "In UC Berkeley's own introductory data science course, a [Python reference sheet](http://data8.org/su22/python-reference.html) is used. !!"
   ]
  },
  {
   "cell_type": "markdown",
   "id": "be0d9896",
   "metadata": {},
   "source": [
    "<div class=\"alert alert-info\">\n",
    "    In the cell below, write code that evaluates to the number of rows and number of columns in this table. Then, explain what each row represents and the categories that the columns seem to fall under.\n",
    "    </div>"
   ]
  },
  {
   "cell_type": "code",
   "execution_count": 3,
   "id": "1ceb6a39",
   "metadata": {},
   "outputs": [
    {
     "name": "stdout",
     "output_type": "stream",
     "text": [
      "There are  7911  rows and  30  columns in this table.\n"
     ]
    }
   ],
   "source": [
    "num_rows = ces_data.num_rows\n",
    "num_columns = ces_data.num_columns\n",
    "\n",
    "print(\"There are \", num_rows, \" rows and \", num_columns, \" columns in this table.\")"
   ]
  },
  {
   "cell_type": "markdown",
   "id": "e8a5f599",
   "metadata": {},
   "source": [
    "_Written Answer:_"
   ]
  },
  {
   "cell_type": "markdown",
   "id": "0dedff10",
   "metadata": {},
   "source": [
    "Explain setup of the problem!!"
   ]
  },
  {
   "cell_type": "markdown",
   "id": "a4e6a842",
   "metadata": {},
   "source": [
    "<div class=\"alert alert-info\">\n",
    "    Now create a table with only the CES score, the name of county, the asthma rating, and three features that you think might be related to asthma rates.\n",
    "    </div>"
   ]
  },
  {
   "cell_type": "code",
   "execution_count": 4,
   "id": "22e218ae",
   "metadata": {
    "scrolled": true
   },
   "outputs": [
    {
     "data": {
      "text/html": [
       "<table border=\"1\" class=\"dataframe\">\n",
       "    <thead>\n",
       "        <tr>\n",
       "            <th>CES.3.0.Score</th> <th>California.County</th> <th>Asthma</th> <th>Ozone</th> <th>PM2.5</th> <th>Diesel.PM</th>\n",
       "        </tr>\n",
       "    </thead>\n",
       "    <tbody>\n",
       "        <tr>\n",
       "            <td>94.09        </td> <td>Fresno           </td> <td>131.64</td> <td>0.065</td> <td>15.4 </td> <td>48.524   </td>\n",
       "        </tr>\n",
       "        <tr>\n",
       "            <td>90.68        </td> <td>San Bernardino   </td> <td>60.66 </td> <td>0.062</td> <td>13.31</td> <td>38.556   </td>\n",
       "        </tr>\n",
       "        <tr>\n",
       "            <td>85.97        </td> <td>Fresno           </td> <td>142.12</td> <td>0.062</td> <td>15.4 </td> <td>47.445   </td>\n",
       "        </tr>\n",
       "        <tr>\n",
       "            <td>82.49        </td> <td>San Joaquin      </td> <td>142.17</td> <td>0.046</td> <td>12.54</td> <td>24.117   </td>\n",
       "        </tr>\n",
       "        <tr>\n",
       "            <td>82.03        </td> <td>Fresno           </td> <td>90.48 </td> <td>0.065</td> <td>15.4 </td> <td>18.846   </td>\n",
       "        </tr>\n",
       "        <tr>\n",
       "            <td>80.73        </td> <td>Los Angeles      </td> <td>68.74 </td> <td>0.046</td> <td>12.89</td> <td>56.52    </td>\n",
       "        </tr>\n",
       "        <tr>\n",
       "            <td>80.18        </td> <td>San Joaquin      </td> <td>169.56</td> <td>0.046</td> <td>13.44</td> <td>21.76    </td>\n",
       "        </tr>\n",
       "        <tr>\n",
       "            <td>80.13        </td> <td>Fresno           </td> <td>142.28</td> <td>0.065</td> <td>15.4 </td> <td>20.848   </td>\n",
       "        </tr>\n",
       "        <tr>\n",
       "            <td>79.03        </td> <td>Los Angeles      </td> <td>58.03 </td> <td>0.046</td> <td>12.89</td> <td>53.958   </td>\n",
       "        </tr>\n",
       "        <tr>\n",
       "            <td>78.53        </td> <td>Fresno           </td> <td>107.8 </td> <td>0.065</td> <td>15.4 </td> <td>54.356   </td>\n",
       "        </tr>\n",
       "    </tbody>\n",
       "</table>\n",
       "<p>... (7901 rows omitted)</p>"
      ],
      "text/plain": [
       "CES.3.0.Score | California.County | Asthma | Ozone | PM2.5 | Diesel.PM\n",
       "94.09         | Fresno            | 131.64 | 0.065 | 15.4  | 48.524\n",
       "90.68         | San Bernardino    | 60.66  | 0.062 | 13.31 | 38.556\n",
       "85.97         | Fresno            | 142.12 | 0.062 | 15.4  | 47.445\n",
       "82.49         | San Joaquin       | 142.17 | 0.046 | 12.54 | 24.117\n",
       "82.03         | Fresno            | 90.48  | 0.065 | 15.4  | 18.846\n",
       "80.73         | Los Angeles       | 68.74  | 0.046 | 12.89 | 56.52\n",
       "80.18         | San Joaquin       | 169.56 | 0.046 | 13.44 | 21.76\n",
       "80.13         | Fresno            | 142.28 | 0.065 | 15.4  | 20.848\n",
       "79.03         | Los Angeles       | 58.03  | 0.046 | 12.89 | 53.958\n",
       "78.53         | Fresno            | 107.8  | 0.065 | 15.4  | 54.356\n",
       "... (7901 rows omitted)"
      ]
     },
     "execution_count": 4,
     "metadata": {},
     "output_type": "execute_result"
    }
   ],
   "source": [
    "asthma_data = ces_data.select(\"CES.3.0.Score\", \"California.County\", \"Asthma\", \"Ozone\", \"PM2.5\", \"Diesel.PM\")\n",
    "asthma_data"
   ]
  },
  {
   "cell_type": "markdown",
   "id": "a20ca4d9",
   "metadata": {},
   "source": [
    "<div class=\"alert alert-info\">\n",
    "    Next, create a table that shows the counties of the ten cities with the <i>highest</i> CES scores. Recall that counties can repeat in this table and that tables will automatically show the first ten entries.\n",
    "    </div>"
   ]
  },
  {
   "cell_type": "code",
   "execution_count": 5,
   "id": "e06bada5",
   "metadata": {},
   "outputs": [
    {
     "data": {
      "text/html": [
       "<table border=\"1\" class=\"dataframe\">\n",
       "    <thead>\n",
       "        <tr>\n",
       "            <th>CES.3.0.Score</th> <th>California.County</th> <th>Asthma</th> <th>Ozone</th> <th>PM2.5</th> <th>Diesel.PM</th>\n",
       "        </tr>\n",
       "    </thead>\n",
       "    <tbody>\n",
       "        <tr>\n",
       "            <td>94.09        </td> <td>Fresno           </td> <td>131.64</td> <td>0.065</td> <td>15.4 </td> <td>48.524   </td>\n",
       "        </tr>\n",
       "        <tr>\n",
       "            <td>90.68        </td> <td>San Bernardino   </td> <td>60.66 </td> <td>0.062</td> <td>13.31</td> <td>38.556   </td>\n",
       "        </tr>\n",
       "        <tr>\n",
       "            <td>85.97        </td> <td>Fresno           </td> <td>142.12</td> <td>0.062</td> <td>15.4 </td> <td>47.445   </td>\n",
       "        </tr>\n",
       "        <tr>\n",
       "            <td>82.49        </td> <td>San Joaquin      </td> <td>142.17</td> <td>0.046</td> <td>12.54</td> <td>24.117   </td>\n",
       "        </tr>\n",
       "        <tr>\n",
       "            <td>82.03        </td> <td>Fresno           </td> <td>90.48 </td> <td>0.065</td> <td>15.4 </td> <td>18.846   </td>\n",
       "        </tr>\n",
       "        <tr>\n",
       "            <td>80.73        </td> <td>Los Angeles      </td> <td>68.74 </td> <td>0.046</td> <td>12.89</td> <td>56.52    </td>\n",
       "        </tr>\n",
       "        <tr>\n",
       "            <td>80.18        </td> <td>San Joaquin      </td> <td>169.56</td> <td>0.046</td> <td>13.44</td> <td>21.76    </td>\n",
       "        </tr>\n",
       "        <tr>\n",
       "            <td>80.13        </td> <td>Fresno           </td> <td>142.28</td> <td>0.065</td> <td>15.4 </td> <td>20.848   </td>\n",
       "        </tr>\n",
       "        <tr>\n",
       "            <td>79.03        </td> <td>Los Angeles      </td> <td>58.03 </td> <td>0.046</td> <td>12.89</td> <td>53.958   </td>\n",
       "        </tr>\n",
       "        <tr>\n",
       "            <td>78.53        </td> <td>Fresno           </td> <td>107.8 </td> <td>0.065</td> <td>15.4 </td> <td>54.356   </td>\n",
       "        </tr>\n",
       "    </tbody>\n",
       "</table>\n",
       "<p>... (7901 rows omitted)</p>"
      ],
      "text/plain": [
       "CES.3.0.Score | California.County | Asthma | Ozone | PM2.5 | Diesel.PM\n",
       "94.09         | Fresno            | 131.64 | 0.065 | 15.4  | 48.524\n",
       "90.68         | San Bernardino    | 60.66  | 0.062 | 13.31 | 38.556\n",
       "85.97         | Fresno            | 142.12 | 0.062 | 15.4  | 47.445\n",
       "82.49         | San Joaquin       | 142.17 | 0.046 | 12.54 | 24.117\n",
       "82.03         | Fresno            | 90.48  | 0.065 | 15.4  | 18.846\n",
       "80.73         | Los Angeles       | 68.74  | 0.046 | 12.89 | 56.52\n",
       "80.18         | San Joaquin       | 169.56 | 0.046 | 13.44 | 21.76\n",
       "80.13         | Fresno            | 142.28 | 0.065 | 15.4  | 20.848\n",
       "79.03         | Los Angeles       | 58.03  | 0.046 | 12.89 | 53.958\n",
       "78.53         | Fresno            | 107.8  | 0.065 | 15.4  | 54.356\n",
       "... (7901 rows omitted)"
      ]
     },
     "execution_count": 5,
     "metadata": {},
     "output_type": "execute_result"
    }
   ],
   "source": [
    "highest_ces = asthma_data.sort(\"CES.3.0.Score\", descending=True)\n",
    "highest_ces"
   ]
  },
  {
   "cell_type": "markdown",
   "id": "cf4aca36",
   "metadata": {},
   "source": [
    "<div class=\"alert alert-info\">\n",
    "    Now make a table that looks at the counties of the cities with the highest asthma values.\n",
    "    </div>"
   ]
  },
  {
   "cell_type": "code",
   "execution_count": 6,
   "id": "c812d1db",
   "metadata": {},
   "outputs": [
    {
     "data": {
      "text/html": [
       "<table border=\"1\" class=\"dataframe\">\n",
       "    <thead>\n",
       "        <tr>\n",
       "            <th>CES.3.0.Score</th> <th>California.County</th> <th>Asthma</th> <th>Ozone</th> <th>PM2.5</th> <th>Diesel.PM</th>\n",
       "        </tr>\n",
       "    </thead>\n",
       "    <tbody>\n",
       "        <tr>\n",
       "            <td>32.57        </td> <td>San Bernardino   </td> <td>278.83</td> <td>0.057</td> <td>9.15089</td> <td>1.229    </td>\n",
       "        </tr>\n",
       "        <tr>\n",
       "            <td>35.26        </td> <td>San Bernardino   </td> <td>249.59</td> <td>0.055</td> <td>7.83563</td> <td>1.176    </td>\n",
       "        </tr>\n",
       "        <tr>\n",
       "            <td>33.11        </td> <td>Solano           </td> <td>223.3 </td> <td>0.035</td> <td>7.85958</td> <td>10.166   </td>\n",
       "        </tr>\n",
       "        <tr>\n",
       "            <td>19.54        </td> <td>Solano           </td> <td>223.3 </td> <td>0.035</td> <td>7.85958</td> <td>13.32    </td>\n",
       "        </tr>\n",
       "        <tr>\n",
       "            <td>54.51        </td> <td>San Bernardino   </td> <td>220.9 </td> <td>0.06 </td> <td>7.02123</td> <td>17.148   </td>\n",
       "        </tr>\n",
       "        <tr>\n",
       "            <td>51.28        </td> <td>San Bernardino   </td> <td>220.9 </td> <td>0.06 </td> <td>7.02123</td> <td>23.168   </td>\n",
       "        </tr>\n",
       "        <tr>\n",
       "            <td>48.72        </td> <td>San Bernardino   </td> <td>220.9 </td> <td>0.06 </td> <td>7.00068</td> <td>16.296   </td>\n",
       "        </tr>\n",
       "        <tr>\n",
       "            <td>43.38        </td> <td>San Bernardino   </td> <td>220.9 </td> <td>0.06 </td> <td>6.99383</td> <td>10.244   </td>\n",
       "        </tr>\n",
       "        <tr>\n",
       "            <td>37.08        </td> <td>San Bernardino   </td> <td>220.9 </td> <td>0.06 </td> <td>7.02123</td> <td>4.528    </td>\n",
       "        </tr>\n",
       "        <tr>\n",
       "            <td>27.95        </td> <td>San Bernardino   </td> <td>220.9 </td> <td>0.06 </td> <td>6.99383</td> <td>4.903    </td>\n",
       "        </tr>\n",
       "    </tbody>\n",
       "</table>\n",
       "<p>... (7901 rows omitted)</p>"
      ],
      "text/plain": [
       "CES.3.0.Score | California.County | Asthma | Ozone | PM2.5   | Diesel.PM\n",
       "32.57         | San Bernardino    | 278.83 | 0.057 | 9.15089 | 1.229\n",
       "35.26         | San Bernardino    | 249.59 | 0.055 | 7.83563 | 1.176\n",
       "33.11         | Solano            | 223.3  | 0.035 | 7.85958 | 10.166\n",
       "19.54         | Solano            | 223.3  | 0.035 | 7.85958 | 13.32\n",
       "54.51         | San Bernardino    | 220.9  | 0.06  | 7.02123 | 17.148\n",
       "51.28         | San Bernardino    | 220.9  | 0.06  | 7.02123 | 23.168\n",
       "48.72         | San Bernardino    | 220.9  | 0.06  | 7.00068 | 16.296\n",
       "43.38         | San Bernardino    | 220.9  | 0.06  | 6.99383 | 10.244\n",
       "37.08         | San Bernardino    | 220.9  | 0.06  | 7.02123 | 4.528\n",
       "27.95         | San Bernardino    | 220.9  | 0.06  | 6.99383 | 4.903\n",
       "... (7901 rows omitted)"
      ]
     },
     "execution_count": 6,
     "metadata": {},
     "output_type": "execute_result"
    }
   ],
   "source": [
    "highest_asthma = asthma_data.sort(\"Asthma\", descending=True)\n",
    "highest_asthma"
   ]
  },
  {
   "cell_type": "markdown",
   "id": "4f48109f",
   "metadata": {},
   "source": [
    "Do the counties shown in the last two tables look similar? Why might they be different? \n",
    "\n",
    "_Hint:_ Think about what CES ratings are composed of."
   ]
  },
  {
   "cell_type": "markdown",
   "id": "bed2ea64",
   "metadata": {},
   "source": [
    "_Written Answer:_"
   ]
  },
  {
   "cell_type": "markdown",
   "id": "169e0cca",
   "metadata": {},
   "source": [
    "Although we didn't see a clear relationship between the CES score and asthma rates, let's check the relationship between asthma rates and the characteristics (columns) you chose."
   ]
  },
  {
   "cell_type": "markdown",
   "id": "efff2874",
   "metadata": {},
   "source": [
    " <div class=\"alert alert-info\">\n",
    "    look @ first potential cause. sort by what you think is approporiate (ie. highest/lowest) + explain your choice. then do the same for the remaining characteristics you chose!!\n",
    "    </div>"
   ]
  },
  {
   "cell_type": "code",
   "execution_count": 7,
   "id": "689a74e6",
   "metadata": {},
   "outputs": [
    {
     "data": {
      "text/html": [
       "<table border=\"1\" class=\"dataframe\">\n",
       "    <thead>\n",
       "        <tr>\n",
       "            <th>CES.3.0.Score</th> <th>California.County</th> <th>Asthma</th> <th>Ozone</th> <th>PM2.5</th> <th>Diesel.PM</th>\n",
       "        </tr>\n",
       "    </thead>\n",
       "    <tbody>\n",
       "        <tr>\n",
       "            <td>63.49        </td> <td>San Bernardino   </td> <td>83.09 </td> <td>0.068</td> <td>12.47</td> <td>21.938   </td>\n",
       "        </tr>\n",
       "        <tr>\n",
       "            <td>62.28        </td> <td>San Bernardino   </td> <td>118.49</td> <td>0.068</td> <td>12.05</td> <td>32.75    </td>\n",
       "        </tr>\n",
       "        <tr>\n",
       "            <td>58.44        </td> <td>San Bernardino   </td> <td>65.42 </td> <td>0.068</td> <td>11.63</td> <td>18.677   </td>\n",
       "        </tr>\n",
       "        <tr>\n",
       "            <td>57.66        </td> <td>San Bernardino   </td> <td>77.91 </td> <td>0.068</td> <td>12.47</td> <td>22.284   </td>\n",
       "        </tr>\n",
       "        <tr>\n",
       "            <td>55.85        </td> <td>San Bernardino   </td> <td>128.74</td> <td>0.068</td> <td>12.05</td> <td>32.746   </td>\n",
       "        </tr>\n",
       "        <tr>\n",
       "            <td>55.59        </td> <td>San Bernardino   </td> <td>125.78</td> <td>0.068</td> <td>12.05</td> <td>32.75    </td>\n",
       "        </tr>\n",
       "        <tr>\n",
       "            <td>54.41        </td> <td>San Bernardino   </td> <td>83.14 </td> <td>0.068</td> <td>12.89</td> <td>24.593   </td>\n",
       "        </tr>\n",
       "        <tr>\n",
       "            <td>51.24        </td> <td>San Bernardino   </td> <td>65.8  </td> <td>0.068</td> <td>12.05</td> <td>18.677   </td>\n",
       "        </tr>\n",
       "        <tr>\n",
       "            <td>51.09        </td> <td>San Bernardino   </td> <td>47.92 </td> <td>0.068</td> <td>12.05</td> <td>36.2     </td>\n",
       "        </tr>\n",
       "        <tr>\n",
       "            <td>50.03        </td> <td>San Bernardino   </td> <td>119.48</td> <td>0.068</td> <td>12.05</td> <td>15.52    </td>\n",
       "        </tr>\n",
       "    </tbody>\n",
       "</table>\n",
       "<p>... (7901 rows omitted)</p>"
      ],
      "text/plain": [
       "CES.3.0.Score | California.County | Asthma | Ozone | PM2.5 | Diesel.PM\n",
       "63.49         | San Bernardino    | 83.09  | 0.068 | 12.47 | 21.938\n",
       "62.28         | San Bernardino    | 118.49 | 0.068 | 12.05 | 32.75\n",
       "58.44         | San Bernardino    | 65.42  | 0.068 | 11.63 | 18.677\n",
       "57.66         | San Bernardino    | 77.91  | 0.068 | 12.47 | 22.284\n",
       "55.85         | San Bernardino    | 128.74 | 0.068 | 12.05 | 32.746\n",
       "55.59         | San Bernardino    | 125.78 | 0.068 | 12.05 | 32.75\n",
       "54.41         | San Bernardino    | 83.14  | 0.068 | 12.89 | 24.593\n",
       "51.24         | San Bernardino    | 65.8   | 0.068 | 12.05 | 18.677\n",
       "51.09         | San Bernardino    | 47.92  | 0.068 | 12.05 | 36.2\n",
       "50.03         | San Bernardino    | 119.48 | 0.068 | 12.05 | 15.52\n",
       "... (7901 rows omitted)"
      ]
     },
     "execution_count": 7,
     "metadata": {},
     "output_type": "execute_result"
    }
   ],
   "source": [
    "first_characteristic = asthma_data.sort(\"Ozone\", descending=True)\n",
    "first_characteristic"
   ]
  },
  {
   "cell_type": "code",
   "execution_count": 8,
   "id": "7fff6111",
   "metadata": {},
   "outputs": [
    {
     "data": {
      "text/html": [
       "<table border=\"1\" class=\"dataframe\">\n",
       "    <thead>\n",
       "        <tr>\n",
       "            <th>CES.3.0.Score</th> <th>California.County</th> <th>Asthma</th> <th>Ozone</th> <th>PM2.5</th> <th>Diesel.PM</th>\n",
       "        </tr>\n",
       "    </thead>\n",
       "    <tbody>\n",
       "        <tr>\n",
       "            <td>69.89        </td> <td>Kern             </td> <td>89.83 </td> <td>0.065</td> <td>19.6 </td> <td>25.57    </td>\n",
       "        </tr>\n",
       "        <tr>\n",
       "            <td>69.08        </td> <td>Kern             </td> <td>86.67 </td> <td>0.065</td> <td>19.6 </td> <td>25.148   </td>\n",
       "        </tr>\n",
       "        <tr>\n",
       "            <td>65.67        </td> <td>Kern             </td> <td>89.83 </td> <td>0.065</td> <td>19.6 </td> <td>8.677    </td>\n",
       "        </tr>\n",
       "        <tr>\n",
       "            <td>64.38        </td> <td>Kern             </td> <td>89.83 </td> <td>0.065</td> <td>19.6 </td> <td>25.646   </td>\n",
       "        </tr>\n",
       "        <tr>\n",
       "            <td>45.17        </td> <td>Kern             </td> <td>89.83 </td> <td>0.065</td> <td>19.6 </td> <td>7.27     </td>\n",
       "        </tr>\n",
       "        <tr>\n",
       "            <td>43.42        </td> <td>Kern             </td> <td>70.38 </td> <td>0.062</td> <td>19.6 </td> <td>21.73    </td>\n",
       "        </tr>\n",
       "        <tr>\n",
       "            <td>38.56        </td> <td>Kern             </td> <td>67.51 </td> <td>0.062</td> <td>19.6 </td> <td>19.208   </td>\n",
       "        </tr>\n",
       "        <tr>\n",
       "            <td>33.43        </td> <td>Kern             </td> <td>71.04 </td> <td>0.062</td> <td>19.6 </td> <td>16.981   </td>\n",
       "        </tr>\n",
       "        <tr>\n",
       "            <td>32.79        </td> <td>Kern             </td> <td>82.55 </td> <td>0.065</td> <td>19.6 </td> <td>13.357   </td>\n",
       "        </tr>\n",
       "        <tr>\n",
       "            <td>23.44        </td> <td>Kern             </td> <td>75.27 </td> <td>0.062</td> <td>19.6 </td> <td>14.744   </td>\n",
       "        </tr>\n",
       "    </tbody>\n",
       "</table>\n",
       "<p>... (7901 rows omitted)</p>"
      ],
      "text/plain": [
       "CES.3.0.Score | California.County | Asthma | Ozone | PM2.5 | Diesel.PM\n",
       "69.89         | Kern              | 89.83  | 0.065 | 19.6  | 25.57\n",
       "69.08         | Kern              | 86.67  | 0.065 | 19.6  | 25.148\n",
       "65.67         | Kern              | 89.83  | 0.065 | 19.6  | 8.677\n",
       "64.38         | Kern              | 89.83  | 0.065 | 19.6  | 25.646\n",
       "45.17         | Kern              | 89.83  | 0.065 | 19.6  | 7.27\n",
       "43.42         | Kern              | 70.38  | 0.062 | 19.6  | 21.73\n",
       "38.56         | Kern              | 67.51  | 0.062 | 19.6  | 19.208\n",
       "33.43         | Kern              | 71.04  | 0.062 | 19.6  | 16.981\n",
       "32.79         | Kern              | 82.55  | 0.065 | 19.6  | 13.357\n",
       "23.44         | Kern              | 75.27  | 0.062 | 19.6  | 14.744\n",
       "... (7901 rows omitted)"
      ]
     },
     "execution_count": 8,
     "metadata": {},
     "output_type": "execute_result"
    }
   ],
   "source": [
    "second_characteristic = asthma_data.sort(\"PM2.5\", descending=True)\n",
    "second_characteristic"
   ]
  },
  {
   "cell_type": "code",
   "execution_count": 9,
   "id": "6c4135d5",
   "metadata": {},
   "outputs": [
    {
     "data": {
      "text/html": [
       "<table border=\"1\" class=\"dataframe\">\n",
       "    <thead>\n",
       "        <tr>\n",
       "            <th>CES.3.0.Score</th> <th>California.County</th> <th>Asthma</th> <th>Ozone</th> <th>PM2.5</th> <th>Diesel.PM</th>\n",
       "        </tr>\n",
       "    </thead>\n",
       "    <tbody>\n",
       "        <tr>\n",
       "            <td>22.49        </td> <td>San Bernardino   </td> <td>12.39 </td> <td>0.057</td> <td>6.1831</td> <td>253.731  </td>\n",
       "        </tr>\n",
       "        <tr>\n",
       "            <td>52.97        </td> <td>Los Angeles      </td> <td>83.03 </td> <td>0.042</td> <td>11.21 </td> <td>208.4    </td>\n",
       "        </tr>\n",
       "        <tr>\n",
       "            <td>51.28        </td> <td>Los Angeles      </td> <td>79.81 </td> <td>0.042</td> <td>11.21 </td> <td>208.4    </td>\n",
       "        </tr>\n",
       "        <tr>\n",
       "            <td>48.56        </td> <td>Los Angeles      </td> <td>73.7  </td> <td>0.042</td> <td>11.21 </td> <td>208.4    </td>\n",
       "        </tr>\n",
       "        <tr>\n",
       "            <td>43.36        </td> <td>Los Angeles      </td> <td>83.08 </td> <td>0.042</td> <td>11.21 </td> <td>208.4    </td>\n",
       "        </tr>\n",
       "        <tr>\n",
       "            <td>36.94        </td> <td>Los Angeles      </td> <td>77.98 </td> <td>0.042</td> <td>11.21 </td> <td>208.4    </td>\n",
       "        </tr>\n",
       "        <tr>\n",
       "            <td>35.49        </td> <td>Los Angeles      </td> <td>83.08 </td> <td>0.042</td> <td>11.21 </td> <td>208.4    </td>\n",
       "        </tr>\n",
       "        <tr>\n",
       "            <td>37.21        </td> <td>Los Angeles      </td> <td>73.31 </td> <td>0.042</td> <td>11.21 </td> <td>194.972  </td>\n",
       "        </tr>\n",
       "        <tr>\n",
       "            <td>64.47        </td> <td>Los Angeles      </td> <td>112.42</td> <td>0.042</td> <td>11.21 </td> <td>169.243  </td>\n",
       "        </tr>\n",
       "        <tr>\n",
       "            <td>49.89        </td> <td>Los Angeles      </td> <td>101.72</td> <td>0.042</td> <td>11.21 </td> <td>163.328  </td>\n",
       "        </tr>\n",
       "    </tbody>\n",
       "</table>\n",
       "<p>... (7901 rows omitted)</p>"
      ],
      "text/plain": [
       "CES.3.0.Score | California.County | Asthma | Ozone | PM2.5  | Diesel.PM\n",
       "22.49         | San Bernardino    | 12.39  | 0.057 | 6.1831 | 253.731\n",
       "52.97         | Los Angeles       | 83.03  | 0.042 | 11.21  | 208.4\n",
       "51.28         | Los Angeles       | 79.81  | 0.042 | 11.21  | 208.4\n",
       "48.56         | Los Angeles       | 73.7   | 0.042 | 11.21  | 208.4\n",
       "43.36         | Los Angeles       | 83.08  | 0.042 | 11.21  | 208.4\n",
       "36.94         | Los Angeles       | 77.98  | 0.042 | 11.21  | 208.4\n",
       "35.49         | Los Angeles       | 83.08  | 0.042 | 11.21  | 208.4\n",
       "37.21         | Los Angeles       | 73.31  | 0.042 | 11.21  | 194.972\n",
       "64.47         | Los Angeles       | 112.42 | 0.042 | 11.21  | 169.243\n",
       "49.89         | Los Angeles       | 101.72 | 0.042 | 11.21  | 163.328\n",
       "... (7901 rows omitted)"
      ]
     },
     "execution_count": 9,
     "metadata": {},
     "output_type": "execute_result"
    }
   ],
   "source": [
    "third_characteristic = asthma_data.sort(\"Diesel.PM\", descending=True)\n",
    "third_characteristic"
   ]
  },
  {
   "cell_type": "markdown",
   "id": "1499fe60",
   "metadata": {},
   "source": [
    "The first ten counties in your table(s) might look similar to those in the `highest_asthma` table. They also might not.\n",
    "\n",
    "If the counties are similar in any table to the `highest_asthma` table, explain why you think that might be.\n",
    "\n",
    "For all other tables, do you see anything interesting about the first ten counties?"
   ]
  },
  {
   "cell_type": "markdown",
   "id": "6579a47a",
   "metadata": {},
   "source": [
    "_Written Answer:_"
   ]
  },
  {
   "cell_type": "markdown",
   "id": "ed3ce05e",
   "metadata": {},
   "source": [
    "It's important to know how these values are measured and interpreted. Consult the CalEnviroScreen report to learn a little more about asthma and the three features you chose!!"
   ]
  },
  {
   "cell_type": "markdown",
   "id": "fc99607c",
   "metadata": {},
   "source": [
    " <div class=\"alert alert-info\">\n",
    "    find out how spread out the larges + smallest values are for asthma + interpret (?) this in words. then do the same for the characteristics you chose!!\n",
    "    </div>"
   ]
  },
  {
   "cell_type": "code",
   "execution_count": 10,
   "id": "c4cdf1e7",
   "metadata": {},
   "outputs": [
    {
     "data": {
      "text/plain": [
       "275.2"
      ]
     },
     "execution_count": 10,
     "metadata": {},
     "output_type": "execute_result"
    }
   ],
   "source": [
    "largest_asthma = highest_asthma.column(\"Asthma\").item(0)\n",
    "smallest_asthma = highest_asthma.column(\"Asthma\").item(-1)\n",
    "largest_asthma - smallest_asthma"
   ]
  },
  {
   "cell_type": "markdown",
   "id": "6b047f53",
   "metadata": {},
   "source": [
    "_Written Answer:_"
   ]
  },
  {
   "cell_type": "code",
   "execution_count": 11,
   "id": "078c9e0f",
   "metadata": {},
   "outputs": [
    {
     "data": {
      "text/plain": [
       "0.04200000000000001"
      ]
     },
     "execution_count": 11,
     "metadata": {},
     "output_type": "execute_result"
    }
   ],
   "source": [
    "largest_ozone = first_characteristic.column(\"Ozone\").item(0)\n",
    "smallest_ozone = first_characteristic.column(\"Ozone\").item(-1)\n",
    "largest_ozone - smallest_ozone"
   ]
  },
  {
   "cell_type": "markdown",
   "id": "2bfd7775",
   "metadata": {},
   "source": [
    "_Written Answer:_"
   ]
  },
  {
   "cell_type": "code",
   "execution_count": 12,
   "id": "2548c7cd",
   "metadata": {},
   "outputs": [
    {
     "data": {
      "text/plain": [
       "17.948918510000002"
      ]
     },
     "execution_count": 12,
     "metadata": {},
     "output_type": "execute_result"
    }
   ],
   "source": [
    "largest_pm25 = second_characteristic.column(\"PM2.5\").item(0)\n",
    "smallest_pm25 = second_characteristic.column(\"PM2.5\").item(-1)\n",
    "largest_pm25 - smallest_pm25"
   ]
  },
  {
   "cell_type": "markdown",
   "id": "5bb8c9d2",
   "metadata": {},
   "source": [
    "_Written Answer:_"
   ]
  },
  {
   "cell_type": "code",
   "execution_count": 13,
   "id": "42d70485",
   "metadata": {},
   "outputs": [
    {
     "data": {
      "text/plain": [
       "253.71"
      ]
     },
     "execution_count": 13,
     "metadata": {},
     "output_type": "execute_result"
    }
   ],
   "source": [
    "largest_dieselpm = third_characteristic.column(\"Diesel.PM\").item(0)\n",
    "\n",
    "smallest_dieselpm = third_characteristic.column(\"Diesel.PM\").item(-1)\n",
    "largest_dieselpm - smallest_dieselpm"
   ]
  },
  {
   "cell_type": "markdown",
   "id": "e3f4396d",
   "metadata": {},
   "source": [
    "_Written Answer:_"
   ]
  },
  {
   "cell_type": "code",
   "execution_count": null,
   "id": "5f3046d0",
   "metadata": {},
   "outputs": [],
   "source": []
  },
  {
   "cell_type": "code",
   "execution_count": 14,
   "id": "0af02788",
   "metadata": {
    "scrolled": true
   },
   "outputs": [
    {
     "data": {
      "text/html": [
       "<table border=\"1\" class=\"dataframe\">\n",
       "    <thead>\n",
       "        <tr>\n",
       "            <th>Census.Tract</th> <th>CES.3.0.Score</th> <th>Total.Population</th> <th>California.County</th> <th>Hispanic....</th> <th>White....</th> <th>African.American....</th> <th>Native.American....</th> <th>Asian.American....</th> <th>Other....</th> <th>ZIP</th> <th>Longitude</th> <th>Latitude</th> <th>Ozone</th> <th>PM2.5</th> <th>Diesel.PM</th> <th>Drinking.Water</th> <th>Pesticides</th> <th>Tox..Release</th> <th>Traffic</th> <th>Cleanup.Sites</th> <th>Groundwater.Threats</th> <th>Haz..Waste</th> <th>Imp..Water.Bodies</th> <th>Solid.Waste</th> <th>Pollution.Burden</th> <th>Asthma</th> <th>Low.Birth.Weight</th> <th>Poverty</th> <th>Unemployment</th>\n",
       "        </tr>\n",
       "    </thead>\n",
       "    <tbody>\n",
       "        <tr>\n",
       "            <td>6001409000  </td> <td>61.56        </td> <td>3552            </td> <td>Alameda          </td> <td>48.8        </td> <td>1.7      </td> <td>43.3                </td> <td>0.1                </td> <td>4.3               </td> <td>1.8      </td> <td>94621</td> <td>-122.221 </td> <td>37.72   </td> <td>0.03 </td> <td>8.69794</td> <td>38.28    </td> <td>70.6          </td> <td>0         </td> <td>596.168     </td> <td>1419.88</td> <td>63.15        </td> <td>118.5              </td> <td>2.7       </td> <td>15               </td> <td>11.45      </td> <td>57.41           </td> <td>147.84</td> <td>6.15            </td> <td>52.5   </td> <td>13.3        </td>\n",
       "        </tr>\n",
       "        <tr>\n",
       "            <td>6003010000  </td> <td>11.34        </td> <td>1175            </td> <td>Alpine           </td> <td>7.1         </td> <td>72.5     </td> <td>0                   </td> <td>17.9               </td> <td>0.6               </td> <td>1.9      </td> <td>96120</td> <td>-119.799 </td> <td>38.6176 </td> <td>0.055</td> <td>2.58872</td> <td>0.127    </td> <td>645.76        </td> <td>0         </td> <td>1.18614     </td> <td>70.6   </td> <td>0            </td> <td>0.75               </td> <td>0.2       </td> <td>13               </td> <td>11         </td> <td>31.48           </td> <td>18.39 </td> <td>nan             </td> <td>39.6   </td> <td>10.7        </td>\n",
       "        </tr>\n",
       "        <tr>\n",
       "            <td>6005000304  </td> <td>28.93        </td> <td>3946            </td> <td>Amador           </td> <td>13.4        </td> <td>80.9     </td> <td>0.2                 </td> <td>1.6                </td> <td>1                 </td> <td>2.9      </td> <td>95640</td> <td>-120.922 </td> <td>38.2814 </td> <td>0.053</td> <td>8.10155</td> <td>0.469    </td> <td>674.53        </td> <td>0.6       </td> <td>10.6709     </td> <td>172.33 </td> <td>57.65        </td> <td>42                 </td> <td>0.025     </td> <td>4                </td> <td>7.5        </td> <td>43.31           </td> <td>68.22 </td> <td>3.97            </td> <td>29.8   </td> <td>14.4        </td>\n",
       "        </tr>\n",
       "        <tr>\n",
       "            <td>6007001300  </td> <td>46.95        </td> <td>4169            </td> <td>Butte            </td> <td>30.8        </td> <td>51.5     </td> <td>2.2                 </td> <td>2.8                </td> <td>9.1               </td> <td>3.7      </td> <td>95928</td> <td>-121.813 </td> <td>39.7192 </td> <td>0.048</td> <td>9.5363 </td> <td>18.945   </td> <td>345.38        </td> <td>138.72    </td> <td>9.53743     </td> <td>598.22 </td> <td>58.6         </td> <td>66.1               </td> <td>5.375     </td> <td>3                </td> <td>7          </td> <td>58.38           </td> <td>43.76 </td> <td>4.12            </td> <td>72.5   </td> <td>21.4        </td>\n",
       "        </tr>\n",
       "        <tr>\n",
       "            <td>6009000210  </td> <td>22.9         </td> <td>9515            </td> <td>Calaveras        </td> <td>13.3        </td> <td>79.5     </td> <td>1.1                 </td> <td>0.9                </td> <td>1.8               </td> <td>3.5      </td> <td>95252</td> <td>-120.874 </td> <td>38.193  </td> <td>0.053</td> <td>8.65953</td> <td>0.519    </td> <td>486.98        </td> <td>3.8       </td> <td>63.9848     </td> <td>166.75 </td> <td>0            </td> <td>17                 </td> <td>0.1       </td> <td>7                </td> <td>16.25      </td> <td>39.78           </td> <td>54.41 </td> <td>4.38            </td> <td>25.3   </td> <td>12.8        </td>\n",
       "        </tr>\n",
       "        <tr>\n",
       "            <td>6011000200  </td> <td>31.52        </td> <td>5121            </td> <td>Colusa           </td> <td>46.9        </td> <td>46.7     </td> <td>0.8                 </td> <td>1.9                </td> <td>2                 </td> <td>1.8      </td> <td>95932</td> <td>-122.026 </td> <td>39.1863 </td> <td>0.046</td> <td>7.85958</td> <td>3.459    </td> <td>427.45        </td> <td>315.03    </td> <td>7.26268     </td> <td>128.97 </td> <td>23           </td> <td>44.5               </td> <td>0.25      </td> <td>14               </td> <td>6.5        </td> <td>48.45           </td> <td>54.29 </td> <td>3.85            </td> <td>44.2   </td> <td>8.7         </td>\n",
       "        </tr>\n",
       "        <tr>\n",
       "            <td>6013379000  </td> <td>57.04        </td> <td>6117            </td> <td>Contra Costa     </td> <td>52.8        </td> <td>2.3      </td> <td>40.2                </td> <td>0.3                </td> <td>2.5               </td> <td>1.9      </td> <td>94804</td> <td>-122.357 </td> <td>37.9283 </td> <td>0.03 </td> <td>8.69794</td> <td>47.223   </td> <td>70.6          </td> <td>0         </td> <td>1337.78     </td> <td>424.6  </td> <td>78.1         </td> <td>67                 </td> <td>2.195     </td> <td>10               </td> <td>10         </td> <td>52.08           </td> <td>160.81</td> <td>7.74            </td> <td>50.9   </td> <td>16.4        </td>\n",
       "        </tr>\n",
       "        <tr>\n",
       "            <td>6015000201  </td> <td>18.08        </td> <td>7026            </td> <td>Del Norte        </td> <td>30.7        </td> <td>49.3     </td> <td>12.3                </td> <td>3.1                </td> <td>0.9               </td> <td>3.7      </td> <td>95531</td> <td>-124.165 </td> <td>41.855  </td> <td>0.035</td> <td>3.66779</td> <td>0.642    </td> <td>219.99        </td> <td>130.72    </td> <td>0           </td> <td>222.02 </td> <td>0            </td> <td>15                 </td> <td>0         </td> <td>0                </td> <td>2          </td> <td>19.04           </td> <td>66.03 </td> <td>nan             </td> <td>44     </td> <td>19.2        </td>\n",
       "        </tr>\n",
       "        <tr>\n",
       "            <td>6017031200  </td> <td>19.26        </td> <td>5193            </td> <td>El Dorado        </td> <td>12.7        </td> <td>80.7     </td> <td>1                   </td> <td>1.3                </td> <td>1.5               </td> <td>2.8      </td> <td>95667</td> <td>-120.784 </td> <td>38.7183 </td> <td>0.057</td> <td>8.27876</td> <td>2.457    </td> <td>145.87        </td> <td>0.42      </td> <td>2.56177     </td> <td>480.45 </td> <td>0            </td> <td>19.5               </td> <td>0.3       </td> <td>0                </td> <td>1.2        </td> <td>29.19           </td> <td>49.01 </td> <td>5.81            </td> <td>29.6   </td> <td>9.9         </td>\n",
       "        </tr>\n",
       "        <tr>\n",
       "            <td>6019001100  </td> <td>94.09        </td> <td>3174            </td> <td>Fresno           </td> <td>65.3        </td> <td>4.2      </td> <td>24.6                </td> <td>0.5                </td> <td>3.5               </td> <td>1.8      </td> <td>93706</td> <td>-119.782 </td> <td>36.7097 </td> <td>0.065</td> <td>15.4   </td> <td>48.524   </td> <td>681.2         </td> <td>2.75      </td> <td>18552       </td> <td>909.14 </td> <td>80.5         </td> <td>45.75              </td> <td>0.795     </td> <td>0                </td> <td>21.75      </td> <td>79.96           </td> <td>131.64</td> <td>7.44            </td> <td>76.3   </td> <td>17.6        </td>\n",
       "        </tr>\n",
       "    </tbody>\n",
       "</table>\n",
       "<p>... (48 rows omitted)</p>"
      ],
      "text/plain": [
       "Census.Tract | CES.3.0.Score | Total.Population | California.County | Hispanic.... | White.... | African.American.... | Native.American.... | Asian.American.... | Other.... | ZIP   | Longitude | Latitude | Ozone | PM2.5   | Diesel.PM | Drinking.Water | Pesticides | Tox..Release | Traffic | Cleanup.Sites | Groundwater.Threats | Haz..Waste | Imp..Water.Bodies | Solid.Waste | Pollution.Burden | Asthma | Low.Birth.Weight | Poverty | Unemployment\n",
       "6001409000   | 61.56         | 3552             | Alameda           | 48.8         | 1.7       | 43.3                 | 0.1                 | 4.3                | 1.8       | 94621 | -122.221  | 37.72    | 0.03  | 8.69794 | 38.28     | 70.6           | 0          | 596.168      | 1419.88 | 63.15         | 118.5               | 2.7        | 15                | 11.45       | 57.41            | 147.84 | 6.15             | 52.5    | 13.3\n",
       "6003010000   | 11.34         | 1175             | Alpine            | 7.1          | 72.5      | 0                    | 17.9                | 0.6                | 1.9       | 96120 | -119.799  | 38.6176  | 0.055 | 2.58872 | 0.127     | 645.76         | 0          | 1.18614      | 70.6    | 0             | 0.75                | 0.2        | 13                | 11          | 31.48            | 18.39  | nan              | 39.6    | 10.7\n",
       "6005000304   | 28.93         | 3946             | Amador            | 13.4         | 80.9      | 0.2                  | 1.6                 | 1                  | 2.9       | 95640 | -120.922  | 38.2814  | 0.053 | 8.10155 | 0.469     | 674.53         | 0.6        | 10.6709      | 172.33  | 57.65         | 42                  | 0.025      | 4                 | 7.5         | 43.31            | 68.22  | 3.97             | 29.8    | 14.4\n",
       "6007001300   | 46.95         | 4169             | Butte             | 30.8         | 51.5      | 2.2                  | 2.8                 | 9.1                | 3.7       | 95928 | -121.813  | 39.7192  | 0.048 | 9.5363  | 18.945    | 345.38         | 138.72     | 9.53743      | 598.22  | 58.6          | 66.1                | 5.375      | 3                 | 7           | 58.38            | 43.76  | 4.12             | 72.5    | 21.4\n",
       "6009000210   | 22.9          | 9515             | Calaveras         | 13.3         | 79.5      | 1.1                  | 0.9                 | 1.8                | 3.5       | 95252 | -120.874  | 38.193   | 0.053 | 8.65953 | 0.519     | 486.98         | 3.8        | 63.9848      | 166.75  | 0             | 17                  | 0.1        | 7                 | 16.25       | 39.78            | 54.41  | 4.38             | 25.3    | 12.8\n",
       "6011000200   | 31.52         | 5121             | Colusa            | 46.9         | 46.7      | 0.8                  | 1.9                 | 2                  | 1.8       | 95932 | -122.026  | 39.1863  | 0.046 | 7.85958 | 3.459     | 427.45         | 315.03     | 7.26268      | 128.97  | 23            | 44.5                | 0.25       | 14                | 6.5         | 48.45            | 54.29  | 3.85             | 44.2    | 8.7\n",
       "6013379000   | 57.04         | 6117             | Contra Costa      | 52.8         | 2.3       | 40.2                 | 0.3                 | 2.5                | 1.9       | 94804 | -122.357  | 37.9283  | 0.03  | 8.69794 | 47.223    | 70.6           | 0          | 1337.78      | 424.6   | 78.1          | 67                  | 2.195      | 10                | 10          | 52.08            | 160.81 | 7.74             | 50.9    | 16.4\n",
       "6015000201   | 18.08         | 7026             | Del Norte         | 30.7         | 49.3      | 12.3                 | 3.1                 | 0.9                | 3.7       | 95531 | -124.165  | 41.855   | 0.035 | 3.66779 | 0.642     | 219.99         | 130.72     | 0            | 222.02  | 0             | 15                  | 0          | 0                 | 2           | 19.04            | 66.03  | nan              | 44      | 19.2\n",
       "6017031200   | 19.26         | 5193             | El Dorado         | 12.7         | 80.7      | 1                    | 1.3                 | 1.5                | 2.8       | 95667 | -120.784  | 38.7183  | 0.057 | 8.27876 | 2.457     | 145.87         | 0.42       | 2.56177      | 480.45  | 0             | 19.5                | 0.3        | 0                 | 1.2         | 29.19            | 49.01  | 5.81             | 29.6    | 9.9\n",
       "6019001100   | 94.09         | 3174             | Fresno            | 65.3         | 4.2       | 24.6                 | 0.5                 | 3.5                | 1.8       | 93706 | -119.782  | 36.7097  | 0.065 | 15.4    | 48.524    | 681.2          | 2.75       | 18552        | 909.14  | 80.5          | 45.75               | 0.795      | 0                 | 21.75       | 79.96            | 131.64 | 7.44             | 76.3    | 17.6\n",
       "... (48 rows omitted)"
      ]
     },
     "execution_count": 14,
     "metadata": {},
     "output_type": "execute_result"
    }
   ],
   "source": [
    "ces_data.sort(\"California.County\", distinct=True)"
   ]
  },
  {
   "cell_type": "code",
   "execution_count": 15,
   "id": "3ca247e6",
   "metadata": {},
   "outputs": [
    {
     "data": {
      "text/html": [
       "<table border=\"1\" class=\"dataframe\">\n",
       "    <thead>\n",
       "        <tr>\n",
       "            <th>Census.Tract</th> <th>CES.3.0.Score</th> <th>Total.Population</th> <th>California.County</th> <th>Hispanic....</th> <th>White....</th> <th>African.American....</th> <th>Native.American....</th> <th>Asian.American....</th> <th>Other....</th> <th>ZIP</th> <th>Longitude</th> <th>Latitude</th> <th>Ozone</th> <th>PM2.5</th> <th>Diesel.PM</th> <th>Drinking.Water</th> <th>Pesticides</th> <th>Tox..Release</th> <th>Traffic</th> <th>Cleanup.Sites</th> <th>Groundwater.Threats</th> <th>Haz..Waste</th> <th>Imp..Water.Bodies</th> <th>Solid.Waste</th> <th>Pollution.Burden</th> <th>Asthma</th> <th>Low.Birth.Weight</th> <th>Poverty</th> <th>Unemployment</th>\n",
       "        </tr>\n",
       "    </thead>\n",
       "    <tbody>\n",
       "        <tr>\n",
       "            <td>6001422400  </td> <td>14.57        </td> <td>4196            </td> <td>Alameda          </td> <td>8.2         </td> <td>50.5     </td> <td>4.4                 </td> <td>0.1                </td> <td>32.4              </td> <td>4.5      </td> <td>94709</td> <td>-122.27  </td> <td>37.8752 </td> <td>0.03 </td> <td>8.69794</td> <td>13.01    </td> <td>70.6          </td> <td>0         </td> <td>562.535     </td> <td>547.41 </td> <td>3.75         </td> <td>11.4               </td> <td>1.275     </td> <td>2                </td> <td>0          </td> <td>30              </td> <td>21.08 </td> <td>6.29            </td> <td>37.7   </td> <td>4.5         </td>\n",
       "        </tr>\n",
       "        <tr>\n",
       "            <td>6001422500  </td> <td>12.32        </td> <td>4658            </td> <td>Alameda          </td> <td>6.9         </td> <td>57.8     </td> <td>2.1                 </td> <td>0.1                </td> <td>27.8              </td> <td>5.2      </td> <td>94709</td> <td>-122.26  </td> <td>37.8773 </td> <td>0.03 </td> <td>8.69794</td> <td>13.01    </td> <td>70.6          </td> <td>0         </td> <td>539.954     </td> <td>nan    </td> <td>6.75         </td> <td>10.5               </td> <td>6.26      </td> <td>1                </td> <td>0          </td> <td>29.13           </td> <td>17.06 </td> <td>5.11            </td> <td>41     </td> <td>7.5         </td>\n",
       "        </tr>\n",
       "        <tr>\n",
       "            <td>6001421700  </td> <td>6.28         </td> <td>3198            </td> <td>Alameda          </td> <td>7.3         </td> <td>67.9     </td> <td>2.8                 </td> <td>0.3                </td> <td>16.2              </td> <td>5.5      </td> <td>94709</td> <td>-122.27  </td> <td>37.8819 </td> <td>0.03 </td> <td>8.69794</td> <td>13.01    </td> <td>70.6          </td> <td>0         </td> <td>592.373     </td> <td>372.17 </td> <td>2.7          </td> <td>6.05               </td> <td>0.775     </td> <td>2                </td> <td>0          </td> <td>26.64           </td> <td>24.04 </td> <td>2.03            </td> <td>25.3   </td> <td>5.8         </td>\n",
       "        </tr>\n",
       "    </tbody>\n",
       "</table>"
      ],
      "text/plain": [
       "Census.Tract | CES.3.0.Score | Total.Population | California.County | Hispanic.... | White.... | African.American.... | Native.American.... | Asian.American.... | Other.... | ZIP   | Longitude | Latitude | Ozone | PM2.5   | Diesel.PM | Drinking.Water | Pesticides | Tox..Release | Traffic | Cleanup.Sites | Groundwater.Threats | Haz..Waste | Imp..Water.Bodies | Solid.Waste | Pollution.Burden | Asthma | Low.Birth.Weight | Poverty | Unemployment\n",
       "6001422400   | 14.57         | 4196             | Alameda           | 8.2          | 50.5      | 4.4                  | 0.1                 | 32.4               | 4.5       | 94709 | -122.27   | 37.8752  | 0.03  | 8.69794 | 13.01     | 70.6           | 0          | 562.535      | 547.41  | 3.75          | 11.4                | 1.275      | 2                 | 0           | 30               | 21.08  | 6.29             | 37.7    | 4.5\n",
       "6001422500   | 12.32         | 4658             | Alameda           | 6.9          | 57.8      | 2.1                  | 0.1                 | 27.8               | 5.2       | 94709 | -122.26   | 37.8773  | 0.03  | 8.69794 | 13.01     | 70.6           | 0          | 539.954      | nan     | 6.75          | 10.5                | 6.26       | 1                 | 0           | 29.13            | 17.06  | 5.11             | 41      | 7.5\n",
       "6001421700   | 6.28          | 3198             | Alameda           | 7.3          | 67.9      | 2.8                  | 0.3                 | 16.2               | 5.5       | 94709 | -122.27   | 37.8819  | 0.03  | 8.69794 | 13.01     | 70.6           | 0          | 592.373      | 372.17  | 2.7           | 6.05                | 0.775      | 2                 | 0           | 26.64            | 24.04  | 2.03             | 25.3    | 5.8"
      ]
     },
     "execution_count": 15,
     "metadata": {},
     "output_type": "execute_result"
    }
   ],
   "source": [
    "ces_data.where(\"ZIP\", are.equal_to(94709))"
   ]
  },
  {
   "cell_type": "code",
   "execution_count": null,
   "id": "f7d08157",
   "metadata": {},
   "outputs": [],
   "source": []
  }
 ],
 "metadata": {
  "kernelspec": {
   "display_name": "Python 3 (ipykernel)",
   "language": "python",
   "name": "python3"
  },
  "language_info": {
   "codemirror_mode": {
    "name": "ipython",
    "version": 3
   },
   "file_extension": ".py",
   "mimetype": "text/x-python",
   "name": "python",
   "nbconvert_exporter": "python",
   "pygments_lexer": "ipython3",
   "version": "3.9.13"
  }
 },
 "nbformat": 4,
 "nbformat_minor": 5
}
