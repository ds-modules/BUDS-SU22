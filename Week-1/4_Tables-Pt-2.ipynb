{
 "cells": [
  {
   "cell_type": "markdown",
   "id": "201fbe3d",
   "metadata": {},
   "source": [
    "# BUDS Report 04: Tables Pt. 2 \n",
    "\n",
    "### Table of Contents\n",
    "\n",
    "1. <a href='#section 1'>Background Information</a>\n",
    "2. <a href='#section 2'>Comparing Counties</a>\n",
    "3. <a href='#section 3'>Looking at the Range</a>"
   ]
  },
  {
   "cell_type": "code",
   "execution_count": 1,
   "id": "a7a7fb3d",
   "metadata": {},
   "outputs": [],
   "source": [
    "# run this cell\n",
    "\n",
    "from datascience import *\n",
    "import numpy as np\n",
    "import math\n",
    "import matplotlib.pyplot as plt\n",
    "plt.style.use('fivethirtyeight')\n",
    "%matplotlib inline"
   ]
  },
  {
   "cell_type": "markdown",
   "id": "e56d0c1d",
   "metadata": {},
   "source": [
    "## 1. Background Information <a id='section 1'></a>\n",
    "\n",
    "At this point, you should have discussed your knowledge about pollution with your team and looked at the CalEnviroScreen website. Even with extensive previous knowledge about the environment, there may have been a lot of details that you might not have considered. Even more extensive details can be found [here](https://oehha.ca.gov/media/downloads/calenviroscreen/report/calenviroscreen40reportf2021.pdf) at the official CalEnviroScreen report.\n",
    "\n",
    "Load the data below to see how our table contains the characteristics that the CES report indicated and what additional information is provided."
   ]
  },
  {
   "cell_type": "code",
   "execution_count": 2,
   "id": "5117afb0",
   "metadata": {
    "scrolled": true
   },
   "outputs": [
    {
     "data": {
      "text/html": [
       "<table border=\"1\" class=\"dataframe\">\n",
       "    <thead>\n",
       "        <tr>\n",
       "            <th>Census.Tract</th> <th>CES.3.0.Score</th> <th>Total.Population</th> <th>California.County</th> <th>Hispanic....</th> <th>White....</th> <th>African.American....</th> <th>Native.American....</th> <th>Asian.American....</th> <th>Other....</th> <th>ZIP</th> <th>Longitude</th> <th>Latitude</th> <th>Ozone</th> <th>PM2.5</th> <th>Diesel.PM</th> <th>Drinking.Water</th> <th>Pesticides</th> <th>Tox..Release</th> <th>Traffic</th> <th>Cleanup.Sites</th> <th>Groundwater.Threats</th> <th>Haz..Waste</th> <th>Imp..Water.Bodies</th> <th>Solid.Waste</th> <th>Pollution.Burden</th> <th>Asthma</th> <th>Low.Birth.Weight</th> <th>Poverty</th> <th>Unemployment</th>\n",
       "        </tr>\n",
       "    </thead>\n",
       "    <tbody>\n",
       "        <tr>\n",
       "            <td>6019001100  </td> <td>94.09        </td> <td>3174            </td> <td>Fresno           </td> <td>65.3        </td> <td>4.2      </td> <td>24.6                </td> <td>0.5                </td> <td>3.5               </td> <td>1.8      </td> <td>93706</td> <td>-119.782 </td> <td>36.7097 </td> <td>0.065</td> <td>15.4 </td> <td>48.524   </td> <td>681.2         </td> <td>2.75      </td> <td>18552       </td> <td>909.14 </td> <td>80.5         </td> <td>45.75              </td> <td>0.795     </td> <td>0                </td> <td>21.75      </td> <td>79.96           </td> <td>131.64</td> <td>7.44            </td> <td>76.3   </td> <td>17.6        </td>\n",
       "        </tr>\n",
       "        <tr>\n",
       "            <td>6071001600  </td> <td>90.68        </td> <td>6133            </td> <td>San Bernardino   </td> <td>91.1        </td> <td>5.8      </td> <td>0.7                 </td> <td>0.3                </td> <td>1.4               </td> <td>0.7      </td> <td>91761</td> <td>-117.618 </td> <td>34.0578 </td> <td>0.062</td> <td>13.31</td> <td>38.556   </td> <td>904.66        </td> <td>1.37      </td> <td>7494.24     </td> <td>782.26 </td> <td>66.2         </td> <td>36                 </td> <td>1.25      </td> <td>5                </td> <td>12         </td> <td>81.19           </td> <td>60.66 </td> <td>7.04            </td> <td>72.5   </td> <td>12.3        </td>\n",
       "        </tr>\n",
       "        <tr>\n",
       "            <td>6019000200  </td> <td>85.97        </td> <td>3167            </td> <td>Fresno           </td> <td>63.6        </td> <td>5.3      </td> <td>18.9                </td> <td>0.6                </td> <td>9.8               </td> <td>1.8      </td> <td>93706</td> <td>-119.806 </td> <td>36.7355 </td> <td>0.062</td> <td>15.4 </td> <td>47.445   </td> <td>681.2         </td> <td>3.03      </td> <td>12454.9     </td> <td>576.52 </td> <td>22           </td> <td>30.25              </td> <td>0.2       </td> <td>0                </td> <td>2.5        </td> <td>71.16           </td> <td>142.12</td> <td>10.16           </td> <td>86.8   </td> <td>16.1        </td>\n",
       "        </tr>\n",
       "        <tr>\n",
       "            <td>6077000801  </td> <td>82.49        </td> <td>6692            </td> <td>San Joaquin      </td> <td>57.4        </td> <td>6        </td> <td>12.5                </td> <td>0.3                </td> <td>20.9              </td> <td>2.8      </td> <td>95203</td> <td>-121.315 </td> <td>37.9405 </td> <td>0.046</td> <td>12.54</td> <td>24.117   </td> <td>278.76        </td> <td>12.93     </td> <td>2387.78     </td> <td>1305.01</td> <td>50.1         </td> <td>132.1              </td> <td>0.795     </td> <td>19               </td> <td>27         </td> <td>74.48           </td> <td>142.17</td> <td>6.23            </td> <td>61.3   </td> <td>19.6        </td>\n",
       "        </tr>\n",
       "        <tr>\n",
       "            <td>6019001500  </td> <td>82.03        </td> <td>2206            </td> <td>Fresno           </td> <td>71.8        </td> <td>21.4     </td> <td>1.2                 </td> <td>0.5                </td> <td>4.5               </td> <td>0.6      </td> <td>93725</td> <td>-119.718 </td> <td>36.6816 </td> <td>0.065</td> <td>15.4 </td> <td>18.846   </td> <td>1000.24       </td> <td>3518.41   </td> <td>21790.7     </td> <td>435.16 </td> <td>60           </td> <td>54.2               </td> <td>13.1      </td> <td>0                </td> <td>50.8       </td> <td>80.2            </td> <td>90.48 </td> <td>4.5             </td> <td>66.4   </td> <td>18.6        </td>\n",
       "        </tr>\n",
       "        <tr>\n",
       "            <td>6037204920  </td> <td>80.73        </td> <td>2598            </td> <td>Los Angeles      </td> <td>98.1        </td> <td>1.2      </td> <td>0.1                 </td> <td>0.1                </td> <td>0.2               </td> <td>0.3      </td> <td>90023</td> <td>-118.197 </td> <td>34.0175 </td> <td>0.046</td> <td>12.89</td> <td>56.52    </td> <td>714.48        </td> <td>0         </td> <td>39040.2     </td> <td>2943.44</td> <td>36.7         </td> <td>25                 </td> <td>4.93      </td> <td>7                </td> <td>3.85       </td> <td>76.73           </td> <td>68.74 </td> <td>7.35            </td> <td>66.4   </td> <td>11.6        </td>\n",
       "        </tr>\n",
       "        <tr>\n",
       "            <td>6077000300  </td> <td>80.18        </td> <td>2396            </td> <td>San Joaquin      </td> <td>51.8        </td> <td>16.4     </td> <td>16.4                </td> <td>1.3                </td> <td>9.9               </td> <td>4.1      </td> <td>95203</td> <td>-121.302 </td> <td>37.9524 </td> <td>0.046</td> <td>13.44</td> <td>21.76    </td> <td>278.76        </td> <td>172.49    </td> <td>707.536     </td> <td>885.52 </td> <td>89.7         </td> <td>149.05             </td> <td>0.135     </td> <td>14               </td> <td>2.3        </td> <td>68.27           </td> <td>169.56</td> <td>8.36            </td> <td>76.2   </td> <td>14.4        </td>\n",
       "        </tr>\n",
       "        <tr>\n",
       "            <td>6019001000  </td> <td>80.13        </td> <td>4106            </td> <td>Fresno           </td> <td>52.7        </td> <td>2.7      </td> <td>28.7                </td> <td>0.4                </td> <td>14.3              </td> <td>1.2      </td> <td>93706</td> <td>-119.804 </td> <td>36.6978 </td> <td>0.065</td> <td>15.4 </td> <td>20.848   </td> <td>788.02        </td> <td>1435.93   </td> <td>6996.96     </td> <td>243.54 </td> <td>15.45        </td> <td>20                 </td> <td>0         </td> <td>0                </td> <td>10         </td> <td>66.88           </td> <td>142.28</td> <td>7.83            </td> <td>74.5   </td> <td>20          </td>\n",
       "        </tr>\n",
       "        <tr>\n",
       "            <td>6037206050  </td> <td>79.03        </td> <td>2146            </td> <td>Los Angeles      </td> <td>79.3        </td> <td>8.9      </td> <td>4.1                 </td> <td>0.1                </td> <td>7.2               </td> <td>0.5      </td> <td>90023</td> <td>-118.224 </td> <td>34.0299 </td> <td>0.046</td> <td>12.89</td> <td>53.958   </td> <td>664.07        </td> <td>0         </td> <td>10378.2     </td> <td>2810.82</td> <td>36.05        </td> <td>16.25              </td> <td>10.025    </td> <td>7                </td> <td>22.1       </td> <td>77.09           </td> <td>58.03 </td> <td>6.71            </td> <td>75.7   </td> <td>28.5        </td>\n",
       "        </tr>\n",
       "        <tr>\n",
       "            <td>6019000400  </td> <td>78.53        </td> <td>6343            </td> <td>Fresno           </td> <td>78          </td> <td>9.1      </td> <td>5.8                 </td> <td>0.8                </td> <td>5.3               </td> <td>0.9      </td> <td>93721</td> <td>-119.776 </td> <td>36.7277 </td> <td>0.065</td> <td>15.4 </td> <td>54.356   </td> <td>681.2         </td> <td>114.96    </td> <td>125384      </td> <td>815.36 </td> <td>15.95        </td> <td>13.5               </td> <td>0.755     </td> <td>0                </td> <td>0.5        </td> <td>73.89           </td> <td>107.8 </td> <td>4.79            </td> <td>83.4   </td> <td>23.5        </td>\n",
       "        </tr>\n",
       "    </tbody>\n",
       "</table>\n",
       "<p>... (8014 rows omitted)</p>"
      ],
      "text/plain": [
       "Census.Tract | CES.3.0.Score | Total.Population | California.County | Hispanic.... | White.... | African.American.... | Native.American.... | Asian.American.... | Other.... | ZIP   | Longitude | Latitude | Ozone | PM2.5 | Diesel.PM | Drinking.Water | Pesticides | Tox..Release | Traffic | Cleanup.Sites | Groundwater.Threats | Haz..Waste | Imp..Water.Bodies | Solid.Waste | Pollution.Burden | Asthma | Low.Birth.Weight | Poverty | Unemployment\n",
       "6019001100   | 94.09         | 3174             | Fresno            | 65.3         | 4.2       | 24.6                 | 0.5                 | 3.5                | 1.8       | 93706 | -119.782  | 36.7097  | 0.065 | 15.4  | 48.524    | 681.2          | 2.75       | 18552        | 909.14  | 80.5          | 45.75               | 0.795      | 0                 | 21.75       | 79.96            | 131.64 | 7.44             | 76.3    | 17.6\n",
       "6071001600   | 90.68         | 6133             | San Bernardino    | 91.1         | 5.8       | 0.7                  | 0.3                 | 1.4                | 0.7       | 91761 | -117.618  | 34.0578  | 0.062 | 13.31 | 38.556    | 904.66         | 1.37       | 7494.24      | 782.26  | 66.2          | 36                  | 1.25       | 5                 | 12          | 81.19            | 60.66  | 7.04             | 72.5    | 12.3\n",
       "6019000200   | 85.97         | 3167             | Fresno            | 63.6         | 5.3       | 18.9                 | 0.6                 | 9.8                | 1.8       | 93706 | -119.806  | 36.7355  | 0.062 | 15.4  | 47.445    | 681.2          | 3.03       | 12454.9      | 576.52  | 22            | 30.25               | 0.2        | 0                 | 2.5         | 71.16            | 142.12 | 10.16            | 86.8    | 16.1\n",
       "6077000801   | 82.49         | 6692             | San Joaquin       | 57.4         | 6         | 12.5                 | 0.3                 | 20.9               | 2.8       | 95203 | -121.315  | 37.9405  | 0.046 | 12.54 | 24.117    | 278.76         | 12.93      | 2387.78      | 1305.01 | 50.1          | 132.1               | 0.795      | 19                | 27          | 74.48            | 142.17 | 6.23             | 61.3    | 19.6\n",
       "6019001500   | 82.03         | 2206             | Fresno            | 71.8         | 21.4      | 1.2                  | 0.5                 | 4.5                | 0.6       | 93725 | -119.718  | 36.6816  | 0.065 | 15.4  | 18.846    | 1000.24        | 3518.41    | 21790.7      | 435.16  | 60            | 54.2                | 13.1       | 0                 | 50.8        | 80.2             | 90.48  | 4.5              | 66.4    | 18.6\n",
       "6037204920   | 80.73         | 2598             | Los Angeles       | 98.1         | 1.2       | 0.1                  | 0.1                 | 0.2                | 0.3       | 90023 | -118.197  | 34.0175  | 0.046 | 12.89 | 56.52     | 714.48         | 0          | 39040.2      | 2943.44 | 36.7          | 25                  | 4.93       | 7                 | 3.85        | 76.73            | 68.74  | 7.35             | 66.4    | 11.6\n",
       "6077000300   | 80.18         | 2396             | San Joaquin       | 51.8         | 16.4      | 16.4                 | 1.3                 | 9.9                | 4.1       | 95203 | -121.302  | 37.9524  | 0.046 | 13.44 | 21.76     | 278.76         | 172.49     | 707.536      | 885.52  | 89.7          | 149.05              | 0.135      | 14                | 2.3         | 68.27            | 169.56 | 8.36             | 76.2    | 14.4\n",
       "6019001000   | 80.13         | 4106             | Fresno            | 52.7         | 2.7       | 28.7                 | 0.4                 | 14.3               | 1.2       | 93706 | -119.804  | 36.6978  | 0.065 | 15.4  | 20.848    | 788.02         | 1435.93    | 6996.96      | 243.54  | 15.45         | 20                  | 0          | 0                 | 10          | 66.88            | 142.28 | 7.83             | 74.5    | 20\n",
       "6037206050   | 79.03         | 2146             | Los Angeles       | 79.3         | 8.9       | 4.1                  | 0.1                 | 7.2                | 0.5       | 90023 | -118.224  | 34.0299  | 0.046 | 12.89 | 53.958    | 664.07         | 0          | 10378.2      | 2810.82 | 36.05         | 16.25               | 10.025     | 7                 | 22.1        | 77.09            | 58.03  | 6.71             | 75.7    | 28.5\n",
       "6019000400   | 78.53         | 6343             | Fresno            | 78           | 9.1       | 5.8                  | 0.8                 | 5.3                | 0.9       | 93721 | -119.776  | 36.7277  | 0.065 | 15.4  | 54.356    | 681.2          | 114.96     | 125384       | 815.36  | 15.95         | 13.5                | 0.755      | 0                 | 0.5         | 73.89            | 107.8  | 4.79             | 83.4    | 23.5\n",
       "... (8014 rows omitted)"
      ]
     },
     "execution_count": 2,
     "metadata": {},
     "output_type": "execute_result"
    }
   ],
   "source": [
    "ces_data = Table.read_table(\"ces_data_v2.csv\")\n",
    "ces_data"
   ]
  },
  {
   "cell_type": "markdown",
   "id": "af29e7cb",
   "metadata": {},
   "source": [
    "There are a _lot_ of functions that you could use on tables. In UC Berkeley's own introductory data science course, many students use a [Python reference sheet](http://data8.org/su22/python-reference.html). You don't need to understand everything on the sheet, but take a quick look and notice what kind of information each column contains. Then try to answer the following question by using the Python reference sheet. You can keep it open for the rest of the report as it's hard to remember all the functions.\n",
    "\n",
    "<div class=\"alert alert-warning\">\n",
    "<b>PRACTICE:</b> In the cell below, write code that evaluates to the number of rows and number of columns in the above table. Then, explain what each row in the table represents and the categories that the columns seem to fall under.\n",
    "    </div>"
   ]
  },
  {
   "cell_type": "code",
   "execution_count": 4,
   "id": "02a002e7",
   "metadata": {},
   "outputs": [
    {
     "name": "stdout",
     "output_type": "stream",
     "text": [
      "There are  8024  rows and  30  columns in this table.\n"
     ]
    }
   ],
   "source": [
    "ces_num_rows = ces_data.num_rows\n",
    "ces_num_columns = ces_data.num_columns\n",
    "\n",
    "print(\"There are \", ces_num_rows, \" rows and \", ces_num_columns, \" columns in this table.\")"
   ]
  },
  {
   "cell_type": "code",
   "execution_count": 5,
   "id": "1ceb6a39",
   "metadata": {},
   "outputs": [
    {
     "name": "stdout",
     "output_type": "stream",
     "text": [
      "There are  8024  rows and  30  columns in this table.\n"
     ]
    }
   ],
   "source": [
    "# SOLUTION\n",
    "ces_num_rows = ces_data.num_rows\n",
    "ces_num_columns = ces_data.num_columns\n",
    "\n",
    "print(\"There are \", ces_num_rows, \" rows and \", ces_num_columns, \" columns in this table.\")"
   ]
  },
  {
   "cell_type": "markdown",
   "id": "e8a5f599",
   "metadata": {},
   "source": [
    "_Written Answer:_"
   ]
  },
  {
   "cell_type": "markdown",
   "id": "0dedff10",
   "metadata": {},
   "source": [
    "## 2. Comparing Counties <a id='section 2'></a>\n",
    "\n",
    "Now that we have an idea of how much information we have in our table, let's try to look at some relationships in the data. Many of the table manipulations you have learned may come in handy here.\n",
    "\n",
    "If you are having trouble figuring out which function to use, consider what you want your table to look like at the end. How many columns/rows should you have, and what should they look like? Then, compare that with what your table currently looks like and think of the steps you would take to get to the end result."
   ]
  },
  {
   "cell_type": "markdown",
   "id": "a4e6a842",
   "metadata": {},
   "source": [
    "<div class=\"alert alert-warning\">\n",
    "<b>PRACTICE:</b> Create a table with only the CES score, the name of county, the asthma rating, and three features that you think might be related to asthma rates. Call this table `asthma_data` and be sure that you do not pick latitude or longitude. Feel free to relabel the column names but keep the new names in mind as you continue.\n",
    "    </div>"
   ]
  },
  {
   "cell_type": "code",
   "execution_count": 6,
   "id": "d08508fb",
   "metadata": {},
   "outputs": [
    {
     "data": {
      "text/plain": [
       "Ellipsis"
      ]
     },
     "execution_count": 6,
     "metadata": {},
     "output_type": "execute_result"
    }
   ],
   "source": [
    "asthma_data = ...\n",
    "asthma_data"
   ]
  },
  {
   "cell_type": "code",
   "execution_count": 7,
   "id": "22e218ae",
   "metadata": {
    "scrolled": true
   },
   "outputs": [
    {
     "data": {
      "text/html": [
       "<table border=\"1\" class=\"dataframe\">\n",
       "    <thead>\n",
       "        <tr>\n",
       "            <th>CES.3.0.Score</th> <th>California.County</th> <th>Asthma</th> <th>Ozone</th> <th>PM2.5</th> <th>Diesel.PM</th>\n",
       "        </tr>\n",
       "    </thead>\n",
       "    <tbody>\n",
       "        <tr>\n",
       "            <td>94.09        </td> <td>Fresno           </td> <td>131.64</td> <td>0.065</td> <td>15.4 </td> <td>48.524   </td>\n",
       "        </tr>\n",
       "        <tr>\n",
       "            <td>90.68        </td> <td>San Bernardino   </td> <td>60.66 </td> <td>0.062</td> <td>13.31</td> <td>38.556   </td>\n",
       "        </tr>\n",
       "        <tr>\n",
       "            <td>85.97        </td> <td>Fresno           </td> <td>142.12</td> <td>0.062</td> <td>15.4 </td> <td>47.445   </td>\n",
       "        </tr>\n",
       "        <tr>\n",
       "            <td>82.49        </td> <td>San Joaquin      </td> <td>142.17</td> <td>0.046</td> <td>12.54</td> <td>24.117   </td>\n",
       "        </tr>\n",
       "        <tr>\n",
       "            <td>82.03        </td> <td>Fresno           </td> <td>90.48 </td> <td>0.065</td> <td>15.4 </td> <td>18.846   </td>\n",
       "        </tr>\n",
       "        <tr>\n",
       "            <td>80.73        </td> <td>Los Angeles      </td> <td>68.74 </td> <td>0.046</td> <td>12.89</td> <td>56.52    </td>\n",
       "        </tr>\n",
       "        <tr>\n",
       "            <td>80.18        </td> <td>San Joaquin      </td> <td>169.56</td> <td>0.046</td> <td>13.44</td> <td>21.76    </td>\n",
       "        </tr>\n",
       "        <tr>\n",
       "            <td>80.13        </td> <td>Fresno           </td> <td>142.28</td> <td>0.065</td> <td>15.4 </td> <td>20.848   </td>\n",
       "        </tr>\n",
       "        <tr>\n",
       "            <td>79.03        </td> <td>Los Angeles      </td> <td>58.03 </td> <td>0.046</td> <td>12.89</td> <td>53.958   </td>\n",
       "        </tr>\n",
       "        <tr>\n",
       "            <td>78.53        </td> <td>Fresno           </td> <td>107.8 </td> <td>0.065</td> <td>15.4 </td> <td>54.356   </td>\n",
       "        </tr>\n",
       "    </tbody>\n",
       "</table>\n",
       "<p>... (8014 rows omitted)</p>"
      ],
      "text/plain": [
       "CES.3.0.Score | California.County | Asthma | Ozone | PM2.5 | Diesel.PM\n",
       "94.09         | Fresno            | 131.64 | 0.065 | 15.4  | 48.524\n",
       "90.68         | San Bernardino    | 60.66  | 0.062 | 13.31 | 38.556\n",
       "85.97         | Fresno            | 142.12 | 0.062 | 15.4  | 47.445\n",
       "82.49         | San Joaquin       | 142.17 | 0.046 | 12.54 | 24.117\n",
       "82.03         | Fresno            | 90.48  | 0.065 | 15.4  | 18.846\n",
       "80.73         | Los Angeles       | 68.74  | 0.046 | 12.89 | 56.52\n",
       "80.18         | San Joaquin       | 169.56 | 0.046 | 13.44 | 21.76\n",
       "80.13         | Fresno            | 142.28 | 0.065 | 15.4  | 20.848\n",
       "79.03         | Los Angeles       | 58.03  | 0.046 | 12.89 | 53.958\n",
       "78.53         | Fresno            | 107.8  | 0.065 | 15.4  | 54.356\n",
       "... (8014 rows omitted)"
      ]
     },
     "execution_count": 7,
     "metadata": {},
     "output_type": "execute_result"
    }
   ],
   "source": [
    "# SOLUTION\n",
    "asthma_data = ces_data.select(\"CES.3.0.Score\", \"California.County\", \"Asthma\", \"Ozone\", \"PM2.5\", \"Diesel.PM\")\n",
    "asthma_data"
   ]
  },
  {
   "cell_type": "markdown",
   "id": "eef79a03",
   "metadata": {},
   "source": [
    "In order to use our data, we learned that we need to *clean* our data. Sometimes there are values that could not be collected, so their values in the table are a little weird. These are denoted with values that show up as `nan`. You don't need to know what that means, but we do need to get rid of these values in our data.\n",
    "\n",
    "Set `characteristics` to a new array containing the string \"CES3.0.Data\", the string \"Asthma\", and the labels of all your chosen characteristics. Then run the following cell to clean some of your data. You **don't** need to know what is happening in this cell, but feel free to ask your facilitators what is happening conceptually."
   ]
  },
  {
   "cell_type": "code",
   "execution_count": 8,
   "id": "f454491a",
   "metadata": {},
   "outputs": [
    {
     "ename": "TypeError",
     "evalue": "'ellipsis' object is not iterable",
     "output_type": "error",
     "traceback": [
      "\u001b[0;31m---------------------------------------------------------------------------\u001b[0m",
      "\u001b[0;31mTypeError\u001b[0m                                 Traceback (most recent call last)",
      "Input \u001b[0;32mIn [8]\u001b[0m, in \u001b[0;36m<cell line: 3>\u001b[0;34m()\u001b[0m\n\u001b[1;32m      1\u001b[0m characteristics \u001b[38;5;241m=\u001b[39m \u001b[38;5;241m.\u001b[39m\u001b[38;5;241m.\u001b[39m\u001b[38;5;241m.\u001b[39m\n\u001b[0;32m----> 3\u001b[0m \u001b[38;5;28;01mfor\u001b[39;00m characteristic \u001b[38;5;129;01min\u001b[39;00m characteristics:\n\u001b[1;32m      4\u001b[0m     asthma_data \u001b[38;5;241m=\u001b[39m asthma_data\u001b[38;5;241m.\u001b[39mwhere(characteristic, are\u001b[38;5;241m.\u001b[39mabove_or_equal_to(\u001b[38;5;241m0\u001b[39m))\n\u001b[1;32m      6\u001b[0m asthma_data\n",
      "\u001b[0;31mTypeError\u001b[0m: 'ellipsis' object is not iterable"
     ]
    }
   ],
   "source": [
    "characteristics = ...\n",
    "\n",
    "for characteristic in characteristics:\n",
    "    asthma_data = asthma_data.where(characteristic, are.above_or_equal_to(0))\n",
    "    \n",
    "asthma_data"
   ]
  },
  {
   "cell_type": "code",
   "execution_count": 9,
   "id": "a5102e11",
   "metadata": {},
   "outputs": [
    {
     "data": {
      "text/html": [
       "<table border=\"1\" class=\"dataframe\">\n",
       "    <thead>\n",
       "        <tr>\n",
       "            <th>CES.3.0.Score</th> <th>California.County</th> <th>Asthma</th> <th>Ozone</th> <th>PM2.5</th> <th>Diesel.PM</th>\n",
       "        </tr>\n",
       "    </thead>\n",
       "    <tbody>\n",
       "        <tr>\n",
       "            <td>94.09        </td> <td>Fresno           </td> <td>131.64</td> <td>0.065</td> <td>15.4 </td> <td>48.524   </td>\n",
       "        </tr>\n",
       "        <tr>\n",
       "            <td>90.68        </td> <td>San Bernardino   </td> <td>60.66 </td> <td>0.062</td> <td>13.31</td> <td>38.556   </td>\n",
       "        </tr>\n",
       "        <tr>\n",
       "            <td>85.97        </td> <td>Fresno           </td> <td>142.12</td> <td>0.062</td> <td>15.4 </td> <td>47.445   </td>\n",
       "        </tr>\n",
       "        <tr>\n",
       "            <td>82.49        </td> <td>San Joaquin      </td> <td>142.17</td> <td>0.046</td> <td>12.54</td> <td>24.117   </td>\n",
       "        </tr>\n",
       "        <tr>\n",
       "            <td>82.03        </td> <td>Fresno           </td> <td>90.48 </td> <td>0.065</td> <td>15.4 </td> <td>18.846   </td>\n",
       "        </tr>\n",
       "        <tr>\n",
       "            <td>80.73        </td> <td>Los Angeles      </td> <td>68.74 </td> <td>0.046</td> <td>12.89</td> <td>56.52    </td>\n",
       "        </tr>\n",
       "        <tr>\n",
       "            <td>80.18        </td> <td>San Joaquin      </td> <td>169.56</td> <td>0.046</td> <td>13.44</td> <td>21.76    </td>\n",
       "        </tr>\n",
       "        <tr>\n",
       "            <td>80.13        </td> <td>Fresno           </td> <td>142.28</td> <td>0.065</td> <td>15.4 </td> <td>20.848   </td>\n",
       "        </tr>\n",
       "        <tr>\n",
       "            <td>79.03        </td> <td>Los Angeles      </td> <td>58.03 </td> <td>0.046</td> <td>12.89</td> <td>53.958   </td>\n",
       "        </tr>\n",
       "        <tr>\n",
       "            <td>78.53        </td> <td>Fresno           </td> <td>107.8 </td> <td>0.065</td> <td>15.4 </td> <td>54.356   </td>\n",
       "        </tr>\n",
       "    </tbody>\n",
       "</table>\n",
       "<p>... (7901 rows omitted)</p>"
      ],
      "text/plain": [
       "CES.3.0.Score | California.County | Asthma | Ozone | PM2.5 | Diesel.PM\n",
       "94.09         | Fresno            | 131.64 | 0.065 | 15.4  | 48.524\n",
       "90.68         | San Bernardino    | 60.66  | 0.062 | 13.31 | 38.556\n",
       "85.97         | Fresno            | 142.12 | 0.062 | 15.4  | 47.445\n",
       "82.49         | San Joaquin       | 142.17 | 0.046 | 12.54 | 24.117\n",
       "82.03         | Fresno            | 90.48  | 0.065 | 15.4  | 18.846\n",
       "80.73         | Los Angeles       | 68.74  | 0.046 | 12.89 | 56.52\n",
       "80.18         | San Joaquin       | 169.56 | 0.046 | 13.44 | 21.76\n",
       "80.13         | Fresno            | 142.28 | 0.065 | 15.4  | 20.848\n",
       "79.03         | Los Angeles       | 58.03  | 0.046 | 12.89 | 53.958\n",
       "78.53         | Fresno            | 107.8  | 0.065 | 15.4  | 54.356\n",
       "... (7901 rows omitted)"
      ]
     },
     "execution_count": 9,
     "metadata": {},
     "output_type": "execute_result"
    }
   ],
   "source": [
    "# SOLUTION\n",
    "characteristics = make_array(\"CES.3.0.Score\", \"Asthma\", \"Ozone\", \"PM2.5\", \"Diesel.PM\")\n",
    "\n",
    "for characteristic in characteristics:\n",
    "    asthma_data = asthma_data.where(characteristic, are.above_or_equal_to(0))\n",
    "    \n",
    "asthma_data"
   ]
  },
  {
   "cell_type": "markdown",
   "id": "85df7efc",
   "metadata": {},
   "source": [
    "In this notebook cleaning our data consisted of getting rid of tracts that had missing values. Can you see a potential issue with this method? Can you think of other ways we might alleviate this issue?"
   ]
  },
  {
   "cell_type": "markdown",
   "id": "f82027e7",
   "metadata": {},
   "source": [
    "_Written Answer:_"
   ]
  },
  {
   "cell_type": "markdown",
   "id": "a20ca4d9",
   "metadata": {},
   "source": [
    "<div class=\"alert alert-warning\">\n",
    "<b>PRACTICE:</b> Next, create a table that shows the counties of the ten cities with the <i>highest</i> CES scores. Recall that counties can repeat in this table and that tables will automatically show the first ten entries.\n",
    "    </div>"
   ]
  },
  {
   "cell_type": "code",
   "execution_count": 10,
   "id": "0a6e3daa",
   "metadata": {},
   "outputs": [
    {
     "data": {
      "text/plain": [
       "Ellipsis"
      ]
     },
     "execution_count": 10,
     "metadata": {},
     "output_type": "execute_result"
    }
   ],
   "source": [
    "highest_ces = ...\n",
    "highest_ces"
   ]
  },
  {
   "cell_type": "code",
   "execution_count": 11,
   "id": "e06bada5",
   "metadata": {},
   "outputs": [
    {
     "data": {
      "text/html": [
       "<table border=\"1\" class=\"dataframe\">\n",
       "    <thead>\n",
       "        <tr>\n",
       "            <th>CES.3.0.Score</th> <th>California.County</th> <th>Asthma</th> <th>Ozone</th> <th>PM2.5</th> <th>Diesel.PM</th>\n",
       "        </tr>\n",
       "    </thead>\n",
       "    <tbody>\n",
       "        <tr>\n",
       "            <td>94.09        </td> <td>Fresno           </td> <td>131.64</td> <td>0.065</td> <td>15.4 </td> <td>48.524   </td>\n",
       "        </tr>\n",
       "        <tr>\n",
       "            <td>90.68        </td> <td>San Bernardino   </td> <td>60.66 </td> <td>0.062</td> <td>13.31</td> <td>38.556   </td>\n",
       "        </tr>\n",
       "        <tr>\n",
       "            <td>85.97        </td> <td>Fresno           </td> <td>142.12</td> <td>0.062</td> <td>15.4 </td> <td>47.445   </td>\n",
       "        </tr>\n",
       "        <tr>\n",
       "            <td>82.49        </td> <td>San Joaquin      </td> <td>142.17</td> <td>0.046</td> <td>12.54</td> <td>24.117   </td>\n",
       "        </tr>\n",
       "        <tr>\n",
       "            <td>82.03        </td> <td>Fresno           </td> <td>90.48 </td> <td>0.065</td> <td>15.4 </td> <td>18.846   </td>\n",
       "        </tr>\n",
       "        <tr>\n",
       "            <td>80.73        </td> <td>Los Angeles      </td> <td>68.74 </td> <td>0.046</td> <td>12.89</td> <td>56.52    </td>\n",
       "        </tr>\n",
       "        <tr>\n",
       "            <td>80.18        </td> <td>San Joaquin      </td> <td>169.56</td> <td>0.046</td> <td>13.44</td> <td>21.76    </td>\n",
       "        </tr>\n",
       "        <tr>\n",
       "            <td>80.13        </td> <td>Fresno           </td> <td>142.28</td> <td>0.065</td> <td>15.4 </td> <td>20.848   </td>\n",
       "        </tr>\n",
       "        <tr>\n",
       "            <td>79.03        </td> <td>Los Angeles      </td> <td>58.03 </td> <td>0.046</td> <td>12.89</td> <td>53.958   </td>\n",
       "        </tr>\n",
       "        <tr>\n",
       "            <td>78.53        </td> <td>Fresno           </td> <td>107.8 </td> <td>0.065</td> <td>15.4 </td> <td>54.356   </td>\n",
       "        </tr>\n",
       "    </tbody>\n",
       "</table>\n",
       "<p>... (7901 rows omitted)</p>"
      ],
      "text/plain": [
       "CES.3.0.Score | California.County | Asthma | Ozone | PM2.5 | Diesel.PM\n",
       "94.09         | Fresno            | 131.64 | 0.065 | 15.4  | 48.524\n",
       "90.68         | San Bernardino    | 60.66  | 0.062 | 13.31 | 38.556\n",
       "85.97         | Fresno            | 142.12 | 0.062 | 15.4  | 47.445\n",
       "82.49         | San Joaquin       | 142.17 | 0.046 | 12.54 | 24.117\n",
       "82.03         | Fresno            | 90.48  | 0.065 | 15.4  | 18.846\n",
       "80.73         | Los Angeles       | 68.74  | 0.046 | 12.89 | 56.52\n",
       "80.18         | San Joaquin       | 169.56 | 0.046 | 13.44 | 21.76\n",
       "80.13         | Fresno            | 142.28 | 0.065 | 15.4  | 20.848\n",
       "79.03         | Los Angeles       | 58.03  | 0.046 | 12.89 | 53.958\n",
       "78.53         | Fresno            | 107.8  | 0.065 | 15.4  | 54.356\n",
       "... (7901 rows omitted)"
      ]
     },
     "execution_count": 11,
     "metadata": {},
     "output_type": "execute_result"
    }
   ],
   "source": [
    "# SOLUTION\n",
    "highest_ces = asthma_data.sort(\"CES.3.0.Score\", descending=True)\n",
    "highest_ces"
   ]
  },
  {
   "cell_type": "markdown",
   "id": "cf4aca36",
   "metadata": {},
   "source": [
    "<div class=\"alert alert-warning\">\n",
    "<b>PRACTICE:</b> Now make a table that looks at the counties of the cities with the highest asthma values.\n",
    "    </div>"
   ]
  },
  {
   "cell_type": "code",
   "execution_count": 12,
   "id": "5b6b9b31",
   "metadata": {},
   "outputs": [
    {
     "data": {
      "text/plain": [
       "Ellipsis"
      ]
     },
     "execution_count": 12,
     "metadata": {},
     "output_type": "execute_result"
    }
   ],
   "source": [
    "# SOLUTION\n",
    "highest_asthma = ...\n",
    "highest_asthma"
   ]
  },
  {
   "cell_type": "code",
   "execution_count": 13,
   "id": "c812d1db",
   "metadata": {},
   "outputs": [
    {
     "data": {
      "text/html": [
       "<table border=\"1\" class=\"dataframe\">\n",
       "    <thead>\n",
       "        <tr>\n",
       "            <th>CES.3.0.Score</th> <th>California.County</th> <th>Asthma</th> <th>Ozone</th> <th>PM2.5</th> <th>Diesel.PM</th>\n",
       "        </tr>\n",
       "    </thead>\n",
       "    <tbody>\n",
       "        <tr>\n",
       "            <td>32.57        </td> <td>San Bernardino   </td> <td>278.83</td> <td>0.057</td> <td>9.15089</td> <td>1.229    </td>\n",
       "        </tr>\n",
       "        <tr>\n",
       "            <td>35.26        </td> <td>San Bernardino   </td> <td>249.59</td> <td>0.055</td> <td>7.83563</td> <td>1.176    </td>\n",
       "        </tr>\n",
       "        <tr>\n",
       "            <td>33.11        </td> <td>Solano           </td> <td>223.3 </td> <td>0.035</td> <td>7.85958</td> <td>10.166   </td>\n",
       "        </tr>\n",
       "        <tr>\n",
       "            <td>19.54        </td> <td>Solano           </td> <td>223.3 </td> <td>0.035</td> <td>7.85958</td> <td>13.32    </td>\n",
       "        </tr>\n",
       "        <tr>\n",
       "            <td>54.51        </td> <td>San Bernardino   </td> <td>220.9 </td> <td>0.06 </td> <td>7.02123</td> <td>17.148   </td>\n",
       "        </tr>\n",
       "        <tr>\n",
       "            <td>51.28        </td> <td>San Bernardino   </td> <td>220.9 </td> <td>0.06 </td> <td>7.02123</td> <td>23.168   </td>\n",
       "        </tr>\n",
       "        <tr>\n",
       "            <td>48.72        </td> <td>San Bernardino   </td> <td>220.9 </td> <td>0.06 </td> <td>7.00068</td> <td>16.296   </td>\n",
       "        </tr>\n",
       "        <tr>\n",
       "            <td>43.38        </td> <td>San Bernardino   </td> <td>220.9 </td> <td>0.06 </td> <td>6.99383</td> <td>10.244   </td>\n",
       "        </tr>\n",
       "        <tr>\n",
       "            <td>37.08        </td> <td>San Bernardino   </td> <td>220.9 </td> <td>0.06 </td> <td>7.02123</td> <td>4.528    </td>\n",
       "        </tr>\n",
       "        <tr>\n",
       "            <td>27.95        </td> <td>San Bernardino   </td> <td>220.9 </td> <td>0.06 </td> <td>6.99383</td> <td>4.903    </td>\n",
       "        </tr>\n",
       "    </tbody>\n",
       "</table>\n",
       "<p>... (7901 rows omitted)</p>"
      ],
      "text/plain": [
       "CES.3.0.Score | California.County | Asthma | Ozone | PM2.5   | Diesel.PM\n",
       "32.57         | San Bernardino    | 278.83 | 0.057 | 9.15089 | 1.229\n",
       "35.26         | San Bernardino    | 249.59 | 0.055 | 7.83563 | 1.176\n",
       "33.11         | Solano            | 223.3  | 0.035 | 7.85958 | 10.166\n",
       "19.54         | Solano            | 223.3  | 0.035 | 7.85958 | 13.32\n",
       "54.51         | San Bernardino    | 220.9  | 0.06  | 7.02123 | 17.148\n",
       "51.28         | San Bernardino    | 220.9  | 0.06  | 7.02123 | 23.168\n",
       "48.72         | San Bernardino    | 220.9  | 0.06  | 7.00068 | 16.296\n",
       "43.38         | San Bernardino    | 220.9  | 0.06  | 6.99383 | 10.244\n",
       "37.08         | San Bernardino    | 220.9  | 0.06  | 7.02123 | 4.528\n",
       "27.95         | San Bernardino    | 220.9  | 0.06  | 6.99383 | 4.903\n",
       "... (7901 rows omitted)"
      ]
     },
     "execution_count": 13,
     "metadata": {},
     "output_type": "execute_result"
    }
   ],
   "source": [
    "# SOLUTION\n",
    "highest_asthma = asthma_data.sort(\"Asthma\", descending=True)\n",
    "highest_asthma"
   ]
  },
  {
   "cell_type": "markdown",
   "id": "4f48109f",
   "metadata": {},
   "source": [
    "Do the counties shown in the last two tables look similar? Why might they be different? \n",
    "\n",
    "_Hint:_ Think about what CES ratings are composed of."
   ]
  },
  {
   "cell_type": "markdown",
   "id": "bed2ea64",
   "metadata": {},
   "source": [
    "_Written Answer:_"
   ]
  },
  {
   "cell_type": "markdown",
   "id": "efff2874",
   "metadata": {},
   "source": [
    "Although we didn't see a clear relationship between the CES score and asthma rates, let's check the relationship between asthma rates and the characteristics (columns) you chose.\n",
    "\n",
    "<div class=\"alert alert-warning\">\n",
    "<b>PRACTICE:</b> Find the ten tracts most <i>negatively</i> affected by the first characteristic you chose. Consider and explain what values would be a good/bad amount for this characteristic and use that to find those ten tracts. For example, high percentages of potable water are a good thing, but high percentages of contaminated water are a bad thing. Repeat the same process for the remaining two characteristics you chose.\n",
    "    </div>\n",
    "    \n",
    "To standardize your table names, you can name it something like `highest_ozone` or `lowest_ozone` depending on what you're calculating."
   ]
  },
  {
   "cell_type": "code",
   "execution_count": 14,
   "id": "e1a52986",
   "metadata": {},
   "outputs": [],
   "source": [
    "# put your first characteristic here\n",
    "..."
   ]
  },
  {
   "cell_type": "code",
   "execution_count": 15,
   "id": "689a74e6",
   "metadata": {},
   "outputs": [
    {
     "data": {
      "text/html": [
       "<table border=\"1\" class=\"dataframe\">\n",
       "    <thead>\n",
       "        <tr>\n",
       "            <th>CES.3.0.Score</th> <th>California.County</th> <th>Asthma</th> <th>Ozone</th> <th>PM2.5</th> <th>Diesel.PM</th>\n",
       "        </tr>\n",
       "    </thead>\n",
       "    <tbody>\n",
       "        <tr>\n",
       "            <td>63.49        </td> <td>San Bernardino   </td> <td>83.09 </td> <td>0.068</td> <td>12.47</td> <td>21.938   </td>\n",
       "        </tr>\n",
       "        <tr>\n",
       "            <td>62.28        </td> <td>San Bernardino   </td> <td>118.49</td> <td>0.068</td> <td>12.05</td> <td>32.75    </td>\n",
       "        </tr>\n",
       "        <tr>\n",
       "            <td>58.44        </td> <td>San Bernardino   </td> <td>65.42 </td> <td>0.068</td> <td>11.63</td> <td>18.677   </td>\n",
       "        </tr>\n",
       "        <tr>\n",
       "            <td>57.66        </td> <td>San Bernardino   </td> <td>77.91 </td> <td>0.068</td> <td>12.47</td> <td>22.284   </td>\n",
       "        </tr>\n",
       "        <tr>\n",
       "            <td>55.85        </td> <td>San Bernardino   </td> <td>128.74</td> <td>0.068</td> <td>12.05</td> <td>32.746   </td>\n",
       "        </tr>\n",
       "        <tr>\n",
       "            <td>55.59        </td> <td>San Bernardino   </td> <td>125.78</td> <td>0.068</td> <td>12.05</td> <td>32.75    </td>\n",
       "        </tr>\n",
       "        <tr>\n",
       "            <td>54.41        </td> <td>San Bernardino   </td> <td>83.14 </td> <td>0.068</td> <td>12.89</td> <td>24.593   </td>\n",
       "        </tr>\n",
       "        <tr>\n",
       "            <td>51.24        </td> <td>San Bernardino   </td> <td>65.8  </td> <td>0.068</td> <td>12.05</td> <td>18.677   </td>\n",
       "        </tr>\n",
       "        <tr>\n",
       "            <td>51.09        </td> <td>San Bernardino   </td> <td>47.92 </td> <td>0.068</td> <td>12.05</td> <td>36.2     </td>\n",
       "        </tr>\n",
       "        <tr>\n",
       "            <td>50.03        </td> <td>San Bernardino   </td> <td>119.48</td> <td>0.068</td> <td>12.05</td> <td>15.52    </td>\n",
       "        </tr>\n",
       "    </tbody>\n",
       "</table>\n",
       "<p>... (7901 rows omitted)</p>"
      ],
      "text/plain": [
       "CES.3.0.Score | California.County | Asthma | Ozone | PM2.5 | Diesel.PM\n",
       "63.49         | San Bernardino    | 83.09  | 0.068 | 12.47 | 21.938\n",
       "62.28         | San Bernardino    | 118.49 | 0.068 | 12.05 | 32.75\n",
       "58.44         | San Bernardino    | 65.42  | 0.068 | 11.63 | 18.677\n",
       "57.66         | San Bernardino    | 77.91  | 0.068 | 12.47 | 22.284\n",
       "55.85         | San Bernardino    | 128.74 | 0.068 | 12.05 | 32.746\n",
       "55.59         | San Bernardino    | 125.78 | 0.068 | 12.05 | 32.75\n",
       "54.41         | San Bernardino    | 83.14  | 0.068 | 12.89 | 24.593\n",
       "51.24         | San Bernardino    | 65.8   | 0.068 | 12.05 | 18.677\n",
       "51.09         | San Bernardino    | 47.92  | 0.068 | 12.05 | 36.2\n",
       "50.03         | San Bernardino    | 119.48 | 0.068 | 12.05 | 15.52\n",
       "... (7901 rows omitted)"
      ]
     },
     "execution_count": 15,
     "metadata": {},
     "output_type": "execute_result"
    }
   ],
   "source": [
    "# SOLUTION\n",
    "highest_ozone = asthma_data.sort(\"Ozone\", descending=True)\n",
    "highest_ozone"
   ]
  },
  {
   "cell_type": "code",
   "execution_count": 16,
   "id": "4e76ffb4",
   "metadata": {},
   "outputs": [],
   "source": [
    "# put your second characteristic here\n",
    "..."
   ]
  },
  {
   "cell_type": "code",
   "execution_count": 17,
   "id": "7fff6111",
   "metadata": {},
   "outputs": [
    {
     "data": {
      "text/html": [
       "<table border=\"1\" class=\"dataframe\">\n",
       "    <thead>\n",
       "        <tr>\n",
       "            <th>CES.3.0.Score</th> <th>California.County</th> <th>Asthma</th> <th>Ozone</th> <th>PM2.5</th> <th>Diesel.PM</th>\n",
       "        </tr>\n",
       "    </thead>\n",
       "    <tbody>\n",
       "        <tr>\n",
       "            <td>69.89        </td> <td>Kern             </td> <td>89.83 </td> <td>0.065</td> <td>19.6 </td> <td>25.57    </td>\n",
       "        </tr>\n",
       "        <tr>\n",
       "            <td>69.08        </td> <td>Kern             </td> <td>86.67 </td> <td>0.065</td> <td>19.6 </td> <td>25.148   </td>\n",
       "        </tr>\n",
       "        <tr>\n",
       "            <td>65.67        </td> <td>Kern             </td> <td>89.83 </td> <td>0.065</td> <td>19.6 </td> <td>8.677    </td>\n",
       "        </tr>\n",
       "        <tr>\n",
       "            <td>64.38        </td> <td>Kern             </td> <td>89.83 </td> <td>0.065</td> <td>19.6 </td> <td>25.646   </td>\n",
       "        </tr>\n",
       "        <tr>\n",
       "            <td>45.17        </td> <td>Kern             </td> <td>89.83 </td> <td>0.065</td> <td>19.6 </td> <td>7.27     </td>\n",
       "        </tr>\n",
       "        <tr>\n",
       "            <td>43.42        </td> <td>Kern             </td> <td>70.38 </td> <td>0.062</td> <td>19.6 </td> <td>21.73    </td>\n",
       "        </tr>\n",
       "        <tr>\n",
       "            <td>38.56        </td> <td>Kern             </td> <td>67.51 </td> <td>0.062</td> <td>19.6 </td> <td>19.208   </td>\n",
       "        </tr>\n",
       "        <tr>\n",
       "            <td>33.43        </td> <td>Kern             </td> <td>71.04 </td> <td>0.062</td> <td>19.6 </td> <td>16.981   </td>\n",
       "        </tr>\n",
       "        <tr>\n",
       "            <td>32.79        </td> <td>Kern             </td> <td>82.55 </td> <td>0.065</td> <td>19.6 </td> <td>13.357   </td>\n",
       "        </tr>\n",
       "        <tr>\n",
       "            <td>23.44        </td> <td>Kern             </td> <td>75.27 </td> <td>0.062</td> <td>19.6 </td> <td>14.744   </td>\n",
       "        </tr>\n",
       "    </tbody>\n",
       "</table>\n",
       "<p>... (7901 rows omitted)</p>"
      ],
      "text/plain": [
       "CES.3.0.Score | California.County | Asthma | Ozone | PM2.5 | Diesel.PM\n",
       "69.89         | Kern              | 89.83  | 0.065 | 19.6  | 25.57\n",
       "69.08         | Kern              | 86.67  | 0.065 | 19.6  | 25.148\n",
       "65.67         | Kern              | 89.83  | 0.065 | 19.6  | 8.677\n",
       "64.38         | Kern              | 89.83  | 0.065 | 19.6  | 25.646\n",
       "45.17         | Kern              | 89.83  | 0.065 | 19.6  | 7.27\n",
       "43.42         | Kern              | 70.38  | 0.062 | 19.6  | 21.73\n",
       "38.56         | Kern              | 67.51  | 0.062 | 19.6  | 19.208\n",
       "33.43         | Kern              | 71.04  | 0.062 | 19.6  | 16.981\n",
       "32.79         | Kern              | 82.55  | 0.065 | 19.6  | 13.357\n",
       "23.44         | Kern              | 75.27  | 0.062 | 19.6  | 14.744\n",
       "... (7901 rows omitted)"
      ]
     },
     "execution_count": 17,
     "metadata": {},
     "output_type": "execute_result"
    }
   ],
   "source": [
    "# SOLUTION\n",
    "highest_pm25 = asthma_data.sort(\"PM2.5\", descending=True)\n",
    "highest_pm25"
   ]
  },
  {
   "cell_type": "code",
   "execution_count": 18,
   "id": "aa961ec5",
   "metadata": {},
   "outputs": [],
   "source": [
    "# put your third characteristic here\n",
    "..."
   ]
  },
  {
   "cell_type": "code",
   "execution_count": 19,
   "id": "6c4135d5",
   "metadata": {},
   "outputs": [
    {
     "data": {
      "text/html": [
       "<table border=\"1\" class=\"dataframe\">\n",
       "    <thead>\n",
       "        <tr>\n",
       "            <th>CES.3.0.Score</th> <th>California.County</th> <th>Asthma</th> <th>Ozone</th> <th>PM2.5</th> <th>Diesel.PM</th>\n",
       "        </tr>\n",
       "    </thead>\n",
       "    <tbody>\n",
       "        <tr>\n",
       "            <td>22.49        </td> <td>San Bernardino   </td> <td>12.39 </td> <td>0.057</td> <td>6.1831</td> <td>253.731  </td>\n",
       "        </tr>\n",
       "        <tr>\n",
       "            <td>52.97        </td> <td>Los Angeles      </td> <td>83.03 </td> <td>0.042</td> <td>11.21 </td> <td>208.4    </td>\n",
       "        </tr>\n",
       "        <tr>\n",
       "            <td>51.28        </td> <td>Los Angeles      </td> <td>79.81 </td> <td>0.042</td> <td>11.21 </td> <td>208.4    </td>\n",
       "        </tr>\n",
       "        <tr>\n",
       "            <td>48.56        </td> <td>Los Angeles      </td> <td>73.7  </td> <td>0.042</td> <td>11.21 </td> <td>208.4    </td>\n",
       "        </tr>\n",
       "        <tr>\n",
       "            <td>43.36        </td> <td>Los Angeles      </td> <td>83.08 </td> <td>0.042</td> <td>11.21 </td> <td>208.4    </td>\n",
       "        </tr>\n",
       "        <tr>\n",
       "            <td>36.94        </td> <td>Los Angeles      </td> <td>77.98 </td> <td>0.042</td> <td>11.21 </td> <td>208.4    </td>\n",
       "        </tr>\n",
       "        <tr>\n",
       "            <td>35.49        </td> <td>Los Angeles      </td> <td>83.08 </td> <td>0.042</td> <td>11.21 </td> <td>208.4    </td>\n",
       "        </tr>\n",
       "        <tr>\n",
       "            <td>37.21        </td> <td>Los Angeles      </td> <td>73.31 </td> <td>0.042</td> <td>11.21 </td> <td>194.972  </td>\n",
       "        </tr>\n",
       "        <tr>\n",
       "            <td>64.47        </td> <td>Los Angeles      </td> <td>112.42</td> <td>0.042</td> <td>11.21 </td> <td>169.243  </td>\n",
       "        </tr>\n",
       "        <tr>\n",
       "            <td>49.89        </td> <td>Los Angeles      </td> <td>101.72</td> <td>0.042</td> <td>11.21 </td> <td>163.328  </td>\n",
       "        </tr>\n",
       "    </tbody>\n",
       "</table>\n",
       "<p>... (7901 rows omitted)</p>"
      ],
      "text/plain": [
       "CES.3.0.Score | California.County | Asthma | Ozone | PM2.5  | Diesel.PM\n",
       "22.49         | San Bernardino    | 12.39  | 0.057 | 6.1831 | 253.731\n",
       "52.97         | Los Angeles       | 83.03  | 0.042 | 11.21  | 208.4\n",
       "51.28         | Los Angeles       | 79.81  | 0.042 | 11.21  | 208.4\n",
       "48.56         | Los Angeles       | 73.7   | 0.042 | 11.21  | 208.4\n",
       "43.36         | Los Angeles       | 83.08  | 0.042 | 11.21  | 208.4\n",
       "36.94         | Los Angeles       | 77.98  | 0.042 | 11.21  | 208.4\n",
       "35.49         | Los Angeles       | 83.08  | 0.042 | 11.21  | 208.4\n",
       "37.21         | Los Angeles       | 73.31  | 0.042 | 11.21  | 194.972\n",
       "64.47         | Los Angeles       | 112.42 | 0.042 | 11.21  | 169.243\n",
       "49.89         | Los Angeles       | 101.72 | 0.042 | 11.21  | 163.328\n",
       "... (7901 rows omitted)"
      ]
     },
     "execution_count": 19,
     "metadata": {},
     "output_type": "execute_result"
    }
   ],
   "source": [
    "# SOLUTION\n",
    "highest_diesel = asthma_data.sort(\"Diesel.PM\", descending=True)\n",
    "highest_diesel"
   ]
  },
  {
   "cell_type": "markdown",
   "id": "1499fe60",
   "metadata": {},
   "source": [
    "The first ten counties in your table(s) might look similar to those in the `highest_asthma` table. They also might not.\n",
    "\n",
    "If the counties are similar in any table to the `highest_asthma` table, explain why you think that might be. For all other tables, describe anything interesting you see."
   ]
  },
  {
   "cell_type": "markdown",
   "id": "6579a47a",
   "metadata": {},
   "source": [
    "_Written Answer:_"
   ]
  },
  {
   "cell_type": "markdown",
   "id": "ed3ce05e",
   "metadata": {},
   "source": [
    "## 3. Looking at the Range of Values <a id='section 3'></a>\n",
    "\n",
    "It's important to know how the values in each column are measured and interpreted. We might assume that we're looking at counts or percentages, but sometimes data is collected in an unconventional way or in a way that we hadn't thought about.\n",
    "\n",
    "Consult the CalEnviroScreen report to learn a little more about asthma and the three features you chose. Then answer the following question about them.\n",
    "\n",
    " <div class=\"alert alert-warning\">\n",
    "<b>PRACTICE:</b> Find out the range (the difference between the largest number and smallest number) of values in the \"Asthma\" column. To do so, use the tables you created in the previous section. Feel free to also create new tables that are similar to them. Once you see the range of numbers, write down how you think \"Asthma\" might have been measured. Then, check the CalEnviroScreen report to check whether your guess was correct, and list how the measurement differed. Then, repeat this process for the features you chose.\n",
    "    </div>"
   ]
  },
  {
   "cell_type": "code",
   "execution_count": null,
   "id": "cc31a3f1",
   "metadata": {},
   "outputs": [],
   "source": [
    "# find the largest asthma value\n",
    "asthma_largest = ...\n",
    "\n",
    "# create a new table of the counties with the lowest asthma values\n",
    "# then find the smallest value and the difference\n",
    "lowest_asthma = ...\n",
    "asthma_smallest = ...\n",
    "\n",
    "asthma_diff = ...\n",
    "\n",
    "print(\"The largest value in the Asthma column is \", asthma_largest, \".\")\n",
    "print(\"The smallest value in the Asthma column is \", asthma_smallest, \".\")\n",
    "print(\"The range in the Asthma column is \", asthma_diff, \".\")"
   ]
  },
  {
   "cell_type": "code",
   "execution_count": null,
   "id": "c4cdf1e7",
   "metadata": {},
   "outputs": [],
   "source": [
    "# SOLUTION\n",
    "asthma_largest = highest_asthma.column(\"Asthma\").item(0)\n",
    "\n",
    "lowest_asthma = asthma_data.sort(\"Asthma\")\n",
    "asthma_smallest = lowest_asthma.column(\"Asthma\").item(0)\n",
    "\n",
    "asthma_diff = asthma_largest - asthma_smallest\n",
    "\n",
    "print(\"The largest value in the Asthma column is \", asthma_largest, \".\")\n",
    "print(\"The smallest value in the Asthma column is \", asthma_smallest, \".\")\n",
    "print(\"The range in the Asthma column is \", asthma_diff, \".\")"
   ]
  },
  {
   "cell_type": "markdown",
   "id": "6b047f53",
   "metadata": {},
   "source": [
    "_Written Answer:_"
   ]
  },
  {
   "cell_type": "code",
   "execution_count": null,
   "id": "c099285d",
   "metadata": {},
   "outputs": [],
   "source": [
    "# first characteristic\n",
    "# do a similar process as you did in the cell before\n",
    "# feel free to copy and paste code but be sure to change any names that would differ\n",
    "..."
   ]
  },
  {
   "cell_type": "code",
   "execution_count": null,
   "id": "078c9e0f",
   "metadata": {},
   "outputs": [],
   "source": [
    "# SOLUTION\n",
    "ozone_largest = highest_ozone.column(\"Ozone\").item(0)\n",
    "\n",
    "lowest_ozone = asthma_data.sort(\"Ozone\")\n",
    "ozone_smallest = lowest_ozone.column(\"Ozone\").item(0)\n",
    "ozone_diff = ozone_largest - ozone_smallest\n",
    "\n",
    "print(\"The largest value in the ... column is \", ozone_largest, \".\")\n",
    "print(\"The smallest value in the ... column is \", ozone_smallest, \".\")\n",
    "print(\"The range in the ... column is \", ozone_diff, \".\")"
   ]
  },
  {
   "cell_type": "markdown",
   "id": "2bfd7775",
   "metadata": {},
   "source": [
    "_Written Answer:_"
   ]
  },
  {
   "cell_type": "code",
   "execution_count": null,
   "id": "8bb6d3f8",
   "metadata": {},
   "outputs": [],
   "source": [
    "# second characteristic\n",
    "# do a similar process as you did in the cell before\n",
    "# feel free to copy and paste code but be sure to change any names that would differ\n",
    "..."
   ]
  },
  {
   "cell_type": "code",
   "execution_count": null,
   "id": "2548c7cd",
   "metadata": {},
   "outputs": [],
   "source": [
    "# SOLUTION\n",
    "pm25_largest = highest_pm25.column(\"PM2.5\").item(0)\n",
    "\n",
    "lowest_pm25 = asthma_data.sort(\"PM2.5\")\n",
    "pm25_smallest = lowest_pm25.column(\"PM2.5\").item(0)\n",
    "pm25_diff = pm25_largest - pm25_smallest\n",
    "\n",
    "print(\"The largest value in the ... column is \", pm25_largest, \".\")\n",
    "print(\"The smallest value in the ... column is \", pm25_smallest, \".\")\n",
    "print(\"The range in the ... column is \", pm25_diff, \".\")"
   ]
  },
  {
   "cell_type": "markdown",
   "id": "5bb8c9d2",
   "metadata": {},
   "source": [
    "_Written Answer:_"
   ]
  },
  {
   "cell_type": "code",
   "execution_count": null,
   "id": "b51ba5c1",
   "metadata": {},
   "outputs": [],
   "source": [
    "# third characteristic\n",
    "# do a similar process as you did in the cell before\n",
    "# feel free to copy and paste code but be sure to change any names that would differ\n",
    "..."
   ]
  },
  {
   "cell_type": "code",
   "execution_count": null,
   "id": "42d70485",
   "metadata": {},
   "outputs": [],
   "source": [
    "# SOLUTION\n",
    "diesel_largest = highest_diesel.column(\"Diesel.PM\").item(0)\n",
    "\n",
    "lowest_diesel = asthma_data.sort(\"Diesel.PM\")\n",
    "diesel_smallest = lowest_diesel.column(\"Diesel.PM\").item(0)\n",
    "diesel_diff = diesel_largest - diesel_smallest\n",
    "\n",
    "print(\"The largest value in the ... column is \", diesel_largest, \".\")\n",
    "print(\"The smallest value in the ... column is \", diesel_smallest, \".\")\n",
    "print(\"The range in the ... column is \", diesel_diff, \".\")"
   ]
  },
  {
   "cell_type": "markdown",
   "id": "e3f4396d",
   "metadata": {},
   "source": [
    "_Written Answer:_"
   ]
  },
  {
   "cell_type": "markdown",
   "id": "ebff3e41",
   "metadata": {},
   "source": [
    "That process might have been tedious, but you might have learned a lot about the values under each column. For example, do you feel like we can make comparisons between the different characteristics using these scales?\n",
    "\n",
    "Recall how [CES scores](https://drive.google.com/file/d/1i8Jr_y_Q49Kkf2fTzcwYXh-uYUIjiHlJ/view) are calculated. What problems could arise with the CalEnviroScreen formula if some of our characteristics tend to be really small while others are really large and if some of our characteristics have a wide range while others do not?"
   ]
  },
  {
   "cell_type": "markdown",
   "id": "08ccabcd",
   "metadata": {},
   "source": [
    "_Written Answer:_"
   ]
  },
  {
   "cell_type": "markdown",
   "id": "6dfc667a",
   "metadata": {},
   "source": [
    "Now that we know how a CES score is calculated and what pitfalls might come with it, let's look at the range of CES scores for counties. Because there's so many different ways to code the same result, we'll do this section a little bit differently from what we did before. This way, you'll get exposure to a variety of methods.\n",
    "\n",
    "To simplify this task, let's only look at bay area counties. Assign the variable `bay_counties` to an array of bay area counties. Recall that in Report 03, we encountered some column names that were labeled weirdly. Some of the values under \"California.County\" might also be labeled like this, so try accessing some of those values or adding whitespace to your strings.\n",
    "\n",
    "Again, you don't need to understand what is happening in the last line; just know that it is filtering out all non-bay area counties."
   ]
  },
  {
   "cell_type": "code",
   "execution_count": null,
   "id": "93cd0be0",
   "metadata": {},
   "outputs": [],
   "source": [
    "bay_counties = ...\n",
    "\n",
    "bay_data = asthma_data.where(\"California.County\", are.contained_in(bay_counties))\n",
    "bay_data"
   ]
  },
  {
   "cell_type": "code",
   "execution_count": null,
   "id": "298e79f9",
   "metadata": {},
   "outputs": [],
   "source": [
    "# SOLUTION\n",
    "bay_counties = make_array(\"Alameda \", \"Contra Costa\", \"Marin \", \"Napa \", \"San Francisco\", \n",
    "                          \"San Mateo\", \"Santa Clara\", \"Solano \", \"Sonoma \")\n",
    "\n",
    "bay_data = asthma_data.where(\"California.County\", are.contained_in(bay_counties))\n",
    "bay_data"
   ]
  },
  {
   "cell_type": "markdown",
   "id": "b10a93fe",
   "metadata": {},
   "source": [
    "<div class=\"alert alert-warning\">\n",
    "<b>PRACTICE:</b> Now that we are only working with bay area data, let's try to find the highest CES scores for each county. Create a table that contains the name of the county and its highest CES score. Try thinking of a way that we can do this using the <code>sort</code> method.\n",
    "    </div>"
   ]
  },
  {
   "cell_type": "code",
   "execution_count": null,
   "id": "eb0b8b4d",
   "metadata": {},
   "outputs": [],
   "source": [
    "bay_highest_ces = bay_data.sort(\"CES.3.0.Score\", descending=True).sort(\"California.County\", distinct=True)\n",
    "bay_highest_ces = bay_highest_ces.select(\"CES.3.0.Score\", \"California.County\")\n",
    "bay_highest_ces"
   ]
  },
  {
   "cell_type": "markdown",
   "id": "db7955a4",
   "metadata": {},
   "source": [
    "Once you've done that, repeat the process for the *lowest* CES scores of each county. Then, describe the discrepancies you see in CES scores. Why might we see such large (or small discrepancies)? Do you have background knowledge on these counties that might explain what you see? Discuss with your team."
   ]
  },
  {
   "cell_type": "code",
   "execution_count": null,
   "id": "5b77fdd1",
   "metadata": {},
   "outputs": [],
   "source": [
    "bay_lowest_ces = bay_data.sort(\"CES.3.0.Score\").sort(\"California.County\", distinct=True)\n",
    "bay_lowest_ces = bay_lowest_ces.select(\"CES.3.0.Score\", \"California.County\")\n",
    "bay_lowest_ces"
   ]
  },
  {
   "cell_type": "markdown",
   "id": "09c2d179",
   "metadata": {},
   "source": [
    "_Written Answer:_"
   ]
  },
  {
   "cell_type": "markdown",
   "id": "37dc82fb",
   "metadata": {},
   "source": [
    "### Downloading as PDF\n",
    "\n",
    "Download this notebook as a pdf by clicking <b><code>File > Download as > PDF via LaTeX</code></b>. Turn in the PDF into bCourses under the corresponding assignment."
   ]
  }
 ],
 "metadata": {
  "kernelspec": {
   "display_name": "Python 3 (ipykernel)",
   "language": "python",
   "name": "python3"
  },
  "language_info": {
   "codemirror_mode": {
    "name": "ipython",
    "version": 3
   },
   "file_extension": ".py",
   "mimetype": "text/x-python",
   "name": "python",
   "nbconvert_exporter": "python",
   "pygments_lexer": "ipython3",
   "version": "3.9.13"
  }
 },
 "nbformat": 4,
 "nbformat_minor": 5
}
